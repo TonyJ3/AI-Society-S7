{
 "cells": [
  {
   "cell_type": "markdown",
   "metadata": {},
   "source": [
    "# Top Hit Song Prediction\n",
    "This is to test the top song prediction."
   ]
  },
  {
   "cell_type": "markdown",
   "metadata": {},
   "source": [
    "## Dependecy\n",
    "Here are the depedency that I'm currently using to helping run the prediction and handling the data."
   ]
  },
  {
   "cell_type": "code",
   "execution_count": 1,
   "metadata": {},
   "outputs": [],
   "source": [
    "import pandas as pd\n",
    "import matplotlib.pyplot as plt\n",
    "import seaborn as sns\n",
    "import plotly.graph_objects as go"
   ]
  },
  {
   "cell_type": "markdown",
   "metadata": {},
   "source": [
    "## Cleaning Data\n",
    "Before we begin with anything, the data should be cleaned first."
   ]
  },
  {
   "cell_type": "markdown",
   "metadata": {},
   "source": [
    "### Remove Missing Data\n",
    "For High popularity"
   ]
  },
  {
   "cell_type": "code",
   "execution_count": 2,
   "metadata": {},
   "outputs": [
    {
     "name": "stdout",
     "output_type": "stream",
     "text": [
      "energy                      0\n",
      "tempo                       0\n",
      "danceability                0\n",
      "playlist_genre              0\n",
      "loudness                    0\n",
      "liveness                    0\n",
      "valence                     0\n",
      "track_artist                0\n",
      "time_signature              0\n",
      "speechiness                 0\n",
      "track_popularity            0\n",
      "track_name                  0\n",
      "track_album_release_date    0\n",
      "instrumentalness            0\n",
      "mode                        0\n",
      "key                         0\n",
      "duration_ms                 0\n",
      "acousticness                0\n",
      "id                          0\n",
      "playlist_subgenre           0\n",
      "dtype: int64\n"
     ]
    }
   ],
   "source": [
    "# Add csv data to songs\n",
    "high_song_popularity = pd.read_csv(\"high_popularity_spotify_data.csv\")\n",
    "\n",
    "# Drop useless column\n",
    "high_song_popularity.drop(columns=['track_href', 'uri', 'track_album_name', 'playlist_name', 'analysis_url',\n",
    "                                    'track_id', 'track_album_id', 'type', 'playlist_id'], inplace=True)\n",
    "\n",
    "# Show the total number of null in each column.\n",
    "print(high_song_popularity.isnull().sum())"
   ]
  },
  {
   "cell_type": "markdown",
   "metadata": {},
   "source": [
    "For low popularity"
   ]
  },
  {
   "cell_type": "code",
   "execution_count": 3,
   "metadata": {},
   "outputs": [
    {
     "name": "stdout",
     "output_type": "stream",
     "text": [
      "time_signature              0\n",
      "track_popularity            0\n",
      "speechiness                 0\n",
      "danceability                0\n",
      "track_artist                0\n",
      "duration_ms                 0\n",
      "energy                      0\n",
      "playlist_genre              0\n",
      "playlist_subgenre           0\n",
      "track_name                  0\n",
      "mode                        0\n",
      "track_album_release_date    0\n",
      "id                          0\n",
      "instrumentalness            0\n",
      "valence                     0\n",
      "key                         0\n",
      "tempo                       0\n",
      "loudness                    0\n",
      "acousticness                0\n",
      "liveness                    0\n",
      "dtype: int64\n"
     ]
    }
   ],
   "source": [
    "# Add csv data to songs\n",
    "low_song_popularity = pd.read_csv(\"low_popularity_spotify_data.csv\")\n",
    "\n",
    "# Drop useless column\n",
    "low_song_popularity.drop(columns=['track_href', 'uri', 'track_album_name', 'playlist_name', 'analysis_url',\n",
    "                                    'track_id', 'track_album_id', 'type', 'playlist_id'], inplace=True)\n",
    "\n",
    "# Drop row containing null for time_signature\n",
    "low_song_popularity = low_song_popularity.dropna(subset='time_signature')\n",
    "\n",
    "# Show the total number of null in each column.\n",
    "print(low_song_popularity.isnull().sum())"
   ]
  },
  {
   "cell_type": "markdown",
   "metadata": {},
   "source": [
    "## Visualization and analyze trends\n"
   ]
  },
  {
   "cell_type": "markdown",
   "metadata": {},
   "source": [
    "### Popular vs Non-popular\n"
   ]
  },
  {
   "cell_type": "code",
   "execution_count": 5,
   "metadata": {},
   "outputs": [
    {
     "name": "stdout",
     "output_type": "stream",
     "text": [
      "popular track for high avarage popularity: 75.80604982206405\n",
      "max popular track for high avarage popularity: 100\n",
      "min popular track for high avarage popularity: 68\n",
      "features for popularity\n",
      "energy              0.667216\n",
      "danceability        0.650362\n",
      "valence             0.525737\n",
      "acousticness        0.221220\n",
      "instrumentalness    0.041520\n",
      "dtype: float64\n",
      "tempo       121.070938\n",
      "loudness     -6.704131\n",
      "dtype: float64\n",
      "popular track for low avarage popularity: 43.47709923664122\n",
      "max popular track for low avarage popularity: 68\n",
      "min popular track for low avarage popularity: 11\n",
      "features for non popularity\n",
      "energy              0.543509\n",
      "danceability        0.607268\n",
      "valence             0.458438\n",
      "acousticness        0.405567\n",
      "instrumentalness    0.286603\n",
      "dtype: float64\n",
      "tempo       116.766884\n",
      "loudness    -10.663833\n",
      "dtype: float64\n",
      "the number of high popularity for 68:  124  and for low popularity for 68: 45\n"
     ]
    },
    {
     "data": {
      "application/vnd.plotly.v1+json": {
       "config": {
        "plotlyServerURL": "https://plot.ly"
       },
       "data": [
        {
         "marker": {
          "color": "green"
         },
         "name": "Popular songs",
         "type": "bar",
         "x": [
          "energy",
          "danceability",
          "valence",
          "acousticness",
          "instrumentalness"
         ],
         "y": {
          "bdata": "GfrnhdVZ5T/9DlqOw8/kP6mdpm3V0uA/WmnV8utQzD9VW6FRKkKlPw==",
          "dtype": "f8"
         }
        },
        {
         "marker": {
          "color": "blue"
         },
         "name": "Non-popular songs",
         "type": "bar",
         "x": [
          "energy",
          "danceability",
          "valence",
          "acousticness",
          "instrumentalness"
         ],
         "y": {
          "bdata": "9C19fmxk4T9Y5jAKvm7jP+JRM+gKV90/ZggWOM702T88Nsb+tFfSPw==",
          "dtype": "f8"
         }
        }
       ],
       "layout": {
        "barmode": "group",
        "height": 500,
        "template": {
         "data": {
          "bar": [
           {
            "error_x": {
             "color": "#f2f5fa"
            },
            "error_y": {
             "color": "#f2f5fa"
            },
            "marker": {
             "line": {
              "color": "rgb(17,17,17)",
              "width": 0.5
             },
             "pattern": {
              "fillmode": "overlay",
              "size": 10,
              "solidity": 0.2
             }
            },
            "type": "bar"
           }
          ],
          "barpolar": [
           {
            "marker": {
             "line": {
              "color": "rgb(17,17,17)",
              "width": 0.5
             },
             "pattern": {
              "fillmode": "overlay",
              "size": 10,
              "solidity": 0.2
             }
            },
            "type": "barpolar"
           }
          ],
          "carpet": [
           {
            "aaxis": {
             "endlinecolor": "#A2B1C6",
             "gridcolor": "#506784",
             "linecolor": "#506784",
             "minorgridcolor": "#506784",
             "startlinecolor": "#A2B1C6"
            },
            "baxis": {
             "endlinecolor": "#A2B1C6",
             "gridcolor": "#506784",
             "linecolor": "#506784",
             "minorgridcolor": "#506784",
             "startlinecolor": "#A2B1C6"
            },
            "type": "carpet"
           }
          ],
          "choropleth": [
           {
            "colorbar": {
             "outlinewidth": 0,
             "ticks": ""
            },
            "type": "choropleth"
           }
          ],
          "contour": [
           {
            "colorbar": {
             "outlinewidth": 0,
             "ticks": ""
            },
            "colorscale": [
             [
              0,
              "#0d0887"
             ],
             [
              0.1111111111111111,
              "#46039f"
             ],
             [
              0.2222222222222222,
              "#7201a8"
             ],
             [
              0.3333333333333333,
              "#9c179e"
             ],
             [
              0.4444444444444444,
              "#bd3786"
             ],
             [
              0.5555555555555556,
              "#d8576b"
             ],
             [
              0.6666666666666666,
              "#ed7953"
             ],
             [
              0.7777777777777778,
              "#fb9f3a"
             ],
             [
              0.8888888888888888,
              "#fdca26"
             ],
             [
              1,
              "#f0f921"
             ]
            ],
            "type": "contour"
           }
          ],
          "contourcarpet": [
           {
            "colorbar": {
             "outlinewidth": 0,
             "ticks": ""
            },
            "type": "contourcarpet"
           }
          ],
          "heatmap": [
           {
            "colorbar": {
             "outlinewidth": 0,
             "ticks": ""
            },
            "colorscale": [
             [
              0,
              "#0d0887"
             ],
             [
              0.1111111111111111,
              "#46039f"
             ],
             [
              0.2222222222222222,
              "#7201a8"
             ],
             [
              0.3333333333333333,
              "#9c179e"
             ],
             [
              0.4444444444444444,
              "#bd3786"
             ],
             [
              0.5555555555555556,
              "#d8576b"
             ],
             [
              0.6666666666666666,
              "#ed7953"
             ],
             [
              0.7777777777777778,
              "#fb9f3a"
             ],
             [
              0.8888888888888888,
              "#fdca26"
             ],
             [
              1,
              "#f0f921"
             ]
            ],
            "type": "heatmap"
           }
          ],
          "histogram": [
           {
            "marker": {
             "pattern": {
              "fillmode": "overlay",
              "size": 10,
              "solidity": 0.2
             }
            },
            "type": "histogram"
           }
          ],
          "histogram2d": [
           {
            "colorbar": {
             "outlinewidth": 0,
             "ticks": ""
            },
            "colorscale": [
             [
              0,
              "#0d0887"
             ],
             [
              0.1111111111111111,
              "#46039f"
             ],
             [
              0.2222222222222222,
              "#7201a8"
             ],
             [
              0.3333333333333333,
              "#9c179e"
             ],
             [
              0.4444444444444444,
              "#bd3786"
             ],
             [
              0.5555555555555556,
              "#d8576b"
             ],
             [
              0.6666666666666666,
              "#ed7953"
             ],
             [
              0.7777777777777778,
              "#fb9f3a"
             ],
             [
              0.8888888888888888,
              "#fdca26"
             ],
             [
              1,
              "#f0f921"
             ]
            ],
            "type": "histogram2d"
           }
          ],
          "histogram2dcontour": [
           {
            "colorbar": {
             "outlinewidth": 0,
             "ticks": ""
            },
            "colorscale": [
             [
              0,
              "#0d0887"
             ],
             [
              0.1111111111111111,
              "#46039f"
             ],
             [
              0.2222222222222222,
              "#7201a8"
             ],
             [
              0.3333333333333333,
              "#9c179e"
             ],
             [
              0.4444444444444444,
              "#bd3786"
             ],
             [
              0.5555555555555556,
              "#d8576b"
             ],
             [
              0.6666666666666666,
              "#ed7953"
             ],
             [
              0.7777777777777778,
              "#fb9f3a"
             ],
             [
              0.8888888888888888,
              "#fdca26"
             ],
             [
              1,
              "#f0f921"
             ]
            ],
            "type": "histogram2dcontour"
           }
          ],
          "mesh3d": [
           {
            "colorbar": {
             "outlinewidth": 0,
             "ticks": ""
            },
            "type": "mesh3d"
           }
          ],
          "parcoords": [
           {
            "line": {
             "colorbar": {
              "outlinewidth": 0,
              "ticks": ""
             }
            },
            "type": "parcoords"
           }
          ],
          "pie": [
           {
            "automargin": true,
            "type": "pie"
           }
          ],
          "scatter": [
           {
            "marker": {
             "line": {
              "color": "#283442"
             }
            },
            "type": "scatter"
           }
          ],
          "scatter3d": [
           {
            "line": {
             "colorbar": {
              "outlinewidth": 0,
              "ticks": ""
             }
            },
            "marker": {
             "colorbar": {
              "outlinewidth": 0,
              "ticks": ""
             }
            },
            "type": "scatter3d"
           }
          ],
          "scattercarpet": [
           {
            "marker": {
             "colorbar": {
              "outlinewidth": 0,
              "ticks": ""
             }
            },
            "type": "scattercarpet"
           }
          ],
          "scattergeo": [
           {
            "marker": {
             "colorbar": {
              "outlinewidth": 0,
              "ticks": ""
             }
            },
            "type": "scattergeo"
           }
          ],
          "scattergl": [
           {
            "marker": {
             "line": {
              "color": "#283442"
             }
            },
            "type": "scattergl"
           }
          ],
          "scattermap": [
           {
            "marker": {
             "colorbar": {
              "outlinewidth": 0,
              "ticks": ""
             }
            },
            "type": "scattermap"
           }
          ],
          "scattermapbox": [
           {
            "marker": {
             "colorbar": {
              "outlinewidth": 0,
              "ticks": ""
             }
            },
            "type": "scattermapbox"
           }
          ],
          "scatterpolar": [
           {
            "marker": {
             "colorbar": {
              "outlinewidth": 0,
              "ticks": ""
             }
            },
            "type": "scatterpolar"
           }
          ],
          "scatterpolargl": [
           {
            "marker": {
             "colorbar": {
              "outlinewidth": 0,
              "ticks": ""
             }
            },
            "type": "scatterpolargl"
           }
          ],
          "scatterternary": [
           {
            "marker": {
             "colorbar": {
              "outlinewidth": 0,
              "ticks": ""
             }
            },
            "type": "scatterternary"
           }
          ],
          "surface": [
           {
            "colorbar": {
             "outlinewidth": 0,
             "ticks": ""
            },
            "colorscale": [
             [
              0,
              "#0d0887"
             ],
             [
              0.1111111111111111,
              "#46039f"
             ],
             [
              0.2222222222222222,
              "#7201a8"
             ],
             [
              0.3333333333333333,
              "#9c179e"
             ],
             [
              0.4444444444444444,
              "#bd3786"
             ],
             [
              0.5555555555555556,
              "#d8576b"
             ],
             [
              0.6666666666666666,
              "#ed7953"
             ],
             [
              0.7777777777777778,
              "#fb9f3a"
             ],
             [
              0.8888888888888888,
              "#fdca26"
             ],
             [
              1,
              "#f0f921"
             ]
            ],
            "type": "surface"
           }
          ],
          "table": [
           {
            "cells": {
             "fill": {
              "color": "#506784"
             },
             "line": {
              "color": "rgb(17,17,17)"
             }
            },
            "header": {
             "fill": {
              "color": "#2a3f5f"
             },
             "line": {
              "color": "rgb(17,17,17)"
             }
            },
            "type": "table"
           }
          ]
         },
         "layout": {
          "annotationdefaults": {
           "arrowcolor": "#f2f5fa",
           "arrowhead": 0,
           "arrowwidth": 1
          },
          "autotypenumbers": "strict",
          "coloraxis": {
           "colorbar": {
            "outlinewidth": 0,
            "ticks": ""
           }
          },
          "colorscale": {
           "diverging": [
            [
             0,
             "#8e0152"
            ],
            [
             0.1,
             "#c51b7d"
            ],
            [
             0.2,
             "#de77ae"
            ],
            [
             0.3,
             "#f1b6da"
            ],
            [
             0.4,
             "#fde0ef"
            ],
            [
             0.5,
             "#f7f7f7"
            ],
            [
             0.6,
             "#e6f5d0"
            ],
            [
             0.7,
             "#b8e186"
            ],
            [
             0.8,
             "#7fbc41"
            ],
            [
             0.9,
             "#4d9221"
            ],
            [
             1,
             "#276419"
            ]
           ],
           "sequential": [
            [
             0,
             "#0d0887"
            ],
            [
             0.1111111111111111,
             "#46039f"
            ],
            [
             0.2222222222222222,
             "#7201a8"
            ],
            [
             0.3333333333333333,
             "#9c179e"
            ],
            [
             0.4444444444444444,
             "#bd3786"
            ],
            [
             0.5555555555555556,
             "#d8576b"
            ],
            [
             0.6666666666666666,
             "#ed7953"
            ],
            [
             0.7777777777777778,
             "#fb9f3a"
            ],
            [
             0.8888888888888888,
             "#fdca26"
            ],
            [
             1,
             "#f0f921"
            ]
           ],
           "sequentialminus": [
            [
             0,
             "#0d0887"
            ],
            [
             0.1111111111111111,
             "#46039f"
            ],
            [
             0.2222222222222222,
             "#7201a8"
            ],
            [
             0.3333333333333333,
             "#9c179e"
            ],
            [
             0.4444444444444444,
             "#bd3786"
            ],
            [
             0.5555555555555556,
             "#d8576b"
            ],
            [
             0.6666666666666666,
             "#ed7953"
            ],
            [
             0.7777777777777778,
             "#fb9f3a"
            ],
            [
             0.8888888888888888,
             "#fdca26"
            ],
            [
             1,
             "#f0f921"
            ]
           ]
          },
          "colorway": [
           "#636efa",
           "#EF553B",
           "#00cc96",
           "#ab63fa",
           "#FFA15A",
           "#19d3f3",
           "#FF6692",
           "#B6E880",
           "#FF97FF",
           "#FECB52"
          ],
          "font": {
           "color": "#f2f5fa"
          },
          "geo": {
           "bgcolor": "rgb(17,17,17)",
           "lakecolor": "rgb(17,17,17)",
           "landcolor": "rgb(17,17,17)",
           "showlakes": true,
           "showland": true,
           "subunitcolor": "#506784"
          },
          "hoverlabel": {
           "align": "left"
          },
          "hovermode": "closest",
          "mapbox": {
           "style": "dark"
          },
          "paper_bgcolor": "rgb(17,17,17)",
          "plot_bgcolor": "rgb(17,17,17)",
          "polar": {
           "angularaxis": {
            "gridcolor": "#506784",
            "linecolor": "#506784",
            "ticks": ""
           },
           "bgcolor": "rgb(17,17,17)",
           "radialaxis": {
            "gridcolor": "#506784",
            "linecolor": "#506784",
            "ticks": ""
           }
          },
          "scene": {
           "xaxis": {
            "backgroundcolor": "rgb(17,17,17)",
            "gridcolor": "#506784",
            "gridwidth": 2,
            "linecolor": "#506784",
            "showbackground": true,
            "ticks": "",
            "zerolinecolor": "#C8D4E3"
           },
           "yaxis": {
            "backgroundcolor": "rgb(17,17,17)",
            "gridcolor": "#506784",
            "gridwidth": 2,
            "linecolor": "#506784",
            "showbackground": true,
            "ticks": "",
            "zerolinecolor": "#C8D4E3"
           },
           "zaxis": {
            "backgroundcolor": "rgb(17,17,17)",
            "gridcolor": "#506784",
            "gridwidth": 2,
            "linecolor": "#506784",
            "showbackground": true,
            "ticks": "",
            "zerolinecolor": "#C8D4E3"
           }
          },
          "shapedefaults": {
           "line": {
            "color": "#f2f5fa"
           }
          },
          "sliderdefaults": {
           "bgcolor": "#C8D4E3",
           "bordercolor": "rgb(17,17,17)",
           "borderwidth": 1,
           "tickwidth": 0
          },
          "ternary": {
           "aaxis": {
            "gridcolor": "#506784",
            "linecolor": "#506784",
            "ticks": ""
           },
           "baxis": {
            "gridcolor": "#506784",
            "linecolor": "#506784",
            "ticks": ""
           },
           "bgcolor": "rgb(17,17,17)",
           "caxis": {
            "gridcolor": "#506784",
            "linecolor": "#506784",
            "ticks": ""
           }
          },
          "title": {
           "x": 0.05
          },
          "updatemenudefaults": {
           "bgcolor": "#506784",
           "borderwidth": 0
          },
          "xaxis": {
           "automargin": true,
           "gridcolor": "#283442",
           "linecolor": "#506784",
           "ticks": "",
           "title": {
            "standoff": 15
           },
           "zerolinecolor": "#283442",
           "zerolinewidth": 2
          },
          "yaxis": {
           "automargin": true,
           "gridcolor": "#283442",
           "linecolor": "#506784",
           "ticks": "",
           "title": {
            "standoff": 15
           },
           "zerolinecolor": "#283442",
           "zerolinewidth": 2
          }
         }
        },
        "title": {
         "text": "Normalize Feature Comparison: Popular vs. Non-Popular Songs"
        },
        "xaxis": {
         "title": {
          "text": "Features"
         }
        },
        "yaxis": {
         "title": {
          "text": "Average (0 - 1 scale)"
         }
        }
       }
      }
     },
     "metadata": {},
     "output_type": "display_data"
    },
    {
     "data": {
      "application/vnd.plotly.v1+json": {
       "config": {
        "plotlyServerURL": "https://plot.ly"
       },
       "data": [
        {
         "marker": {
          "color": "green"
         },
         "name": "Popular songs",
         "type": "bar",
         "x": [
          "tempo",
          "loudness"
         ],
         "y": {
          "bdata": "K3ZfPopEXkBa0tm8B9EawA==",
          "dtype": "f8"
         }
        },
        {
         "marker": {
          "color": "blue"
         },
         "name": "Non-popular songs",
         "type": "bar",
         "x": [
          "tempo",
          "loudness"
         ],
         "y": {
          "bdata": "HWORoRQxXUCbUnH24VMlwA==",
          "dtype": "f8"
         }
        }
       ],
       "layout": {
        "barmode": "group",
        "height": 500,
        "template": {
         "data": {
          "bar": [
           {
            "error_x": {
             "color": "#f2f5fa"
            },
            "error_y": {
             "color": "#f2f5fa"
            },
            "marker": {
             "line": {
              "color": "rgb(17,17,17)",
              "width": 0.5
             },
             "pattern": {
              "fillmode": "overlay",
              "size": 10,
              "solidity": 0.2
             }
            },
            "type": "bar"
           }
          ],
          "barpolar": [
           {
            "marker": {
             "line": {
              "color": "rgb(17,17,17)",
              "width": 0.5
             },
             "pattern": {
              "fillmode": "overlay",
              "size": 10,
              "solidity": 0.2
             }
            },
            "type": "barpolar"
           }
          ],
          "carpet": [
           {
            "aaxis": {
             "endlinecolor": "#A2B1C6",
             "gridcolor": "#506784",
             "linecolor": "#506784",
             "minorgridcolor": "#506784",
             "startlinecolor": "#A2B1C6"
            },
            "baxis": {
             "endlinecolor": "#A2B1C6",
             "gridcolor": "#506784",
             "linecolor": "#506784",
             "minorgridcolor": "#506784",
             "startlinecolor": "#A2B1C6"
            },
            "type": "carpet"
           }
          ],
          "choropleth": [
           {
            "colorbar": {
             "outlinewidth": 0,
             "ticks": ""
            },
            "type": "choropleth"
           }
          ],
          "contour": [
           {
            "colorbar": {
             "outlinewidth": 0,
             "ticks": ""
            },
            "colorscale": [
             [
              0,
              "#0d0887"
             ],
             [
              0.1111111111111111,
              "#46039f"
             ],
             [
              0.2222222222222222,
              "#7201a8"
             ],
             [
              0.3333333333333333,
              "#9c179e"
             ],
             [
              0.4444444444444444,
              "#bd3786"
             ],
             [
              0.5555555555555556,
              "#d8576b"
             ],
             [
              0.6666666666666666,
              "#ed7953"
             ],
             [
              0.7777777777777778,
              "#fb9f3a"
             ],
             [
              0.8888888888888888,
              "#fdca26"
             ],
             [
              1,
              "#f0f921"
             ]
            ],
            "type": "contour"
           }
          ],
          "contourcarpet": [
           {
            "colorbar": {
             "outlinewidth": 0,
             "ticks": ""
            },
            "type": "contourcarpet"
           }
          ],
          "heatmap": [
           {
            "colorbar": {
             "outlinewidth": 0,
             "ticks": ""
            },
            "colorscale": [
             [
              0,
              "#0d0887"
             ],
             [
              0.1111111111111111,
              "#46039f"
             ],
             [
              0.2222222222222222,
              "#7201a8"
             ],
             [
              0.3333333333333333,
              "#9c179e"
             ],
             [
              0.4444444444444444,
              "#bd3786"
             ],
             [
              0.5555555555555556,
              "#d8576b"
             ],
             [
              0.6666666666666666,
              "#ed7953"
             ],
             [
              0.7777777777777778,
              "#fb9f3a"
             ],
             [
              0.8888888888888888,
              "#fdca26"
             ],
             [
              1,
              "#f0f921"
             ]
            ],
            "type": "heatmap"
           }
          ],
          "histogram": [
           {
            "marker": {
             "pattern": {
              "fillmode": "overlay",
              "size": 10,
              "solidity": 0.2
             }
            },
            "type": "histogram"
           }
          ],
          "histogram2d": [
           {
            "colorbar": {
             "outlinewidth": 0,
             "ticks": ""
            },
            "colorscale": [
             [
              0,
              "#0d0887"
             ],
             [
              0.1111111111111111,
              "#46039f"
             ],
             [
              0.2222222222222222,
              "#7201a8"
             ],
             [
              0.3333333333333333,
              "#9c179e"
             ],
             [
              0.4444444444444444,
              "#bd3786"
             ],
             [
              0.5555555555555556,
              "#d8576b"
             ],
             [
              0.6666666666666666,
              "#ed7953"
             ],
             [
              0.7777777777777778,
              "#fb9f3a"
             ],
             [
              0.8888888888888888,
              "#fdca26"
             ],
             [
              1,
              "#f0f921"
             ]
            ],
            "type": "histogram2d"
           }
          ],
          "histogram2dcontour": [
           {
            "colorbar": {
             "outlinewidth": 0,
             "ticks": ""
            },
            "colorscale": [
             [
              0,
              "#0d0887"
             ],
             [
              0.1111111111111111,
              "#46039f"
             ],
             [
              0.2222222222222222,
              "#7201a8"
             ],
             [
              0.3333333333333333,
              "#9c179e"
             ],
             [
              0.4444444444444444,
              "#bd3786"
             ],
             [
              0.5555555555555556,
              "#d8576b"
             ],
             [
              0.6666666666666666,
              "#ed7953"
             ],
             [
              0.7777777777777778,
              "#fb9f3a"
             ],
             [
              0.8888888888888888,
              "#fdca26"
             ],
             [
              1,
              "#f0f921"
             ]
            ],
            "type": "histogram2dcontour"
           }
          ],
          "mesh3d": [
           {
            "colorbar": {
             "outlinewidth": 0,
             "ticks": ""
            },
            "type": "mesh3d"
           }
          ],
          "parcoords": [
           {
            "line": {
             "colorbar": {
              "outlinewidth": 0,
              "ticks": ""
             }
            },
            "type": "parcoords"
           }
          ],
          "pie": [
           {
            "automargin": true,
            "type": "pie"
           }
          ],
          "scatter": [
           {
            "marker": {
             "line": {
              "color": "#283442"
             }
            },
            "type": "scatter"
           }
          ],
          "scatter3d": [
           {
            "line": {
             "colorbar": {
              "outlinewidth": 0,
              "ticks": ""
             }
            },
            "marker": {
             "colorbar": {
              "outlinewidth": 0,
              "ticks": ""
             }
            },
            "type": "scatter3d"
           }
          ],
          "scattercarpet": [
           {
            "marker": {
             "colorbar": {
              "outlinewidth": 0,
              "ticks": ""
             }
            },
            "type": "scattercarpet"
           }
          ],
          "scattergeo": [
           {
            "marker": {
             "colorbar": {
              "outlinewidth": 0,
              "ticks": ""
             }
            },
            "type": "scattergeo"
           }
          ],
          "scattergl": [
           {
            "marker": {
             "line": {
              "color": "#283442"
             }
            },
            "type": "scattergl"
           }
          ],
          "scattermap": [
           {
            "marker": {
             "colorbar": {
              "outlinewidth": 0,
              "ticks": ""
             }
            },
            "type": "scattermap"
           }
          ],
          "scattermapbox": [
           {
            "marker": {
             "colorbar": {
              "outlinewidth": 0,
              "ticks": ""
             }
            },
            "type": "scattermapbox"
           }
          ],
          "scatterpolar": [
           {
            "marker": {
             "colorbar": {
              "outlinewidth": 0,
              "ticks": ""
             }
            },
            "type": "scatterpolar"
           }
          ],
          "scatterpolargl": [
           {
            "marker": {
             "colorbar": {
              "outlinewidth": 0,
              "ticks": ""
             }
            },
            "type": "scatterpolargl"
           }
          ],
          "scatterternary": [
           {
            "marker": {
             "colorbar": {
              "outlinewidth": 0,
              "ticks": ""
             }
            },
            "type": "scatterternary"
           }
          ],
          "surface": [
           {
            "colorbar": {
             "outlinewidth": 0,
             "ticks": ""
            },
            "colorscale": [
             [
              0,
              "#0d0887"
             ],
             [
              0.1111111111111111,
              "#46039f"
             ],
             [
              0.2222222222222222,
              "#7201a8"
             ],
             [
              0.3333333333333333,
              "#9c179e"
             ],
             [
              0.4444444444444444,
              "#bd3786"
             ],
             [
              0.5555555555555556,
              "#d8576b"
             ],
             [
              0.6666666666666666,
              "#ed7953"
             ],
             [
              0.7777777777777778,
              "#fb9f3a"
             ],
             [
              0.8888888888888888,
              "#fdca26"
             ],
             [
              1,
              "#f0f921"
             ]
            ],
            "type": "surface"
           }
          ],
          "table": [
           {
            "cells": {
             "fill": {
              "color": "#506784"
             },
             "line": {
              "color": "rgb(17,17,17)"
             }
            },
            "header": {
             "fill": {
              "color": "#2a3f5f"
             },
             "line": {
              "color": "rgb(17,17,17)"
             }
            },
            "type": "table"
           }
          ]
         },
         "layout": {
          "annotationdefaults": {
           "arrowcolor": "#f2f5fa",
           "arrowhead": 0,
           "arrowwidth": 1
          },
          "autotypenumbers": "strict",
          "coloraxis": {
           "colorbar": {
            "outlinewidth": 0,
            "ticks": ""
           }
          },
          "colorscale": {
           "diverging": [
            [
             0,
             "#8e0152"
            ],
            [
             0.1,
             "#c51b7d"
            ],
            [
             0.2,
             "#de77ae"
            ],
            [
             0.3,
             "#f1b6da"
            ],
            [
             0.4,
             "#fde0ef"
            ],
            [
             0.5,
             "#f7f7f7"
            ],
            [
             0.6,
             "#e6f5d0"
            ],
            [
             0.7,
             "#b8e186"
            ],
            [
             0.8,
             "#7fbc41"
            ],
            [
             0.9,
             "#4d9221"
            ],
            [
             1,
             "#276419"
            ]
           ],
           "sequential": [
            [
             0,
             "#0d0887"
            ],
            [
             0.1111111111111111,
             "#46039f"
            ],
            [
             0.2222222222222222,
             "#7201a8"
            ],
            [
             0.3333333333333333,
             "#9c179e"
            ],
            [
             0.4444444444444444,
             "#bd3786"
            ],
            [
             0.5555555555555556,
             "#d8576b"
            ],
            [
             0.6666666666666666,
             "#ed7953"
            ],
            [
             0.7777777777777778,
             "#fb9f3a"
            ],
            [
             0.8888888888888888,
             "#fdca26"
            ],
            [
             1,
             "#f0f921"
            ]
           ],
           "sequentialminus": [
            [
             0,
             "#0d0887"
            ],
            [
             0.1111111111111111,
             "#46039f"
            ],
            [
             0.2222222222222222,
             "#7201a8"
            ],
            [
             0.3333333333333333,
             "#9c179e"
            ],
            [
             0.4444444444444444,
             "#bd3786"
            ],
            [
             0.5555555555555556,
             "#d8576b"
            ],
            [
             0.6666666666666666,
             "#ed7953"
            ],
            [
             0.7777777777777778,
             "#fb9f3a"
            ],
            [
             0.8888888888888888,
             "#fdca26"
            ],
            [
             1,
             "#f0f921"
            ]
           ]
          },
          "colorway": [
           "#636efa",
           "#EF553B",
           "#00cc96",
           "#ab63fa",
           "#FFA15A",
           "#19d3f3",
           "#FF6692",
           "#B6E880",
           "#FF97FF",
           "#FECB52"
          ],
          "font": {
           "color": "#f2f5fa"
          },
          "geo": {
           "bgcolor": "rgb(17,17,17)",
           "lakecolor": "rgb(17,17,17)",
           "landcolor": "rgb(17,17,17)",
           "showlakes": true,
           "showland": true,
           "subunitcolor": "#506784"
          },
          "hoverlabel": {
           "align": "left"
          },
          "hovermode": "closest",
          "mapbox": {
           "style": "dark"
          },
          "paper_bgcolor": "rgb(17,17,17)",
          "plot_bgcolor": "rgb(17,17,17)",
          "polar": {
           "angularaxis": {
            "gridcolor": "#506784",
            "linecolor": "#506784",
            "ticks": ""
           },
           "bgcolor": "rgb(17,17,17)",
           "radialaxis": {
            "gridcolor": "#506784",
            "linecolor": "#506784",
            "ticks": ""
           }
          },
          "scene": {
           "xaxis": {
            "backgroundcolor": "rgb(17,17,17)",
            "gridcolor": "#506784",
            "gridwidth": 2,
            "linecolor": "#506784",
            "showbackground": true,
            "ticks": "",
            "zerolinecolor": "#C8D4E3"
           },
           "yaxis": {
            "backgroundcolor": "rgb(17,17,17)",
            "gridcolor": "#506784",
            "gridwidth": 2,
            "linecolor": "#506784",
            "showbackground": true,
            "ticks": "",
            "zerolinecolor": "#C8D4E3"
           },
           "zaxis": {
            "backgroundcolor": "rgb(17,17,17)",
            "gridcolor": "#506784",
            "gridwidth": 2,
            "linecolor": "#506784",
            "showbackground": true,
            "ticks": "",
            "zerolinecolor": "#C8D4E3"
           }
          },
          "shapedefaults": {
           "line": {
            "color": "#f2f5fa"
           }
          },
          "sliderdefaults": {
           "bgcolor": "#C8D4E3",
           "bordercolor": "rgb(17,17,17)",
           "borderwidth": 1,
           "tickwidth": 0
          },
          "ternary": {
           "aaxis": {
            "gridcolor": "#506784",
            "linecolor": "#506784",
            "ticks": ""
           },
           "baxis": {
            "gridcolor": "#506784",
            "linecolor": "#506784",
            "ticks": ""
           },
           "bgcolor": "rgb(17,17,17)",
           "caxis": {
            "gridcolor": "#506784",
            "linecolor": "#506784",
            "ticks": ""
           }
          },
          "title": {
           "x": 0.05
          },
          "updatemenudefaults": {
           "bgcolor": "#506784",
           "borderwidth": 0
          },
          "xaxis": {
           "automargin": true,
           "gridcolor": "#283442",
           "linecolor": "#506784",
           "ticks": "",
           "title": {
            "standoff": 15
           },
           "zerolinecolor": "#283442",
           "zerolinewidth": 2
          },
          "yaxis": {
           "automargin": true,
           "gridcolor": "#283442",
           "linecolor": "#506784",
           "ticks": "",
           "title": {
            "standoff": 15
           },
           "zerolinecolor": "#283442",
           "zerolinewidth": 2
          }
         }
        },
        "title": {
         "text": "Raw Feature Comparison: Popular vs. Non-Popular Songs"
        },
        "xaxis": {
         "title": {
          "text": "Features"
         }
        },
        "yaxis": {
         "title": {
          "text": "Raw Average Value (Tempo = BPM, Loudness = dB)"
         }
        }
       }
      }
     },
     "metadata": {},
     "output_type": "display_data"
    }
   ],
   "source": [
    "# Features that are 0. something\n",
    "normalize_features = ['energy', 'danceability', 'valence', 'acousticness', 'instrumentalness']\n",
    "raw_features = ['tempo', 'loudness']\n",
    "\n",
    "# Calculate averages\n",
    "popularity_avarage_norm = high_song_popularity[normalize_features].mean()\n",
    "non_popularity_avarage_norm = low_song_popularity[normalize_features].mean()\n",
    "\n",
    "popularity_avarage_raw = high_song_popularity[raw_features].mean()\n",
    "non_popularity_avarage_raw = low_song_popularity[raw_features].mean()\n",
    "\n",
    "high_popularity_avg = high_song_popularity['track_popularity'].mean()\n",
    "low_popularity_avg = low_song_popularity['track_popularity'].mean()\n",
    "\n",
    "max_popular_high_popularity = high_song_popularity['track_popularity'].max()\n",
    "max_popular_low_popularity = low_song_popularity['track_popularity'].max()\n",
    "\n",
    "min_popular_high_popularity = high_song_popularity['track_popularity'].min()\n",
    "min_popular_low_popularity = low_song_popularity['track_popularity'].min()\n",
    "\n",
    "count_max_popular_high_popularity = (high_song_popularity['track_popularity'] == 100).sum()\n",
    "count_max_popular_low_popularity = (low_song_popularity['track_popularity'] == 68).sum()\n",
    "\n",
    "count_min_popular_high_popularity = (high_song_popularity['track_popularity'] == 68).sum()\n",
    "count_min_popular_low_popularity = (low_song_popularity['track_popularity'] == 11).sum()\n",
    "\n",
    "# Show\n",
    "print('popular track for high avarage popularity:', high_popularity_avg)\n",
    "print('max popular track for high avarage popularity:', max_popular_high_popularity)\n",
    "print('min popular track for high avarage popularity:', min_popular_high_popularity)\n",
    "print('features for popularity')\n",
    "print(popularity_avarage_norm)\n",
    "print(popularity_avarage_raw)\n",
    "\n",
    "print('popular track for low avarage popularity:', low_popularity_avg)\n",
    "print('max popular track for low avarage popularity:', max_popular_low_popularity)\n",
    "print('min popular track for low avarage popularity:', min_popular_low_popularity)\n",
    "print('features for non popularity')\n",
    "print(non_popularity_avarage_norm)\n",
    "print(non_popularity_avarage_raw)\n",
    "\n",
    "print('the number of high popularity for 68: ', count_min_popular_high_popularity, ' and for low popularity for 68:', count_max_popular_low_popularity)\n",
    "\n",
    "# Create normalize feature chart\n",
    "fig_norm = go.Figure(data=[\n",
    "    go.Bar(name='Popular songs', x=normalize_features, y=popularity_avarage_norm, marker_color='green'),\n",
    "    go.Bar(name='Non-popular songs', x=normalize_features, y=non_popularity_avarage_norm, marker_color='blue')\n",
    "])\n",
    "\n",
    "fig_norm.update_layout(\n",
    "    title='Normalize Feature Comparison: Popular vs. Non-Popular Songs',\n",
    "    xaxis_title='Features',\n",
    "    yaxis_title='Average (0 - 1 scale)',\n",
    "    barmode='group',\n",
    "    template='plotly_dark',\n",
    "    height=500\n",
    ")\n",
    "\n",
    "# Create raw features chart\n",
    "fig_raw = go.Figure(data=[\n",
    "    go.Bar(name= 'Popular songs', x=raw_features, y=popularity_avarage_raw, marker_color='green'),\n",
    "    go.Bar(name='Non-popular songs', x=raw_features, y=non_popularity_avarage_raw, marker_color='blue')\n",
    "])\n",
    "\n",
    "fig_raw.update_layout(\n",
    "    title='Raw Feature Comparison: Popular vs. Non-Popular Songs',\n",
    "    xaxis_title='Features',\n",
    "    yaxis_title='Raw Average Value (Tempo = BPM, Loudness = dB)',\n",
    "    barmode='group',\n",
    "    template='plotly_dark',\n",
    "    height=500\n",
    ")\n",
    "\n",
    "fig_norm.show()\n",
    "fig_raw.show()"
   ]
  },
  {
   "cell_type": "markdown",
   "metadata": {},
   "source": [
    "### Global hits popularity per month\n",
    "This is to show the top 50 avarge popurarity per month for the global top 50."
   ]
  },
  {
   "cell_type": "code",
   "execution_count": 21,
   "metadata": {},
   "outputs": [
    {
     "data": {
      "image/png": "[encoded data removed]",
      "text/plain": [
       "<Figure size 1200x600 with 1 Axes>"
      ]
     },
     "metadata": {},
     "output_type": "display_data"
    }
   ],
   "source": [
    "# Convert snapshot_date to datetime\n",
    "#songs['snapshot_date'] = pd.to_datetime(songs['snapshot_date'])\n",
    "\n",
    "#print(songs['snapshot_date'])\n",
    "\n",
    "# Filter country to Global\n",
    "global_songs = songs[songs['country'] == 'Global'].copy()\n",
    "\n",
    "# Extract month from the date\n",
    "global_songs['month'] = global_songs['snapshot_date'].dt.to_period('M')\n",
    "\n",
    "#print(global_songs['month'])\n",
    "\n",
    "# Group by month and calculate avarage popularity per month\n",
    "monthly_popularity = global_songs.groupby('month')['popularity'].mean().reset_index()\n",
    "\n",
    "# Cobvert month by to back to datetime for plotting\n",
    "monthly_popularity['month'] = monthly_popularity['month'].dt.to_timestamp()\n",
    "\n",
    "#print(monthly_popularity['month'])\n",
    "\n",
    "plt.figure(figsize=(12, 6))\n",
    "sns.lineplot(data=monthly_popularity, x='month', y='popularity')\n",
    "plt.title('Average Global Popularity Over Time')\n",
    "plt.xticks(rotation=45)\n",
    "plt.tight_layout()\n",
    "plt.show()"
   ]
  },
  {
   "cell_type": "markdown",
   "metadata": {},
   "source": [
    "### Which countries have the most popular songs?\n"
   ]
  },
  {
   "cell_type": "code",
   "execution_count": 20,
   "metadata": {},
   "outputs": [
    {
     "data": {
      "image/png": "[encoded data removed]",
      "text/plain": [
       "<Figure size 1000x500 with 1 Axes>"
      ]
     },
     "metadata": {},
     "output_type": "display_data"
    }
   ],
   "source": [
    "# Filter out 'Global' from the dataset\n",
    "songs_without_global = songs[songs['country'] != 'Global']\n",
    "\n",
    "# Group by countries with arverage popularity in descending order and show top 10\n",
    "top_countries = songs_without_global.groupby('country')['popularity'].mean().sort_values(ascending=False).head(10)\n",
    "\n",
    "top_countries.plot(kind='bar', figsize=(10, 5), color='limegreen')\n",
    "plt.title('Top 10 Countries by Average Popularity')\n",
    "plt.ylabel('Average Popularity')\n",
    "plt.xticks(rotation=45)\n",
    "plt.yticks(range(0, 110, 10))\n",
    "plt.tight_layout()\n",
    "plt.show()\n"
   ]
  },
  {
   "cell_type": "code",
   "execution_count": 11,
   "metadata": {},
   "outputs": [
    {
     "data": {
      "text/html": [
       "<div>\n",
       "<style scoped>\n",
       "    .dataframe tbody tr th:only-of-type {\n",
       "        vertical-align: middle;\n",
       "    }\n",
       "\n",
       "    .dataframe tbody tr th {\n",
       "        vertical-align: top;\n",
       "    }\n",
       "\n",
       "    .dataframe thead th {\n",
       "        text-align: right;\n",
       "    }\n",
       "</style>\n",
       "<table border=\"1\" class=\"dataframe\">\n",
       "  <thead>\n",
       "    <tr style=\"text-align: right;\">\n",
       "      <th></th>\n",
       "      <th>snapshot_month</th>\n",
       "      <th>country</th>\n",
       "      <th>name</th>\n",
       "      <th>popularity</th>\n",
       "    </tr>\n",
       "  </thead>\n",
       "  <tbody>\n",
       "    <tr>\n",
       "      <th>0</th>\n",
       "      <td>2024-08</td>\n",
       "      <td>Global</td>\n",
       "      <td>Die With A Smile</td>\n",
       "      <td>82.133333</td>\n",
       "    </tr>\n",
       "    <tr>\n",
       "      <th>1</th>\n",
       "      <td>2024-09</td>\n",
       "      <td>Global</td>\n",
       "      <td>Die With A Smile</td>\n",
       "      <td>98.133333</td>\n",
       "    </tr>\n",
       "    <tr>\n",
       "      <th>2</th>\n",
       "      <td>2024-10</td>\n",
       "      <td>Global</td>\n",
       "      <td>Die With A Smile</td>\n",
       "      <td>100.000000</td>\n",
       "    </tr>\n",
       "    <tr>\n",
       "      <th>3</th>\n",
       "      <td>2024-11</td>\n",
       "      <td>Global</td>\n",
       "      <td>Die With A Smile</td>\n",
       "      <td>99.814815</td>\n",
       "    </tr>\n",
       "    <tr>\n",
       "      <th>4</th>\n",
       "      <td>2024-12</td>\n",
       "      <td>Global</td>\n",
       "      <td>Die With A Smile</td>\n",
       "      <td>99.083333</td>\n",
       "    </tr>\n",
       "    <tr>\n",
       "      <th>5</th>\n",
       "      <td>2025-01</td>\n",
       "      <td>Global</td>\n",
       "      <td>Die With A Smile</td>\n",
       "      <td>99.967742</td>\n",
       "    </tr>\n",
       "    <tr>\n",
       "      <th>6</th>\n",
       "      <td>2025-02</td>\n",
       "      <td>Global</td>\n",
       "      <td>Die With A Smile</td>\n",
       "      <td>98.357143</td>\n",
       "    </tr>\n",
       "    <tr>\n",
       "      <th>7</th>\n",
       "      <td>2025-03</td>\n",
       "      <td>Global</td>\n",
       "      <td>Die With A Smile</td>\n",
       "      <td>80.129032</td>\n",
       "    </tr>\n",
       "    <tr>\n",
       "      <th>8</th>\n",
       "      <td>2025-04</td>\n",
       "      <td>Global</td>\n",
       "      <td>Die With A Smile</td>\n",
       "      <td>88.000000</td>\n",
       "    </tr>\n",
       "  </tbody>\n",
       "</table>\n",
       "</div>"
      ],
      "text/plain": [
       "  snapshot_month country              name  popularity\n",
       "0        2024-08  Global  Die With A Smile   82.133333\n",
       "1        2024-09  Global  Die With A Smile   98.133333\n",
       "2        2024-10  Global  Die With A Smile  100.000000\n",
       "3        2024-11  Global  Die With A Smile   99.814815\n",
       "4        2024-12  Global  Die With A Smile   99.083333\n",
       "5        2025-01  Global  Die With A Smile   99.967742\n",
       "6        2025-02  Global  Die With A Smile   98.357143\n",
       "7        2025-03  Global  Die With A Smile   80.129032\n",
       "8        2025-04  Global  Die With A Smile   88.000000"
      ]
     },
     "execution_count": 11,
     "metadata": {},
     "output_type": "execute_result"
    }
   ],
   "source": [
    "songs['snapshot_date'] = pd.to_datetime(songs['snapshot_date'])\n",
    "songs['snapshot_month'] = songs['snapshot_date'].dt.to_period('M')\n",
    "\n",
    "songs['country'] = songs['country'].fillna('Global')\n",
    "\n",
    "sports_cars_song = songs[(songs['name'] == 'Die With A Smile') & (songs['country'] == 'Global')]\n",
    "\n",
    "sports_cars_monthly_global = (sports_cars_song.groupby(['snapshot_month', 'country', 'name'])['popularity'].mean().reset_index().sort_values(['snapshot_month', 'country']))\n",
    "\n",
    "sports_cars_monthly_global"
   ]
  },
  {
   "cell_type": "code",
   "execution_count": 15,
   "metadata": {},
   "outputs": [
    {
     "data": {
      "text/html": [
       "<div>\n",
       "<style scoped>\n",
       "    .dataframe tbody tr th:only-of-type {\n",
       "        vertical-align: middle;\n",
       "    }\n",
       "\n",
       "    .dataframe tbody tr th {\n",
       "        vertical-align: top;\n",
       "    }\n",
       "\n",
       "    .dataframe thead th {\n",
       "        text-align: right;\n",
       "    }\n",
       "</style>\n",
       "<table border=\"1\" class=\"dataframe\">\n",
       "  <thead>\n",
       "    <tr style=\"text-align: right;\">\n",
       "      <th></th>\n",
       "      <th>snapshot_date</th>\n",
       "      <th>name</th>\n",
       "      <th>country</th>\n",
       "      <th>popularity</th>\n",
       "    </tr>\n",
       "  </thead>\n",
       "  <tbody>\n",
       "    <tr>\n",
       "      <th>216370</th>\n",
       "      <td>2025-02-01</td>\n",
       "      <td>Die With A Smile</td>\n",
       "      <td>Global</td>\n",
       "      <td>100</td>\n",
       "    </tr>\n",
       "    <tr>\n",
       "      <th>212770</th>\n",
       "      <td>2025-02-02</td>\n",
       "      <td>Die With A Smile</td>\n",
       "      <td>Global</td>\n",
       "      <td>100</td>\n",
       "    </tr>\n",
       "    <tr>\n",
       "      <th>209170</th>\n",
       "      <td>2025-02-03</td>\n",
       "      <td>Die With A Smile</td>\n",
       "      <td>Global</td>\n",
       "      <td>100</td>\n",
       "    </tr>\n",
       "    <tr>\n",
       "      <th>205570</th>\n",
       "      <td>2025-02-04</td>\n",
       "      <td>Die With A Smile</td>\n",
       "      <td>Global</td>\n",
       "      <td>100</td>\n",
       "    </tr>\n",
       "    <tr>\n",
       "      <th>201970</th>\n",
       "      <td>2025-02-05</td>\n",
       "      <td>Die With A Smile</td>\n",
       "      <td>Global</td>\n",
       "      <td>100</td>\n",
       "    </tr>\n",
       "    <tr>\n",
       "      <th>198370</th>\n",
       "      <td>2025-02-06</td>\n",
       "      <td>Die With A Smile</td>\n",
       "      <td>Global</td>\n",
       "      <td>99</td>\n",
       "    </tr>\n",
       "    <tr>\n",
       "      <th>194770</th>\n",
       "      <td>2025-02-07</td>\n",
       "      <td>Die With A Smile</td>\n",
       "      <td>Global</td>\n",
       "      <td>99</td>\n",
       "    </tr>\n",
       "    <tr>\n",
       "      <th>191120</th>\n",
       "      <td>2025-02-08</td>\n",
       "      <td>Die With A Smile</td>\n",
       "      <td>Global</td>\n",
       "      <td>99</td>\n",
       "    </tr>\n",
       "    <tr>\n",
       "      <th>187520</th>\n",
       "      <td>2025-02-09</td>\n",
       "      <td>Die With A Smile</td>\n",
       "      <td>Global</td>\n",
       "      <td>99</td>\n",
       "    </tr>\n",
       "    <tr>\n",
       "      <th>183920</th>\n",
       "      <td>2025-02-10</td>\n",
       "      <td>Die With A Smile</td>\n",
       "      <td>Global</td>\n",
       "      <td>99</td>\n",
       "    </tr>\n",
       "    <tr>\n",
       "      <th>180321</th>\n",
       "      <td>2025-02-11</td>\n",
       "      <td>Die With A Smile</td>\n",
       "      <td>Global</td>\n",
       "      <td>99</td>\n",
       "    </tr>\n",
       "    <tr>\n",
       "      <th>176722</th>\n",
       "      <td>2025-02-12</td>\n",
       "      <td>Die With A Smile</td>\n",
       "      <td>Global</td>\n",
       "      <td>99</td>\n",
       "    </tr>\n",
       "    <tr>\n",
       "      <th>173122</th>\n",
       "      <td>2025-02-13</td>\n",
       "      <td>Die With A Smile</td>\n",
       "      <td>Global</td>\n",
       "      <td>99</td>\n",
       "    </tr>\n",
       "    <tr>\n",
       "      <th>169522</th>\n",
       "      <td>2025-02-14</td>\n",
       "      <td>Die With A Smile</td>\n",
       "      <td>Global</td>\n",
       "      <td>99</td>\n",
       "    </tr>\n",
       "    <tr>\n",
       "      <th>165872</th>\n",
       "      <td>2025-02-15</td>\n",
       "      <td>Die With A Smile</td>\n",
       "      <td>Global</td>\n",
       "      <td>98</td>\n",
       "    </tr>\n",
       "    <tr>\n",
       "      <th>162271</th>\n",
       "      <td>2025-02-16</td>\n",
       "      <td>Die With A Smile</td>\n",
       "      <td>Global</td>\n",
       "      <td>98</td>\n",
       "    </tr>\n",
       "    <tr>\n",
       "      <th>158682</th>\n",
       "      <td>2025-02-17</td>\n",
       "      <td>Die With A Smile</td>\n",
       "      <td>Global</td>\n",
       "      <td>98</td>\n",
       "    </tr>\n",
       "    <tr>\n",
       "      <th>155082</th>\n",
       "      <td>2025-02-18</td>\n",
       "      <td>Die With A Smile</td>\n",
       "      <td>Global</td>\n",
       "      <td>98</td>\n",
       "    </tr>\n",
       "    <tr>\n",
       "      <th>151482</th>\n",
       "      <td>2025-02-19</td>\n",
       "      <td>Die With A Smile</td>\n",
       "      <td>Global</td>\n",
       "      <td>98</td>\n",
       "    </tr>\n",
       "    <tr>\n",
       "      <th>147882</th>\n",
       "      <td>2025-02-20</td>\n",
       "      <td>Die With A Smile</td>\n",
       "      <td>Global</td>\n",
       "      <td>98</td>\n",
       "    </tr>\n",
       "    <tr>\n",
       "      <th>144282</th>\n",
       "      <td>2025-02-21</td>\n",
       "      <td>Die With A Smile</td>\n",
       "      <td>Global</td>\n",
       "      <td>97</td>\n",
       "    </tr>\n",
       "    <tr>\n",
       "      <th>140632</th>\n",
       "      <td>2025-02-22</td>\n",
       "      <td>Die With A Smile</td>\n",
       "      <td>Global</td>\n",
       "      <td>97</td>\n",
       "    </tr>\n",
       "    <tr>\n",
       "      <th>137032</th>\n",
       "      <td>2025-02-23</td>\n",
       "      <td>Die With A Smile</td>\n",
       "      <td>Global</td>\n",
       "      <td>97</td>\n",
       "    </tr>\n",
       "    <tr>\n",
       "      <th>133434</th>\n",
       "      <td>2025-02-24</td>\n",
       "      <td>Die With A Smile</td>\n",
       "      <td>Global</td>\n",
       "      <td>97</td>\n",
       "    </tr>\n",
       "    <tr>\n",
       "      <th>129834</th>\n",
       "      <td>2025-02-25</td>\n",
       "      <td>Die With A Smile</td>\n",
       "      <td>Global</td>\n",
       "      <td>97</td>\n",
       "    </tr>\n",
       "    <tr>\n",
       "      <th>126234</th>\n",
       "      <td>2025-02-26</td>\n",
       "      <td>Die With A Smile</td>\n",
       "      <td>Global</td>\n",
       "      <td>97</td>\n",
       "    </tr>\n",
       "    <tr>\n",
       "      <th>122634</th>\n",
       "      <td>2025-02-27</td>\n",
       "      <td>Die With A Smile</td>\n",
       "      <td>Global</td>\n",
       "      <td>97</td>\n",
       "    </tr>\n",
       "    <tr>\n",
       "      <th>119034</th>\n",
       "      <td>2025-02-28</td>\n",
       "      <td>Die With A Smile</td>\n",
       "      <td>Global</td>\n",
       "      <td>96</td>\n",
       "    </tr>\n",
       "  </tbody>\n",
       "</table>\n",
       "</div>"
      ],
      "text/plain": [
       "       snapshot_date              name country  popularity\n",
       "216370    2025-02-01  Die With A Smile  Global         100\n",
       "212770    2025-02-02  Die With A Smile  Global         100\n",
       "209170    2025-02-03  Die With A Smile  Global         100\n",
       "205570    2025-02-04  Die With A Smile  Global         100\n",
       "201970    2025-02-05  Die With A Smile  Global         100\n",
       "198370    2025-02-06  Die With A Smile  Global          99\n",
       "194770    2025-02-07  Die With A Smile  Global          99\n",
       "191120    2025-02-08  Die With A Smile  Global          99\n",
       "187520    2025-02-09  Die With A Smile  Global          99\n",
       "183920    2025-02-10  Die With A Smile  Global          99\n",
       "180321    2025-02-11  Die With A Smile  Global          99\n",
       "176722    2025-02-12  Die With A Smile  Global          99\n",
       "173122    2025-02-13  Die With A Smile  Global          99\n",
       "169522    2025-02-14  Die With A Smile  Global          99\n",
       "165872    2025-02-15  Die With A Smile  Global          98\n",
       "162271    2025-02-16  Die With A Smile  Global          98\n",
       "158682    2025-02-17  Die With A Smile  Global          98\n",
       "155082    2025-02-18  Die With A Smile  Global          98\n",
       "151482    2025-02-19  Die With A Smile  Global          98\n",
       "147882    2025-02-20  Die With A Smile  Global          98\n",
       "144282    2025-02-21  Die With A Smile  Global          97\n",
       "140632    2025-02-22  Die With A Smile  Global          97\n",
       "137032    2025-02-23  Die With A Smile  Global          97\n",
       "133434    2025-02-24  Die With A Smile  Global          97\n",
       "129834    2025-02-25  Die With A Smile  Global          97\n",
       "126234    2025-02-26  Die With A Smile  Global          97\n",
       "122634    2025-02-27  Die With A Smile  Global          97\n",
       "119034    2025-02-28  Die With A Smile  Global          96"
      ]
     },
     "execution_count": 15,
     "metadata": {},
     "output_type": "execute_result"
    }
   ],
   "source": [
    "songs['snapshot_date'] = pd.to_datetime(songs['snapshot_date'])\n",
    "songs['snapshot_month'] = songs['snapshot_date'].dt.to_period('M')\n",
    "\n",
    "songs['country'] = songs['country'].fillna('Global')\n",
    "\n",
    "sports_cars_song_global = songs[(songs['name'] == 'Die With A Smile') & (songs['country'] == 'Global')]\n",
    "\n",
    "filtered_data = sports_cars_song_global[(sports_cars_song_global['snapshot_date'] >= '2025-02-01') &\n",
    "                                        (sports_cars_song_global['snapshot_date'] <= '2025-02-28')]\n",
    "\n",
    "filtered_data = filtered_data[['snapshot_date', 'name', 'country', 'popularity']].sort_values('snapshot_date')\n",
    "\n",
    "filtered_data"
   ]
  }
 ],
 "metadata": {
  "kernelspec": {
   "display_name": "myenv",
   "language": "python",
   "name": "python3"
  },
  "language_info": {
   "codemirror_mode": {
    "name": "ipython",
    "version": 3
   },
   "file_extension": ".py",
   "mimetype": "text/x-python",
   "name": "python",
   "nbconvert_exporter": "python",
   "pygments_lexer": "ipython3",
   "version": "3.13.3"
  }
 },
 "nbformat": 4,
 "nbformat_minor": 2
}
