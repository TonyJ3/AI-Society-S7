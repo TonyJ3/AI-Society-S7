{
 "cells": [
  {
   "cell_type": "markdown",
   "metadata": {},
   "source": [
    "# Top Hit Song Prediction\n",
    "This is to test the top song prediction."
   ]
  },
  {
   "cell_type": "markdown",
   "metadata": {},
   "source": [
    "## Dependecy\n",
    "Here are the depedency that I'm currently using to helping run the prediction and handling the data."
   ]
  },
  {
   "cell_type": "code",
   "execution_count": 2,
   "metadata": {},
   "outputs": [],
   "source": [
    "import pandas as pd\n",
    "import matplotlib.pyplot as plt\n",
    "import seaborn as sns\n",
    "import plotly.graph_objects as go\n",
    "import plotly.express as px\n",
    "from xgboost import XGBClassifier\n",
    "from sklearn.metrics import classification_report, confusion_matrix\n",
    "from sklearn.model_selection import train_test_split\n",
    "from sklearn.preprocessing import StandardScaler\n",
    "from sklearn.preprocessing import MinMaxScaler"
   ]
  },
  {
   "cell_type": "markdown",
   "metadata": {},
   "source": [
    "## Cleaning Data\n",
    "Before we begin with anything, the data should be cleaned first."
   ]
  },
  {
   "cell_type": "markdown",
   "metadata": {},
   "source": [
    "### Remove Missing Data\n",
    "For High popularity"
   ]
  },
  {
   "cell_type": "code",
   "execution_count": 3,
   "metadata": {},
   "outputs": [
    {
     "name": "stdout",
     "output_type": "stream",
     "text": [
      "energy                      0\n",
      "tempo                       0\n",
      "danceability                0\n",
      "playlist_genre              0\n",
      "loudness                    0\n",
      "liveness                    0\n",
      "valence                     0\n",
      "track_artist                0\n",
      "time_signature              0\n",
      "speechiness                 0\n",
      "track_popularity            0\n",
      "track_name                  0\n",
      "track_album_release_date    0\n",
      "instrumentalness            0\n",
      "mode                        0\n",
      "key                         0\n",
      "duration_ms                 0\n",
      "acousticness                0\n",
      "id                          0\n",
      "playlist_subgenre           0\n",
      "dtype: int64\n"
     ]
    }
   ],
   "source": [
    "# Add csv data to songs\n",
    "high_song_popularity = pd.read_csv(\"high_popularity_spotify_data.csv\")\n",
    "\n",
    "# Drop useless column\n",
    "high_song_popularity.drop(columns=['track_href', 'uri', 'track_album_name', 'playlist_name', 'analysis_url',\n",
    "                                    'track_id', 'track_album_id', 'type', 'playlist_id'], inplace=True)\n",
    "\n",
    "# Show the total number of null in each column.\n",
    "print(high_song_popularity.isnull().sum())"
   ]
  },
  {
   "cell_type": "markdown",
   "metadata": {},
   "source": [
    "For low popularity"
   ]
  },
  {
   "cell_type": "code",
   "execution_count": 4,
   "metadata": {},
   "outputs": [
    {
     "name": "stdout",
     "output_type": "stream",
     "text": [
      "time_signature              0\n",
      "track_popularity            0\n",
      "speechiness                 0\n",
      "danceability                0\n",
      "track_artist                0\n",
      "duration_ms                 0\n",
      "energy                      0\n",
      "playlist_genre              0\n",
      "playlist_subgenre           0\n",
      "track_name                  0\n",
      "mode                        0\n",
      "track_album_release_date    0\n",
      "id                          0\n",
      "instrumentalness            0\n",
      "valence                     0\n",
      "key                         0\n",
      "tempo                       0\n",
      "loudness                    0\n",
      "acousticness                0\n",
      "liveness                    0\n",
      "dtype: int64\n"
     ]
    }
   ],
   "source": [
    "# Add csv data to songs\n",
    "low_song_popularity = pd.read_csv(\"low_popularity_spotify_data.csv\")\n",
    "\n",
    "# Drop useless column\n",
    "low_song_popularity.drop(columns=['track_href', 'uri', 'track_album_name', 'playlist_name', 'analysis_url',\n",
    "                                    'track_id', 'track_album_id', 'type', 'playlist_id'], inplace=True)\n",
    "\n",
    "# Drop row containing null for time_signature\n",
    "low_song_popularity = low_song_popularity.dropna(subset='time_signature')\n",
    "\n",
    "# Show the total number of null in each column.\n",
    "print(low_song_popularity.isnull().sum())"
   ]
  },
  {
   "cell_type": "markdown",
   "metadata": {},
   "source": [
    "## Audio Features\n",
    "Here is the description of each audio features in the dataset.\n",
    "\n",
    "-Energy         =   A measure of intensity and activity. Typically, energetic tracks feel fast, loud, and noisy. The higher it is the engergetic it is.\n",
    "\n",
    "-Tempo           =   The speed of a track, measured in beats per minute (BPM).\n",
    "\n",
    "-Danceability    =   A score describing how suitable a track is for dancing based on tempo, rhythm stability, beat strength and overall regularity.\n",
    "\n",
    "-Loudness        =   The overall loudness of a track in decibels (dB). Higher values indicate louder tracks overall.\n",
    "\n",
    "-Liveness        =   The likelihood of a track being performed live. Higher values suggest more audience presence.\n",
    "\n",
    "-Valence         =   The overall musical positiveness(emotion) of a track. High valence sounds happy; low valence sounds sad or angry.\n",
    "\n",
    "-Speechiness     =   Measures the presence of spoken words.\n",
    "\n",
    "-Instrumentalness =   The likelihood a track contains no vocals. Values closer to 1.0 suggest solely instrumental tracks.\n",
    "\n",
    "-Acousticness    =   A confidence measure of whether a track is acoustic(1) or not(0).\n",
    "\n",
    "-Mode            =   Indicates the modality of the track.\n",
    "\n",
    "-Key             =   The musical key, represented as an integer from 0 to 11, mapping to standard Pitch class notation.\n",
    "\n",
    "-Duration_ms     =   The length of the track in milliseconds."
   ]
  },
  {
   "cell_type": "code",
   "execution_count": 39,
   "metadata": {},
   "outputs": [
    {
     "name": "stdout",
     "output_type": "stream",
     "text": [
      "popular track for high average popularity: 75.80604982206405\n",
      "max popular track for high average popularity: 100\n",
      "min popular track for high average popularity: 68\n",
      "features for popularity\n",
      "popular track for low average popularity: 43.47709923664122\n",
      "max popular track for low average popularity: 68\n",
      "min popular track for low average popularity: 11\n",
      "features for non popularity\n",
      "the number of high popularity for 68:  124  and for low popularity for 68: 45\n"
     ]
    }
   ],
   "source": [
    "# Avarage\n",
    "high_popularity_avg = high_song_popularity['track_popularity'].mean()\n",
    "low_popularity_avg = low_song_popularity['track_popularity'].mean()\n",
    "\n",
    "# Max\n",
    "max_popular_high_popularity = high_song_popularity['track_popularity'].max()\n",
    "max_popular_low_popularity = low_song_popularity['track_popularity'].max()\n",
    "\n",
    "# Min\n",
    "min_popular_high_popularity = high_song_popularity['track_popularity'].min()\n",
    "min_popular_low_popularity = low_song_popularity['track_popularity'].min()\n",
    "\n",
    "# Total of number\n",
    "count_max_popular_high_popularity = (high_song_popularity['track_popularity'] == 100).sum()\n",
    "count_max_popular_low_popularity = (low_song_popularity['track_popularity'] == 68).sum()\n",
    "\n",
    "count_min_popular_high_popularity = (high_song_popularity['track_popularity'] == 68).sum()\n",
    "count_min_popular_low_popularity = (low_song_popularity['track_popularity'] == 11).sum()\n",
    "\n",
    "# Show\n",
    "print('popular track for high average popularity:', high_popularity_avg)\n",
    "print('max popular track for high average popularity:', max_popular_high_popularity)\n",
    "print('min popular track for high average popularity:', min_popular_high_popularity)\n",
    "print('features for popularity')\n",
    "\n",
    "print('popular track for low average popularity:', low_popularity_avg)\n",
    "print('max popular track for low average popularity:', max_popular_low_popularity)\n",
    "print('min popular track for low average popularity:', min_popular_low_popularity)\n",
    "print('features for non popularity')\n",
    "\n",
    "print('the number of high popularity for 68: ', count_min_popular_high_popularity, ' and for low popularity for 68:', count_max_popular_low_popularity)"
   ]
  },
  {
   "cell_type": "markdown",
   "metadata": {},
   "source": [
    "## Visualization and analyze trends\n"
   ]
  },
  {
   "cell_type": "markdown",
   "metadata": {},
   "source": [
    "### Compare The Average Popular and Non-popular Audio Features by Song Genres\n",
    "This bar chart compares the average values of audio features between popular and non-popular songs across different genres. It helps artists gain insights and identify patterns in how features like energy, danceability, and tempo behave in popular versus non-popular songs within each genre.\n",
    "\n",
    "By analyzing these differences, artists can better understand what characteristics are commonly found in successful songs in their chosen genre. This can guide them in targeting ideal feature values when producing new song.\n",
    "\n",
    "All audio feature values in the chart are normalized to a scale between 0 and 1. This is important because features like tempo and loudness normally exist on different scales, and normalization ensures a fair visual comparison across all features."
   ]
  },
  {
   "cell_type": "code",
   "execution_count": 38,
   "metadata": {},
   "outputs": [
    {
     "data": {
      "application/vnd.plotly.v1+json": {
       "config": {
        "plotlyServerURL": "https://plot.ly"
       },
       "data": [
        {
         "customdata": {
          "bdata": "WyBB8WPM5j9uVn2utmLkP4bJVMGopOY/woanV8oy1j8qV3Pe0Y+XPyigibDhH11As1n1udqqFsA=",
          "dtype": "f8",
          "shape": "7, 1"
         },
         "hovertemplate": "%{x}<br>Normalized: %{y:.2f}<br>Raw: %{customdata[0]:.2f}<extra></extra>",
         "marker": {
          "color": "green"
         },
         "name": "Popular songs",
         "type": "bar",
         "x": [
          "energy",
          "danceability",
          "valence",
          "acousticness",
          "instrumentalness",
          "tempo",
          "loudness"
         ],
         "y": {
          "bdata": "hxjRr5zX5j97e0o7fRvkP4DPyNdPqeY/rKZhCZNJ1j+Hr7tkmcaXP9oBzR1gndY//UNz0GV56z8=",
          "dtype": "f8"
         }
        },
        {
         "customdata": {
          "bdata": "TICO0bTl5T9pRw3dOjfoP6UJugAHcuI/pqIVqHe5wT9LHtx97aDEP7uDUtXBrl1Aqc29DRBvIcA=",
          "dtype": "f8",
          "shape": "7, 1"
         },
         "hovertemplate": "%{x}<br>Normalized: %{y:.2f}<br>Raw: %{customdata[0]:.2f}<extra></extra>",
         "marker": {
          "color": "blue"
         },
         "name": "Non-popular songs",
         "type": "bar",
         "x": [
          "energy",
          "danceability",
          "valence",
          "acousticness",
          "instrumentalness",
          "tempo",
          "loudness"
         ],
         "y": {
          "bdata": "eg6SPGvw5T9gUxHoJkXoP+miwh7dRuI/lgeeppbLwT/+l7Y/49DEPzssuOeyWtc/PuoPwXh/6T8=",
          "dtype": "f8"
         }
        }
       ],
       "layout": {
        "barmode": "group",
        "height": 500,
        "template": {
         "data": {
          "bar": [
           {
            "error_x": {
             "color": "#f2f5fa"
            },
            "error_y": {
             "color": "#f2f5fa"
            },
            "marker": {
             "line": {
              "color": "rgb(17,17,17)",
              "width": 0.5
             },
             "pattern": {
              "fillmode": "overlay",
              "size": 10,
              "solidity": 0.2
             }
            },
            "type": "bar"
           }
          ],
          "barpolar": [
           {
            "marker": {
             "line": {
              "color": "rgb(17,17,17)",
              "width": 0.5
             },
             "pattern": {
              "fillmode": "overlay",
              "size": 10,
              "solidity": 0.2
             }
            },
            "type": "barpolar"
           }
          ],
          "carpet": [
           {
            "aaxis": {
             "endlinecolor": "#A2B1C6",
             "gridcolor": "#506784",
             "linecolor": "#506784",
             "minorgridcolor": "#506784",
             "startlinecolor": "#A2B1C6"
            },
            "baxis": {
             "endlinecolor": "#A2B1C6",
             "gridcolor": "#506784",
             "linecolor": "#506784",
             "minorgridcolor": "#506784",
             "startlinecolor": "#A2B1C6"
            },
            "type": "carpet"
           }
          ],
          "choropleth": [
           {
            "colorbar": {
             "outlinewidth": 0,
             "ticks": ""
            },
            "type": "choropleth"
           }
          ],
          "contour": [
           {
            "colorbar": {
             "outlinewidth": 0,
             "ticks": ""
            },
            "colorscale": [
             [
              0,
              "#0d0887"
             ],
             [
              0.1111111111111111,
              "#46039f"
             ],
             [
              0.2222222222222222,
              "#7201a8"
             ],
             [
              0.3333333333333333,
              "#9c179e"
             ],
             [
              0.4444444444444444,
              "#bd3786"
             ],
             [
              0.5555555555555556,
              "#d8576b"
             ],
             [
              0.6666666666666666,
              "#ed7953"
             ],
             [
              0.7777777777777778,
              "#fb9f3a"
             ],
             [
              0.8888888888888888,
              "#fdca26"
             ],
             [
              1,
              "#f0f921"
             ]
            ],
            "type": "contour"
           }
          ],
          "contourcarpet": [
           {
            "colorbar": {
             "outlinewidth": 0,
             "ticks": ""
            },
            "type": "contourcarpet"
           }
          ],
          "heatmap": [
           {
            "colorbar": {
             "outlinewidth": 0,
             "ticks": ""
            },
            "colorscale": [
             [
              0,
              "#0d0887"
             ],
             [
              0.1111111111111111,
              "#46039f"
             ],
             [
              0.2222222222222222,
              "#7201a8"
             ],
             [
              0.3333333333333333,
              "#9c179e"
             ],
             [
              0.4444444444444444,
              "#bd3786"
             ],
             [
              0.5555555555555556,
              "#d8576b"
             ],
             [
              0.6666666666666666,
              "#ed7953"
             ],
             [
              0.7777777777777778,
              "#fb9f3a"
             ],
             [
              0.8888888888888888,
              "#fdca26"
             ],
             [
              1,
              "#f0f921"
             ]
            ],
            "type": "heatmap"
           }
          ],
          "histogram": [
           {
            "marker": {
             "pattern": {
              "fillmode": "overlay",
              "size": 10,
              "solidity": 0.2
             }
            },
            "type": "histogram"
           }
          ],
          "histogram2d": [
           {
            "colorbar": {
             "outlinewidth": 0,
             "ticks": ""
            },
            "colorscale": [
             [
              0,
              "#0d0887"
             ],
             [
              0.1111111111111111,
              "#46039f"
             ],
             [
              0.2222222222222222,
              "#7201a8"
             ],
             [
              0.3333333333333333,
              "#9c179e"
             ],
             [
              0.4444444444444444,
              "#bd3786"
             ],
             [
              0.5555555555555556,
              "#d8576b"
             ],
             [
              0.6666666666666666,
              "#ed7953"
             ],
             [
              0.7777777777777778,
              "#fb9f3a"
             ],
             [
              0.8888888888888888,
              "#fdca26"
             ],
             [
              1,
              "#f0f921"
             ]
            ],
            "type": "histogram2d"
           }
          ],
          "histogram2dcontour": [
           {
            "colorbar": {
             "outlinewidth": 0,
             "ticks": ""
            },
            "colorscale": [
             [
              0,
              "#0d0887"
             ],
             [
              0.1111111111111111,
              "#46039f"
             ],
             [
              0.2222222222222222,
              "#7201a8"
             ],
             [
              0.3333333333333333,
              "#9c179e"
             ],
             [
              0.4444444444444444,
              "#bd3786"
             ],
             [
              0.5555555555555556,
              "#d8576b"
             ],
             [
              0.6666666666666666,
              "#ed7953"
             ],
             [
              0.7777777777777778,
              "#fb9f3a"
             ],
             [
              0.8888888888888888,
              "#fdca26"
             ],
             [
              1,
              "#f0f921"
             ]
            ],
            "type": "histogram2dcontour"
           }
          ],
          "mesh3d": [
           {
            "colorbar": {
             "outlinewidth": 0,
             "ticks": ""
            },
            "type": "mesh3d"
           }
          ],
          "parcoords": [
           {
            "line": {
             "colorbar": {
              "outlinewidth": 0,
              "ticks": ""
             }
            },
            "type": "parcoords"
           }
          ],
          "pie": [
           {
            "automargin": true,
            "type": "pie"
           }
          ],
          "scatter": [
           {
            "marker": {
             "line": {
              "color": "#283442"
             }
            },
            "type": "scatter"
           }
          ],
          "scatter3d": [
           {
            "line": {
             "colorbar": {
              "outlinewidth": 0,
              "ticks": ""
             }
            },
            "marker": {
             "colorbar": {
              "outlinewidth": 0,
              "ticks": ""
             }
            },
            "type": "scatter3d"
           }
          ],
          "scattercarpet": [
           {
            "marker": {
             "colorbar": {
              "outlinewidth": 0,
              "ticks": ""
             }
            },
            "type": "scattercarpet"
           }
          ],
          "scattergeo": [
           {
            "marker": {
             "colorbar": {
              "outlinewidth": 0,
              "ticks": ""
             }
            },
            "type": "scattergeo"
           }
          ],
          "scattergl": [
           {
            "marker": {
             "line": {
              "color": "#283442"
             }
            },
            "type": "scattergl"
           }
          ],
          "scattermap": [
           {
            "marker": {
             "colorbar": {
              "outlinewidth": 0,
              "ticks": ""
             }
            },
            "type": "scattermap"
           }
          ],
          "scattermapbox": [
           {
            "marker": {
             "colorbar": {
              "outlinewidth": 0,
              "ticks": ""
             }
            },
            "type": "scattermapbox"
           }
          ],
          "scatterpolar": [
           {
            "marker": {
             "colorbar": {
              "outlinewidth": 0,
              "ticks": ""
             }
            },
            "type": "scatterpolar"
           }
          ],
          "scatterpolargl": [
           {
            "marker": {
             "colorbar": {
              "outlinewidth": 0,
              "ticks": ""
             }
            },
            "type": "scatterpolargl"
           }
          ],
          "scatterternary": [
           {
            "marker": {
             "colorbar": {
              "outlinewidth": 0,
              "ticks": ""
             }
            },
            "type": "scatterternary"
           }
          ],
          "surface": [
           {
            "colorbar": {
             "outlinewidth": 0,
             "ticks": ""
            },
            "colorscale": [
             [
              0,
              "#0d0887"
             ],
             [
              0.1111111111111111,
              "#46039f"
             ],
             [
              0.2222222222222222,
              "#7201a8"
             ],
             [
              0.3333333333333333,
              "#9c179e"
             ],
             [
              0.4444444444444444,
              "#bd3786"
             ],
             [
              0.5555555555555556,
              "#d8576b"
             ],
             [
              0.6666666666666666,
              "#ed7953"
             ],
             [
              0.7777777777777778,
              "#fb9f3a"
             ],
             [
              0.8888888888888888,
              "#fdca26"
             ],
             [
              1,
              "#f0f921"
             ]
            ],
            "type": "surface"
           }
          ],
          "table": [
           {
            "cells": {
             "fill": {
              "color": "#506784"
             },
             "line": {
              "color": "rgb(17,17,17)"
             }
            },
            "header": {
             "fill": {
              "color": "#2a3f5f"
             },
             "line": {
              "color": "rgb(17,17,17)"
             }
            },
            "type": "table"
           }
          ]
         },
         "layout": {
          "annotationdefaults": {
           "arrowcolor": "#f2f5fa",
           "arrowhead": 0,
           "arrowwidth": 1
          },
          "autotypenumbers": "strict",
          "coloraxis": {
           "colorbar": {
            "outlinewidth": 0,
            "ticks": ""
           }
          },
          "colorscale": {
           "diverging": [
            [
             0,
             "#8e0152"
            ],
            [
             0.1,
             "#c51b7d"
            ],
            [
             0.2,
             "#de77ae"
            ],
            [
             0.3,
             "#f1b6da"
            ],
            [
             0.4,
             "#fde0ef"
            ],
            [
             0.5,
             "#f7f7f7"
            ],
            [
             0.6,
             "#e6f5d0"
            ],
            [
             0.7,
             "#b8e186"
            ],
            [
             0.8,
             "#7fbc41"
            ],
            [
             0.9,
             "#4d9221"
            ],
            [
             1,
             "#276419"
            ]
           ],
           "sequential": [
            [
             0,
             "#0d0887"
            ],
            [
             0.1111111111111111,
             "#46039f"
            ],
            [
             0.2222222222222222,
             "#7201a8"
            ],
            [
             0.3333333333333333,
             "#9c179e"
            ],
            [
             0.4444444444444444,
             "#bd3786"
            ],
            [
             0.5555555555555556,
             "#d8576b"
            ],
            [
             0.6666666666666666,
             "#ed7953"
            ],
            [
             0.7777777777777778,
             "#fb9f3a"
            ],
            [
             0.8888888888888888,
             "#fdca26"
            ],
            [
             1,
             "#f0f921"
            ]
           ],
           "sequentialminus": [
            [
             0,
             "#0d0887"
            ],
            [
             0.1111111111111111,
             "#46039f"
            ],
            [
             0.2222222222222222,
             "#7201a8"
            ],
            [
             0.3333333333333333,
             "#9c179e"
            ],
            [
             0.4444444444444444,
             "#bd3786"
            ],
            [
             0.5555555555555556,
             "#d8576b"
            ],
            [
             0.6666666666666666,
             "#ed7953"
            ],
            [
             0.7777777777777778,
             "#fb9f3a"
            ],
            [
             0.8888888888888888,
             "#fdca26"
            ],
            [
             1,
             "#f0f921"
            ]
           ]
          },
          "colorway": [
           "#636efa",
           "#EF553B",
           "#00cc96",
           "#ab63fa",
           "#FFA15A",
           "#19d3f3",
           "#FF6692",
           "#B6E880",
           "#FF97FF",
           "#FECB52"
          ],
          "font": {
           "color": "#f2f5fa"
          },
          "geo": {
           "bgcolor": "rgb(17,17,17)",
           "lakecolor": "rgb(17,17,17)",
           "landcolor": "rgb(17,17,17)",
           "showlakes": true,
           "showland": true,
           "subunitcolor": "#506784"
          },
          "hoverlabel": {
           "align": "left"
          },
          "hovermode": "closest",
          "mapbox": {
           "style": "dark"
          },
          "paper_bgcolor": "rgb(17,17,17)",
          "plot_bgcolor": "rgb(17,17,17)",
          "polar": {
           "angularaxis": {
            "gridcolor": "#506784",
            "linecolor": "#506784",
            "ticks": ""
           },
           "bgcolor": "rgb(17,17,17)",
           "radialaxis": {
            "gridcolor": "#506784",
            "linecolor": "#506784",
            "ticks": ""
           }
          },
          "scene": {
           "xaxis": {
            "backgroundcolor": "rgb(17,17,17)",
            "gridcolor": "#506784",
            "gridwidth": 2,
            "linecolor": "#506784",
            "showbackground": true,
            "ticks": "",
            "zerolinecolor": "#C8D4E3"
           },
           "yaxis": {
            "backgroundcolor": "rgb(17,17,17)",
            "gridcolor": "#506784",
            "gridwidth": 2,
            "linecolor": "#506784",
            "showbackground": true,
            "ticks": "",
            "zerolinecolor": "#C8D4E3"
           },
           "zaxis": {
            "backgroundcolor": "rgb(17,17,17)",
            "gridcolor": "#506784",
            "gridwidth": 2,
            "linecolor": "#506784",
            "showbackground": true,
            "ticks": "",
            "zerolinecolor": "#C8D4E3"
           }
          },
          "shapedefaults": {
           "line": {
            "color": "#f2f5fa"
           }
          },
          "sliderdefaults": {
           "bgcolor": "#C8D4E3",
           "bordercolor": "rgb(17,17,17)",
           "borderwidth": 1,
           "tickwidth": 0
          },
          "ternary": {
           "aaxis": {
            "gridcolor": "#506784",
            "linecolor": "#506784",
            "ticks": ""
           },
           "baxis": {
            "gridcolor": "#506784",
            "linecolor": "#506784",
            "ticks": ""
           },
           "bgcolor": "rgb(17,17,17)",
           "caxis": {
            "gridcolor": "#506784",
            "linecolor": "#506784",
            "ticks": ""
           }
          },
          "title": {
           "x": 0.05
          },
          "updatemenudefaults": {
           "bgcolor": "#506784",
           "borderwidth": 0
          },
          "xaxis": {
           "automargin": true,
           "gridcolor": "#283442",
           "linecolor": "#506784",
           "ticks": "",
           "title": {
            "standoff": 15
           },
           "zerolinecolor": "#283442",
           "zerolinewidth": 2
          },
          "yaxis": {
           "automargin": true,
           "gridcolor": "#283442",
           "linecolor": "#506784",
           "ticks": "",
           "title": {
            "standoff": 15
           },
           "zerolinecolor": "#283442",
           "zerolinewidth": 2
          }
         }
        },
        "title": {
         "text": "Feature Comparison (Normalized with Raw Tooltips): Popular vs. Non-Popular Afrobeats Songs"
        },
        "updatemenus": [
         {
          "buttons": [
           {
            "args": [
             {
              "customdata": [
               [
                [
                 0.7124499999999999
                ],
                [
                 0.6370500000000001
                ],
                [
                 0.7076
                ],
                [
                 0.34685
                ],
                [
                 0.023009566500000002
                ],
                [
                 116.49815000000001
                ],
                [
                 -5.666849999999999
                ]
               ],
               [
                [
                 0.6842903225806451
                ],
                [
                 0.7567419354838708
                ],
                [
                 0.5764193548387097
                ],
                [
                 0.13847251612903227
                ],
                [
                 0.16116112370967736
                ],
                [
                 118.73058064516128
                ],
                [
                 -8.71691935483871
                ]
               ]
              ],
              "y": [
               [
                0.713819831268453,
                0.6283556135202696,
                0.7081679548777942,
                0.3482406226745336,
                0.023218533299697277,
                0.3533554354690104,
                0.858569056634337
               ],
               [
                0.685598009397338,
                0.7584414036342473,
                0.5711503601824833,
                0.13902552734003554,
                0.16262474642752517,
                0.36491081837511147,
                0.7968105097527951
               ]
              ]
             },
             {
              "title": "Feature Comparison (Normalized with Raw Tooltips): Popular vs. Non-Popular Afrobeats Songs"
             }
            ],
            "label": "Afrobeats",
            "method": "update"
           },
           {
            "args": [
             {
              "customdata": [
               [
                [
                 0.3868837704918032
                ],
                [
                 0.5329180327868852
                ],
                [
                 0.3340000000000001
                ],
                [
                 0.6176803278688524
                ],
                [
                 0.07116908852459018
                ],
                [
                 114.67449180327868
                ],
                [
                 -10.711426229508193
                ]
               ],
               [
                [
                 0.48151644630872475
                ],
                [
                 0.5517610738255033
                ],
                [
                 0.4508573825503356
                ],
                [
                 0.4636138255033557
                ],
                [
                 0.23265088885906038
                ],
                [
                 108.86437583892616
                ],
                [
                 -14.338493288590602
                ]
               ]
              ],
              "y": [
               [
                0.38753512283228003,
                0.515180994225503,
                0.31794443283893875,
                0.6201596026524357,
                0.07181542737092853,
                0.34391591769557395,
                0.7564252489621116
               ],
               [
                0.4823766396692766,
                0.5356603345565736,
                0.440001444067616,
                0.46547380176134945,
                0.2347637627235726,
                0.3138419197227977,
                0.6829835120863669
               ]
              ]
             },
             {
              "title": "Feature Comparison (Normalized with Raw Tooltips): Popular vs. Non-Popular Ambient Songs"
             }
            ],
            "label": "Ambient",
            "method": "update"
           },
           {
            "args": [
             {
              "customdata": [
               [
                [
                 0.61602
                ],
                [
                 0.75676
                ],
                [
                 0.42611000000000004
                ],
                [
                 0.18986791999999997
                ],
                [
                 0.0075329891999999996
                ],
                [
                 123.11534
                ],
                [
                 -6.388999999999999
                ]
               ],
               [
                [
                 0.6437151898734177
                ],
                [
                 0.6878037974683544
                ],
                [
                 0.574546835443038
                ],
                [
                 0.3618993037974684
                ],
                [
                 0.11807654721518987
                ],
                [
                 115.29130379746836
                ],
                [
                 -7.838069620253164
                ]
               ]
              ],
              "y": [
               [
                0.6171770238064217,
                0.7584610368438214,
                0.41415291414246913,
                0.19062752445061523,
                0.007601401816347124,
                0.38760696501961767,
                0.8439467876161743
               ],
               [
                0.6449333330728442,
                0.6835167889015916,
                0.5691945220838082,
                0.3633504199050962,
                0.11914888719998978,
                0.3471086255135685,
                0.8146056731477279
               ]
              ]
             },
             {
              "title": "Feature Comparison (Normalized with Raw Tooltips): Popular vs. Non-Popular Arabic Songs"
             }
            ],
            "label": "Arabic",
            "method": "update"
           },
           {
            "args": [
             {
              "customdata": [
               [
                [
                 0.5641555555555557
                ],
                [
                 0.6248222222222223
                ],
                [
                 0.4611777777777777
                ],
                [
                 0.33385155555555557
                ],
                [
                 0.014894820666666668
                ],
                [
                 109.2701111111111
                ],
                [
                 -7.669044444444445
                ]
               ],
               [
                [
                 0.44237674418604644
                ],
                [
                 0.5818372093023255
                ],
                [
                 0.3855441860465117
                ],
                [
                 0.505939534883721
                ],
                [
                 0.009212855116279069
                ],
                [
                 111.95241860465116
                ],
                [
                 -9.989627906976743
                ]
               ]
              ],
              "y": [
               [
                0.5651981218198027,
                0.615065995242063,
                0.45078105053037165,
                0.33518992860180646,
                0.015030091490077363,
                0.3159420639932457,
                0.8180281360591969
               ],
               [
                0.44315056172296047,
                0.5683482331293616,
                0.37178210366253567,
                0.5079696470830863,
                0.009296523830755873,
                0.3298260743328011,
                0.77104039712927
               ]
              ]
             },
             {
              "title": "Feature Comparison (Normalized with Raw Tooltips): Popular vs. Non-Popular Blues Songs"
             }
            ],
            "label": "Blues",
            "method": "update"
           },
           {
            "args": [
             {
              "customdata": [
               [
                [
                 0.7284285714285714
                ],
                [
                 0.7977857142857143
                ],
                [
                 0.6451428571428572
                ],
                [
                 0.32871692857142853
                ],
                [
                 0.03547938071428571
                ],
                [
                 114.91371428571429
                ],
                [
                 -3.689142857142856
                ]
               ],
               [
                [
                 0.6843358208955224
                ],
                [
                 0.721134328358209
                ],
                [
                 0.7522388059701492
                ],
                [
                 0.34820219402985075
                ],
                [
                 0.05884431619402985
                ],
                [
                 118.55872388059701
                ],
                [
                 -6.860388059701493
                ]
               ]
              ],
              "y": [
               [
                0.7298336651592523,
                0.8030493579890384,
                0.6429317496791906,
                0.33003466204404147,
                0.03580159506991494,
                0.34515416775735425,
                0.8986141523651395
               ],
               [
                0.6856436081206039,
                0.7197416893361689,
                0.7547929872259759,
                0.34959825209595957,
                0.059378724716478155,
                0.3640212629822718,
                0.8344020074169014
               ]
              ]
             },
             {
              "title": "Feature Comparison (Normalized with Raw Tooltips): Popular vs. Non-Popular Brazilian Songs"
             }
            ],
            "label": "Brazilian",
            "method": "update"
           },
           {
            "args": [
             {
              "customdata": [
               [
                [
                 0.116839
                ],
                [
                 0.275
                ],
                [
                 0.16494
                ],
                [
                 0.8916000000000001
                ],
                [
                 0.8766999999999999
                ],
                [
                 107.00519999999999
                ],
                [
                 -24.7237
                ]
               ],
               [
                [
                 0.20227027027027028
                ],
                [
                 0.26120810810810813
                ],
                [
                 0.13344774774774773
                ],
                [
                 0.7856014864864863
                ],
                [
                 0.715901282882883
                ],
                [
                 109.66844144144143
                ],
                [
                 -22.32181981981982
                ]
               ]
              ],
              "y": [
               [
                0.11689440147204141,
                0.23486577545918924,
                0.1413620221433048,
                0.8951803450777499,
                0.8846619576185673,
                0.30421855751213805,
                0.47270131816064953
               ],
               [
                0.20251420655310023,
                0.21987621791990883,
                0.10846850610794624,
                0.7887557511241297,
                0.7224029090644631,
                0.3180038792169605,
                0.5213351728224064
               ]
              ]
             },
             {
              "title": "Feature Comparison (Normalized with Raw Tooltips): Popular vs. Non-Popular Classical Songs"
             }
            ],
            "label": "Classical",
            "method": "update"
           },
           {
            "args": [
             {
              "customdata": [
               [
                [
                 0.4076666666666666
                ],
                [
                 0.5456666666666666
                ],
                [
                 0.6970000000000001
                ],
                [
                 0.4096666666666667
                ],
                [
                 0.00040796666666666664
                ],
                [
                 131.952
                ],
                [
                 -14.516
                ]
               ],
               [
                [
                 0.48712500000000003
                ],
                [
                 0.6016250000000001
                ],
                [
                 0.5972500000000001
                ],
                [
                 0.5489999999999999
                ],
                [
                 0.00018009250000000003
                ],
                [
                 101.31025
                ],
                [
                 -9.085875
                ]
               ]
              ],
              "y": [
               [
                0.4083638839391006,
                0.5290366989095389,
                0.6970963024858993,
                0.4113097924385758,
                0.00041167171207534477,
                0.43334679130821874,
                0.6793893129770994
               ],
               [
                0.4879975706505726,
                0.5898543636561244,
                0.5929078754961354,
                0.5512032016259978,
                0.00018172805247225026,
                0.27474067517624773,
                0.7893398060218276
               ]
              ]
             },
             {
              "title": "Feature Comparison (Normalized with Raw Tooltips): Popular vs. Non-Popular Country Songs"
             }
            ],
            "label": "Country",
            "method": "update"
           },
           {
            "args": [
             {
              "customdata": [
               [
                [
                 0.7454344594594594
                ],
                [
                 0.6774189189189189
                ],
                [
                 0.4716304054054054
                ],
                [
                 0.1689006554054054
                ],
                [
                 0.1181771643918919
                ],
                [
                 120.57521621621622
                ],
                [
                 -6.321709459459459
                ]
               ],
               [
                [
                 0.6058853741496598
                ],
                [
                 0.5791646258503401
                ],
                [
                 0.33874263038548746
                ],
                [
                 0.33969611469387756
                ],
                [
                 0.36902191648526084
                ],
                [
                 119.62712018140589
                ],
                [
                 -9.908603174603174
                ]
               ]
              ],
              "y": [
               [
                0.7468770827957758,
                0.6722301042483632,
                0.4616987731412214,
                0.16957597809554897,
                0.1192504181552895,
                0.3744589180627567,
                0.8453093028639226
               ],
               [
                0.607020032260698,
                0.5654435668409304,
                0.32289808897585914,
                0.3410579810160938,
                0.3723732759689816,
                0.36955143628376613,
                0.7726810056370468
               ]
              ]
             },
             {
              "title": "Feature Comparison (Normalized with Raw Tooltips): Popular vs. Non-Popular Electronic Songs"
             }
            ],
            "label": "Electronic",
            "method": "update"
           },
           {
            "args": [
             {
              "customdata": [
               [
                [
                 0.42357575757575755
                ],
                [
                 0.5668787878787878
                ],
                [
                 0.44483333333333336
                ],
                [
                 0.625067303030303
                ],
                [
                 0.04487209303030303
                ],
                [
                 119.6928787878788
                ],
                [
                 -10.98290909090909
                ]
               ],
               [
                [
                 0.4390200000000001
                ],
                [
                 0.5627428571428573
                ],
                [
                 0.45148571428571427
                ],
                [
                 0.6221527428571428
                ],
                [
                 0.047533481142857145
                ],
                [
                 116.63191428571429
                ],
                [
                 -9.902714285714287
                ]
               ]
              ],
              "y": [
               [
                0.42430808397667424,
                0.5520908465153656,
                0.4337093517164543,
                0.6275762711135705,
                0.045279609515946555,
                0.36989181231238444,
                0.7509281978879242
               ],
               [
                0.43978640967410243,
                0.5475957582250376,
                0.4406577337431734,
                0.624649995331954,
                0.047965167651722644,
                0.3540478186988948,
                0.7728002452930066
               ]
              ]
             },
             {
              "title": "Feature Comparison (Normalized with Raw Tooltips): Popular vs. Non-Popular Folk Songs"
             }
            ],
            "label": "Folk",
            "method": "update"
           },
           {
            "args": [
             {
              "customdata": [
               [
                [
                 0.70478
                ],
                [
                 0.7092599999999998
                ],
                [
                 0.505986
                ],
                [
                 0.16684765
                ],
                [
                 0.1093135502
                ],
                [
                 127.48352000000001
                ],
                [
                 -5.801310000000001
                ]
               ],
               [
                [
                 0.4204542424242425
                ],
                [
                 0.3202848484848485
                ],
                [
                 0.19971515151515154
                ],
                [
                 0.5277089606060607
                ],
                [
                 0.7688787878787878
                ],
                [
                 105.81078787878789
                ],
                [
                 -14.352909090909092
                ]
               ]
              ],
              "y": [
               [
                0.7061329046560527,
                0.7068362134550593,
                0.49758303739293924,
                0.16751472025888126,
                0.11030630696266398,
                0.4102172945329566,
                0.8558464778180493
               ],
               [
                0.4211796800797781,
                0.2840830871479714,
                0.17768451171417537,
                0.5298265789994772,
                0.775861541754579,
                0.2980361081544349,
                0.6826916174112805
               ]
              ]
             },
             {
              "title": "Feature Comparison (Normalized with Raw Tooltips): Popular vs. Non-Popular Gaming Songs"
             }
            ],
            "label": "Gaming",
            "method": "update"
           },
           {
            "args": [
             {
              "customdata": [
               [
                [
                 0.6299339207048459
                ],
                [
                 0.7359823788546255
                ],
                [
                 0.460695154185022
                ],
                [
                 0.17740653303964757
                ],
                [
                 0.00808599436123348
                ],
                [
                 122.37494713656386
                ],
                [
                 -6.481841409691631
                ]
               ],
               [
                [
                 0.6623809523809524
                ],
                [
                 0.755529761904762
                ],
                [
                 0.5860166666666667
                ],
                [
                 0.21913491071428576
                ],
                [
                 0.014906143571428573
                ],
                [
                 124.94155357142856
                ],
                [
                 -7.070279761904761
                ]
               ]
              ],
              "y": [
               [
                0.6311216505794216,
                0.7358791205897464,
                0.45027695235536036,
                0.17811604666290676,
                0.008159429224251745,
                0.383774584803689,
                0.8420669121491156
               ],
               [
                0.6636402882957797,
                0.7571239668566047,
                0.5811747092820835,
                0.22001215919471612,
                0.015041517226466773,
                0.3970597097809899,
                0.8301520691294315
               ]
              ]
             },
             {
              "title": "Feature Comparison (Normalized with Raw Tooltips): Popular vs. Non-Popular Hip-Hop Songs"
             }
            ],
            "label": "Hip-Hop",
            "method": "update"
           },
           {
            "args": [
             {
              "customdata": [
               [
                [
                 0.637
                ],
                [
                 0.6817777777777777
                ],
                [
                 0.4941111111111111
                ],
                [
                 0.4665111111111111
                ],
                [
                 0.000031011111111111114
                ],
                [
                 119.28944444444444
                ],
                [
                 -6.3678888888888885
                ]
               ],
               [
                [
                 0.7127083333333334
                ],
                [
                 0.611
                ],
                [
                 0.5818541666666667
                ],
                [
                 0.370108125
                ],
                [
                 0.09451048687500001
                ],
                [
                 126.9769375
                ],
                [
                 -6.6753124999999995
                ]
               ]
              ],
              "y": [
               [
                0.6382033237188289,
                0.6769674793802607,
                0.4851797692825477,
                0.4683827335392816,
                0.00003129274582352282,
                0.3678035779809127,
                0.8443742505337662
               ],
               [
                0.7140787347071585,
                0.6000434735354853,
                0.5768269967272474,
                0.37159223796800633,
                0.09536880613017155,
                0.40759515047051154,
                0.838149462409136
               ]
              ]
             },
             {
              "title": "Feature Comparison (Normalized with Raw Tooltips): Popular vs. Non-Popular Indian Songs"
             }
            ],
            "label": "Indian",
            "method": "update"
           },
           {
            "args": [
             {
              "customdata": [
               [
                [
                 0.7485
                ],
                [
                 0.7032499999999999
                ],
                [
                 0.72075
                ],
                [
                 0.08879250000000001
                ],
                [
                 0.287567275
                ],
                [
                 121.505
                ],
                [
                 -5.37525
                ]
               ],
               [
                [
                 0.7049230769230769
                ],
                [
                 0.6116923076923076
                ],
                [
                 0.6325384615384615
                ],
                [
                 0.09677000000000001
                ],
                [
                 0.026513610000000003
                ],
                [
                 112.33215384615383
                ],
                [
                 -6.521769230769231
                ]
               ]
              ],
              "y": [
               [
                0.7499493885535949,
                0.7003043147483968,
                0.7219030708167955,
                0.08914581328661617,
                0.29017888496468214,
                0.3792716129900515,
                0.8644734444286959
               ],
               [
                0.706276297329797,
                0.6007959001111919,
                0.6297665150809082,
                0.09715538030905153,
                0.026754399596367304,
                0.33179163869557987,
                0.8412584439069142
               ]
              ]
             },
             {
              "title": "Feature Comparison (Normalized with Raw Tooltips): Popular vs. Non-Popular Indie Songs"
             }
            ],
            "label": "Indie",
            "method": "update"
           },
           {
            "args": [
             {
              "customdata": [
               [
                [
                 0.8136363636363636
                ],
                [
                 0.6170909090909089
                ],
                [
                 0.6409090909090908
                ],
                [
                 0.1099018181818182
                ],
                [
                 0.0008963145454545453
                ],
                [
                 134.26981818181818
                ],
                [
                 -4.92
                ]
               ],
               [
                [
                 0.8322499999999998
                ],
                [
                 0.5453333333333333
                ],
                [
                 0.529
                ],
                [
                 0.1544326666666667
                ],
                [
                 0.0002027
                ],
                [
                 126.84750000000001
                ],
                [
                 -4.39975
                ]
               ]
              ],
              "y": [
               [
                0.8152294989931466,
                0.6066633073480155,
                0.6385095998632659,
                0.11033998423931889,
                0.0009044546371892486,
                0.4453441524158006,
                0.8736914572660823
               ],
               [
                0.8338842130371078,
                0.5286744194471615,
                0.5216210570294549,
                0.15504983262607003,
                0.00020454086781029258,
                0.4069251633073491,
                0.8842256059286857
               ]
              ]
             },
             {
              "title": "Feature Comparison (Normalized with Raw Tooltips): Popular vs. Non-Popular J-Pop Songs"
             }
            ],
            "label": "J-Pop",
            "method": "update"
           },
           {
            "args": [
             {
              "customdata": [
               [
                [
                 0.182
                ],
                [
                 0.349
                ],
                [
                 0.178
                ],
                [
                 0.92
                ],
                [
                 0.0152
                ],
                [
                 136.094
                ],
                [
                 -13.507
                ]
               ],
               [
                [
                 0.4089848275862069
                ],
                [
                 0.6654137931034484
                ],
                [
                 0.48644896551724137
                ],
                [
                 0.515815103448276
                ],
                [
                 0.6931174137931034
                ],
                [
                 106.12625517241379
                ],
                [
                 -11.056606896551724
                ]
               ]
              ],
              "y": [
               [
                0.18219920264422257,
                0.31529181610694484,
                0.15500313348652597,
                0.9236945040795881,
                0.015338042381432895,
                0.454786380529416,
                0.6998197906331627
               ],
               [
                0.40968495385459475,
                0.6591824726697624,
                0.4771766926229804,
                0.5178849123043282,
                0.6994121228991963,
                0.2996690123524219,
                0.7494359467764448
               ]
              ]
             },
             {
              "title": "Feature Comparison (Normalized with Raw Tooltips): Popular vs. Non-Popular Jazz Songs"
             }
            ],
            "label": "Jazz",
            "method": "update"
           },
           {
            "args": [
             {
              "customdata": [
               [
                [
                 0.7486363636363635
                ],
                [
                 0.7570909090909091
                ],
                [
                 0.6160000000000001
                ],
                [
                 0.1465281818181818
                ],
                [
                 0.0000011145454545454545
                ],
                [
                 122.19109090909092
                ],
                [
                 -4.011363636363637
                ]
               ],
               [
                [
                 0.7444999999999999
                ],
                [
                 0.7263333333333334
                ],
                [
                 0.7263333333333333
                ],
                [
                 0.037768333333333334
                ],
                [
                 0.000013358333333333332
                ],
                [
                 118.82683333333331
                ],
                [
                 -4.398000000000001
                ]
               ]
              ],
              "y": [
               [
                0.7500860531253456,
                0.7588206815464723,
                0.6124921662836851,
                0.14711357425292507,
                0.0000011246674617007614,
                0.38282291846067124,
                0.8920897475780339
               ],
               [
                0.7459405611155766,
                0.7253921675180234,
                0.7277348374068658,
                0.03791654563627728,
                0.000013479650184998319,
                0.36540903616744486,
                0.8842610403547493
               ]
              ]
             },
             {
              "title": "Feature Comparison (Normalized with Raw Tooltips): Popular vs. Non-Popular K-Pop Songs"
             }
            ],
            "label": "K-Pop",
            "method": "update"
           },
           {
            "args": [
             {
              "customdata": [
               [
                [
                 0.528
                ],
                [
                 0.5690000000000001
                ],
                [
                 0.34825
                ],
                [
                 0.486875
                ],
                [
                 0.00000310875
                ],
                [
                 128.18099999999998
                ],
                [
                 -6.84825
                ]
               ],
               [
                [
                 0.5664615384615385
                ],
                [
                 0.5331538461538462
                ],
                [
                 0.35061538461538466
                ],
                [
                 0.5527923076923078
                ],
                [
                 0.009059151538461539
                ],
                [
                 114.9378846153846
                ],
                [
                 -5.595923076923077
                ]
               ]
              ],
              "y": [
               [
                0.5289627760328243,
                0.5543962612759482,
                0.3328284938374765,
                0.48882847880947683,
                0.0000031369828456104945,
                0.41382755158027684,
                0.8346477818049285
               ],
               [
                0.5675091937060793,
                0.5154372852449149,
                0.3352991274445212,
                0.5550107531936864,
                0.009141424357680665,
                0.34527927686876725,
                0.8600052022410132
               ]
              ]
             },
             {
              "title": "Feature Comparison (Normalized with Raw Tooltips): Popular vs. Non-Popular Korean Songs"
             }
            ],
            "label": "Korean",
            "method": "update"
           },
           {
            "args": [
             {
              "customdata": [
               [
                [
                 0.6741358695652174
                ],
                [
                 0.7440597826086958
                ],
                [
                 0.600820652173913
                ],
                [
                 0.2681764130434783
                ],
                [
                 0.006677809130434782
                ],
                [
                 118.97821195652175
                ],
                [
                 -5.56679347826087
                ]
               ],
               [
                [
                 0.6061078838174274
                ],
                [
                 0.721564315352697
                ],
                [
                 0.5820609958506224
                ],
                [
                 0.3247130290456432
                ],
                [
                 0.03591381975103734
                ],
                [
                 122.02341908713693
                ],
                [
                 -7.1882821576763485
                ]
               ]
              ],
              "y": [
               [
                0.6754211469307589,
                0.7446579530580324,
                0.5966374056548078,
                0.26925079282512504,
                0.006738455227482122,
                0.36619259374784796,
                0.8605950254467598
               ],
               [
                0.6072430329760405,
                0.7202090157077461,
                0.5770430288809509,
                0.32601466811074464,
                0.036239979567141624,
                0.38195502493419536,
                0.8277627278904095
               ]
              ]
             },
             {
              "title": "Feature Comparison (Normalized with Raw Tooltips): Popular vs. Non-Popular Latin Songs"
             }
            ],
            "label": "Latin",
            "method": "update"
           },
           {
            "args": [
             {
              "customdata": [
               [
                [
                 0.1815
                ],
                [
                 0.51
                ],
                [
                 0.10675
                ],
                [
                 0.8069999999999999
                ],
                [
                 0.013
                ],
                [
                 114.45150000000001
                ],
                [
                 -17.628999999999998
                ]
               ],
               [
                [
                 0.29397533783783786
                ],
                [
                 0.6629560810810812
                ],
                [
                 0.3152054054054054
                ],
                [
                 0.7145236486486486
                ],
                [
                 0.839585822972973
                ],
                [
                 111.37394932432431
                ],
                [
                 -14.361804054054055
                ]
               ]
              ],
              "y": [
               [
                0.18169809921447028,
                0.4902727964351701,
                0.08058282849383747,
                0.8102402798821333,
                0.013118062563067608,
                0.34276167996935725,
                0.6163565310709296
               ],
               [
                0.294421654320652,
                0.6565113368993383,
                0.29831356319762414,
                0.71739220289825,
                0.847210719448005,
                0.32683183393026866,
                0.6825115100319102
               ]
              ]
             },
             {
              "title": "Feature Comparison (Normalized with Raw Tooltips): Popular vs. Non-Popular Lofi Songs"
             }
            ],
            "label": "Lofi",
            "method": "update"
           },
           {
            "args": [
             {
              "customdata": [
               [
                [
                 0.8593714285714286
                ],
                [
                 0.4444
                ],
                [
                 0.43320000000000003
                ],
                [
                 0.004443405714285715
                ],
                [
                 0.07757776000000001
                ],
                [
                 118.45748571428571
                ],
                [
                 -6.7988857142857135
                ]
               ],
               [
                [
                 0.9285
                ],
                [
                 0.45157142857142857
                ],
                [
                 0.35457142857142854
                ],
                [
                 0.0025190714285714287
                ],
                [
                 0.10206840642857143
                ],
                [
                 120.866
                ],
                [
                 -4.997714285714286
                ]
               ]
              ],
              "y": [
               [
                0.8610654947909584,
                0.41897619823932175,
                0.42155838729893463,
                0.004457662366760655,
                0.07828230070635722,
                0.3634972396362502,
                0.8356473218805411
               ],
               [
                0.9303466232644283,
                0.4267703821013245,
                0.33943119758870754,
                0.0025255928669174906,
                0.10299536471097016,
                0.3759640568547678,
                0.87211787948824
               ]
              ]
             },
             {
              "title": "Feature Comparison (Normalized with Raw Tooltips): Popular vs. Non-Popular Metal Songs"
             }
            ],
            "label": "Metal",
            "method": "update"
           },
           {
            "args": [
             {
              "customdata": [
               [
                [
                 0.6811588235294117
                ],
                [
                 0.6520672268907564
                ],
                [
                 0.5761078431372549
                ],
                [
                 0.20385173193277312
                ],
                [
                 0.02314845770308123
                ],
                [
                 120.2065518207283
                ],
                [
                 -6.217056022408964
                ]
               ],
               [
                [
                 0.6678291139240506
                ],
                [
                 0.6281708860759493
                ],
                [
                 0.5181905063291139
                ],
                [
                 0.1859015569620253
                ],
                [
                 0.04465769126582278
                ],
                [
                 120.87955063291137
                ],
                [
                 -6.6693797468354425
                ]
               ]
              ],
              "y": [
               [
                0.6824595995676598,
                0.6446769121734119,
                0.570824987609416,
                0.2046675468767735,
                0.023358685875964916,
                0.37255065799521886,
                0.8474283511367575
               ],
               [
                0.6691004731659621,
                0.6187054516638946,
                0.5103305894392248,
                0.18664521788991717,
                0.045063260611324714,
                0.37603419688453776,
                0.8382695902396289
               ]
              ]
             },
             {
              "title": "Feature Comparison (Normalized with Raw Tooltips): Popular vs. Non-Popular Pop Songs"
             }
            ],
            "label": "Pop",
            "method": "update"
           },
           {
            "args": [
             {
              "customdata": [
               [
                [
                 0.85958
                ],
                [
                 0.493
                ],
                [
                 0.560114
                ],
                [
                 0.019114634
                ],
                [
                 0.0004996498
                ],
                [
                 139.24744
                ],
                [
                 -4.32236
                ]
               ],
               [
                [
                 0.796875
                ],
                [
                 0.48183333333333334
                ],
                [
                 0.6039416666666666
                ],
                [
                 0.1332198875
                ],
                [
                 0.00237700375
                ],
                [
                 127.96991666666668
                ],
                [
                 -5.154749999999999
                ]
               ]
              ],
              "y": [
               [
                0.8612745265073692,
                0.4717965438539289,
                0.5541194902861917,
                0.019187864341800188,
                0.0005041874873864784,
                0.47110904065343656,
                0.8857926174904326
               ],
               [
                0.7984311453821316,
                0.4596601818642901,
                0.5998972912749809,
                0.13375178480814004,
                0.00239859106962664,
                0.4127349538115401,
                0.8689381821127018
               ]
              ]
             },
             {
              "title": "Feature Comparison (Normalized with Raw Tooltips): Popular vs. Non-Popular Punk Songs"
             }
            ],
            "label": "Punk",
            "method": "update"
           },
           {
            "args": [
             {
              "customdata": [
               [
                [
                 0.6476
                ],
                [
                 0.8800000000000001
                ],
                [
                 0.7936
                ],
                [
                 0.14112
                ],
                [
                 0.00008506
                ],
                [
                 95.18499999999999
                ],
                [
                 -7.8712
                ]
               ],
               [
                [
                 0.6328947368421053
                ],
                [
                 0.7388947368421053
                ],
                [
                 0.739
                ],
                [
                 0.16263578947368423
                ],
                [
                 0.015065005789473682
                ],
                [
                 107.57721052631578
                ],
                [
                 -6.662999999999999
                ]
               ]
              ],
              "y": [
               [
                0.6488267164295778,
                0.8924029996739484,
                0.7979945686233549,
                0.14168365325734458,
                0.00008583249243188698,
                0.2430354979968322,
                0.8139348411525301
               ],
               [
                0.6340890008219151,
                0.7390443830476091,
                0.7409651138500104,
                0.1632859293877216,
                0.01520182218917627,
                0.307179366472643,
                0.8383987689067974
               ]
              ]
             },
             {
              "title": "Feature Comparison (Normalized with Raw Tooltips): Popular vs. Non-Popular Reggae Songs"
             }
            ],
            "label": "Reggae",
            "method": "update"
           },
           {
            "args": [
             {
              "customdata": [
               [
                [
                 0.7302851063829788
                ],
                [
                 0.5451617021276596
                ],
                [
                 0.5813276595744681
                ],
                [
                 0.11099744382978724
                ],
                [
                 0.04051580834042552
                ],
                [
                 123.34727234042555
                ],
                [
                 -7.2139319148936165
                ]
               ],
               [
                [
                 0.741672727272727
                ],
                [
                 0.5484727272727273
                ],
                [
                 0.5470036363636365
                ],
                [
                 0.11035719272727272
                ],
                [
                 0.053687374090909096
                ],
                [
                 127.99890909090908
                ],
                [
                 -6.191781818181819
                ]
               ]
              ],
              "y": [
               [
                0.7316942972254692,
                0.5284878840644056,
                0.5762770624341633,
                0.11144001395525836,
                0.04088376220022758,
                0.38880748025521256,
                0.8272433653614591
               ],
               [
                0.7431070489946133,
                0.5320864332928239,
                0.5404257743509886,
                0.11079718924616679,
                0.054174948628566186,
                0.4128850227797401,
                0.8479401093773296
               ]
              ]
             },
             {
              "title": "Feature Comparison (Normalized with Raw Tooltips): Popular vs. Non-Popular Rock Songs"
             }
            ],
            "label": "Rock",
            "method": "update"
           },
           {
            "args": [
             {
              "customdata": [
               [
                [
                 0.5385
                ],
                [
                 0.5760000000000001
                ],
                [
                 0.34650000000000003
                ],
                [
                 0.4465
                ],
                [
                 0.0016795
                ],
                [
                 156.39999999999998
                ],
                [
                 -6.265499999999999
                ]
               ],
               [
                [
                 0.5113809523809525
                ],
                [
                 0.609
                ],
                [
                 0.5023571428571427
                ],
                [
                 0.4476904761904762
                ],
                [
                 0.05831724833333333
                ],
                [
                 116.73559523809523
                ],
                [
                 -8.858547619047618
                ]
               ]
              ],
              "y": [
               [
                0.5394859480576228,
                0.5620041299858711,
                0.3310006266973052,
                0.44829118410175794,
                0.001694752774974773,
                0.5598931643839871,
                0.8464474456840869
               ],
               [
                0.5123070525105806,
                0.5978697967612217,
                0.4937927124056224,
                0.4494864456293333,
                0.058846870164816684,
                0.3545844862578302,
                0.793942786177585
               ]
              ]
             },
             {
              "title": "Feature Comparison (Normalized with Raw Tooltips): Popular vs. Non-Popular Soul Songs"
             }
            ],
            "label": "Soul",
            "method": "update"
           },
           {
            "args": [
             {
              "customdata": [
               [
                [
                 0.654
                ],
                [
                 0.6457142857142857
                ],
                [
                 0.5771428571428572
                ],
                [
                 0.47468571428571427
                ],
                [
                 0.0021274342857142857
                ],
                [
                 113.41499999999999
                ],
                [
                 -7.713142857142857
                ]
               ],
               [
                [
                 0.7077031250000001
                ],
                [
                 0.6884062500000001
                ],
                [
                 0.511078125
                ],
                [
                 0.25676
                ],
                [
                 0.00651613984375
                ],
                [
                 119.473515625
                ],
                [
                 -6.388484375
                ]
               ]
              ],
              "y": [
               [
                0.6552408403304074,
                0.6377722918316332,
                0.5719060550896774,
                0.47659019602863256,
                0.0021467550814473118,
                0.33739660651987124,
                0.8171352206624648
               ],
               [
                0.7090624805822421,
                0.6841715574394088,
                0.5029017390850219,
                0.2577884894183504,
                0.006575317703077699,
                0.36875635695207926,
                0.8439572281167109
               ]
              ]
             },
             {
              "title": "Feature Comparison (Normalized with Raw Tooltips): Popular vs. Non-Popular Turkish Songs"
             }
            ],
            "label": "Turkish",
            "method": "update"
           },
           {
            "args": [
             {
              "customdata": [
               [
                [
                 0.51325
                ],
                [
                 0.71625
                ],
                [
                 0.63175
                ],
                [
                 0.55025
                ],
                [
                 0.0002086675
                ],
                [
                 92.463
                ],
                [
                 -7.44275
                ]
               ],
               [
                [
                 0.5506550446428571
                ],
                [
                 0.6191428571428571
                ],
                [
                 0.49063973214285717
                ],
                [
                 0.4068556428571428
                ],
                [
                 0.253639218125
                ],
                [
                 118.87617410714286
                ],
                [
                 -9.426473214285716
                ]
               ]
              ],
              "y": [
               [
                0.514180224855131,
                0.7144332137811108,
                0.6289429705452266,
                0.552458226229952,
                0.00021056256306760848,
                0.22894603352070977,
                0.8226102010650577
               ],
               [
                0.5516678171762793,
                0.608893443259273,
                0.48155392954131726,
                0.40848746920397316,
                0.2559427024470232,
                0.36566443112696495,
                0.7824432904552674
               ]
              ]
             },
             {
              "title": "Feature Comparison (Normalized with Raw Tooltips): Popular vs. Non-Popular World Songs"
             }
            ],
            "label": "World",
            "method": "update"
           }
          ],
          "direction": "down",
          "showactive": true,
          "x": 1,
          "xanchor": "left",
          "y": 1.2,
          "yanchor": "top"
         }
        ],
        "xaxis": {
         "title": {
          "text": "Features"
         }
        },
        "yaxis": {
         "title": {
          "text": "Normalized Value (0 - 1)"
         }
        }
       }
      }
     },
     "metadata": {},
     "output_type": "display_data"
    }
   ],
   "source": [
    "# Features to include\n",
    "features = ['energy', 'danceability', 'valence', 'acousticness', 'instrumentalness', 'tempo', 'loudness']\n",
    "\n",
    "# Combine and get min/max for normalization\n",
    "combined_df = pd.concat([high_song_popularity, low_song_popularity])\n",
    "feature_min = combined_df[features].min()\n",
    "feature_max = combined_df[features].max()\n",
    "\n",
    "# Normalize and retain original values for tooltip\n",
    "high_norm = high_song_popularity.copy()\n",
    "low_norm = low_song_popularity.copy()\n",
    "\n",
    "for feature in features:\n",
    "    high_norm[feature + '_orig'] = high_song_popularity[feature]\n",
    "    low_norm[feature + '_orig'] = low_song_popularity[feature]\n",
    "    high_norm[feature] = (high_song_popularity[feature] - feature_min[feature]) / (feature_max[feature] - feature_min[feature])\n",
    "    low_norm[feature] = (low_song_popularity[feature] - feature_min[feature]) / (feature_max[feature] - feature_min[feature])\n",
    "\n",
    "# Unique genres with valid data\n",
    "genres = sorted(set(high_norm['playlist_genre'].unique().tolist() + low_norm['playlist_genre'].unique().tolist()))\n",
    "data_by_genre = {}\n",
    "\n",
    "for genre in genres:\n",
    "    pop_filtered = high_norm[high_norm[\"playlist_genre\"] == genre]\n",
    "    non_pop_filtered = low_norm[low_norm[\"playlist_genre\"] == genre]\n",
    "    if pop_filtered.empty or non_pop_filtered.empty:\n",
    "        continue\n",
    "\n",
    "    pop_avg = pop_filtered[features].mean()\n",
    "    non_pop_avg = non_pop_filtered[features].mean()\n",
    "    pop_raw = pop_filtered[[f + \"_orig\" for f in features]].mean()\n",
    "    non_pop_raw = non_pop_filtered[[f + \"_orig\" for f in features]].mean()\n",
    "\n",
    "    data_by_genre[genre] = {\n",
    "        \"pop_norm\": pop_avg,\n",
    "        \"non_pop_norm\": non_pop_avg,\n",
    "        \"pop_raw\": pop_raw,\n",
    "        \"non_pop_raw\": non_pop_raw\n",
    "    }\n",
    "\n",
    "# Keep only genres with data\n",
    "genres = list(data_by_genre.keys())\n",
    "initial_genre = genres[0]\n",
    "\n",
    "# Create figure with initial genre\n",
    "fig = go.Figure()\n",
    "\n",
    "# Add normalized bars with raw values in customdata\n",
    "fig.add_trace(go.Bar(\n",
    "    name='Popular songs',\n",
    "    x=features,\n",
    "    y=data_by_genre[initial_genre]['pop_norm'],\n",
    "    marker_color='green',\n",
    "    customdata=data_by_genre[initial_genre]['pop_raw'].values.reshape(-1, 1),\n",
    "    hovertemplate='%{x}<br>Normalized: %{y:.2f}<br>Raw: %{customdata[0]:.2f}<extra></extra>'\n",
    "))\n",
    "\n",
    "fig.add_trace(go.Bar(\n",
    "    name='Non-popular songs',\n",
    "    x=features,\n",
    "    y=data_by_genre[initial_genre]['non_pop_norm'],\n",
    "    marker_color='blue',\n",
    "    customdata=data_by_genre[initial_genre]['non_pop_raw'].values.reshape(-1, 1),\n",
    "    hovertemplate='%{x}<br>Normalized: %{y:.2f}<br>Raw: %{customdata[0]:.2f}<extra></extra>'\n",
    "))\n",
    "\n",
    "# Dropdown buttons\n",
    "dropdown_buttons = []\n",
    "for genre in genres:\n",
    "    dropdown_buttons.append({\n",
    "        'label': genre.title(),\n",
    "        'method': 'update',\n",
    "        'args': [\n",
    "            {\n",
    "                'y': [\n",
    "                    data_by_genre[genre]['pop_norm'],\n",
    "                    data_by_genre[genre]['non_pop_norm']\n",
    "                ],\n",
    "                'customdata': [\n",
    "                    data_by_genre[genre]['pop_raw'].values.reshape(-1, 1),\n",
    "                    data_by_genre[genre]['non_pop_raw'].values.reshape(-1, 1)\n",
    "                ]\n",
    "            },\n",
    "            {\n",
    "                'title': f'Feature Comparison (Normalized with Raw Tooltips): Popular vs. Non-Popular {genre.title()} Songs'\n",
    "            }\n",
    "        ]\n",
    "    })\n",
    "\n",
    "# Layout\n",
    "fig.update_layout(\n",
    "    updatemenus=[\n",
    "        {\n",
    "            'buttons': dropdown_buttons,\n",
    "            'direction': 'down',\n",
    "            'showactive': True,\n",
    "            'x': 1.0,\n",
    "            'y': 1.2,\n",
    "            'xanchor': 'left',\n",
    "            'yanchor': 'top'\n",
    "        }\n",
    "    ],\n",
    "    title=f'Feature Comparison (Normalized with Raw Tooltips): Popular vs. Non-Popular {initial_genre.title()} Songs',\n",
    "    xaxis_title='Features',\n",
    "    yaxis_title='Normalized Value (0 - 1)',\n",
    "    barmode='group',\n",
    "    template='plotly_dark',\n",
    "    height=500\n",
    ")\n",
    "\n",
    "fig.show()"
   ]
  },
  {
   "cell_type": "markdown",
   "metadata": {},
   "source": [
    "### Heatmap Correlation for Popular Songs Between Audio Features\n",
    "This heatmap helps artists understand the relationships between different audio features. A strong positive correlation (closer to +1) means two features increase together, for example, higher energy often means higher loudness. A strong negative correlation (closer to –1) means as one feature increases, the other decreases, such as more acoustic songs often being less energetic. A correlation close to 0 means there's no meaningful relationship between the two features.\n",
    "\n",
    "This heatmap is not about predicting popularity directly. Instead, it shows how features relate to one another across popular songs. Artists can use it to see which features influence each other, for example, if you want to raise your song’s danceability, the heatmap can show which other traits (like energy or valence) tend to rise with it."
   ]
  },
  {
   "cell_type": "code",
   "execution_count": 5,
   "metadata": {},
   "outputs": [
    {
     "data": {
      "application/vnd.plotly.v1+json": {
       "config": {
        "plotlyServerURL": "https://plot.ly"
       },
       "data": [
        {
         "coloraxis": "coloraxis",
         "hovertemplate": "Audio Feature: %{x}<br>Audio Feature: %{y}<br>Correlation: %{z}<extra></extra>",
         "name": "0",
         "texttemplate": "%{z:.2f}",
         "type": "heatmap",
         "x": [
          "energy",
          "danceability",
          "valence",
          "acousticness",
          "instrumentalness",
          "tempo",
          "loudness"
         ],
         "xaxis": "x",
         "y": [
          "energy",
          "danceability",
          "valence",
          "acousticness",
          "instrumentalness",
          "tempo",
          "loudness"
         ],
         "yaxis": "y",
         "z": {
          "bdata": "AAAAAAAA8D93nd/rayeSP+A+JTsa5NQ/yd8ZYX9m478852+I/M27v/Xq+h6MWb0/iX8EjOMd5j93nd/rayeSPwAAAAAAAPA/RVTjoxc61j+wT8O6IRnAvx4Il6z4vru/JHA62NB7vL/o+yYCkTbLP+A+JTsa5NQ/RVTjoxc61j8AAAAAAADwP7hdqh2hQ8a/R60z9sXgwb9zJugmZAhmP1i+vbjzBc4/yd8ZYX9m47+wT8O6IRnAv7hdqh2hQ8a/AAAAAAAA8D/gAAaMSm7DPxgASEh2A8G/ag/yvffP3r8852+I/M27vx4Il6z4vru/R60z9sXgwb/gAAaMSm7DPwAAAAAAAPA/7YXUIipCg79R/FW2XcPWv/Xq+h6MWb0/JHA62NB7vL9zJugmZAhmPxgASEh2A8G/7YXUIipCg78AAAAAAADwP1ulp/cFBrA/iX8EjOMd5j/o+yYCkTbLP1i+vbjzBc4/ag/yvffP3r9R/FW2XcPWv1ulp/cFBrA/AAAAAAAA8D8=",
          "dtype": "f8",
          "shape": "7, 7"
         }
        }
       ],
       "layout": {
        "coloraxis": {
         "colorbar": {
          "title": {
           "text": "Correlation"
          }
         },
         "colorscale": [
          [
           0,
           "#440154"
          ],
          [
           0.1111111111111111,
           "#482878"
          ],
          [
           0.2222222222222222,
           "#3e4989"
          ],
          [
           0.3333333333333333,
           "#31688e"
          ],
          [
           0.4444444444444444,
           "#26828e"
          ],
          [
           0.5555555555555556,
           "#1f9e89"
          ],
          [
           0.6666666666666666,
           "#35b779"
          ],
          [
           0.7777777777777778,
           "#6ece58"
          ],
          [
           0.8888888888888888,
           "#b5de2b"
          ],
          [
           1,
           "#fde725"
          ]
         ]
        },
        "height": 700,
        "margin": {
         "t": 60
        },
        "template": {
         "data": {
          "bar": [
           {
            "error_x": {
             "color": "#f2f5fa"
            },
            "error_y": {
             "color": "#f2f5fa"
            },
            "marker": {
             "line": {
              "color": "rgb(17,17,17)",
              "width": 0.5
             },
             "pattern": {
              "fillmode": "overlay",
              "size": 10,
              "solidity": 0.2
             }
            },
            "type": "bar"
           }
          ],
          "barpolar": [
           {
            "marker": {
             "line": {
              "color": "rgb(17,17,17)",
              "width": 0.5
             },
             "pattern": {
              "fillmode": "overlay",
              "size": 10,
              "solidity": 0.2
             }
            },
            "type": "barpolar"
           }
          ],
          "carpet": [
           {
            "aaxis": {
             "endlinecolor": "#A2B1C6",
             "gridcolor": "#506784",
             "linecolor": "#506784",
             "minorgridcolor": "#506784",
             "startlinecolor": "#A2B1C6"
            },
            "baxis": {
             "endlinecolor": "#A2B1C6",
             "gridcolor": "#506784",
             "linecolor": "#506784",
             "minorgridcolor": "#506784",
             "startlinecolor": "#A2B1C6"
            },
            "type": "carpet"
           }
          ],
          "choropleth": [
           {
            "colorbar": {
             "outlinewidth": 0,
             "ticks": ""
            },
            "type": "choropleth"
           }
          ],
          "contour": [
           {
            "colorbar": {
             "outlinewidth": 0,
             "ticks": ""
            },
            "colorscale": [
             [
              0,
              "#0d0887"
             ],
             [
              0.1111111111111111,
              "#46039f"
             ],
             [
              0.2222222222222222,
              "#7201a8"
             ],
             [
              0.3333333333333333,
              "#9c179e"
             ],
             [
              0.4444444444444444,
              "#bd3786"
             ],
             [
              0.5555555555555556,
              "#d8576b"
             ],
             [
              0.6666666666666666,
              "#ed7953"
             ],
             [
              0.7777777777777778,
              "#fb9f3a"
             ],
             [
              0.8888888888888888,
              "#fdca26"
             ],
             [
              1,
              "#f0f921"
             ]
            ],
            "type": "contour"
           }
          ],
          "contourcarpet": [
           {
            "colorbar": {
             "outlinewidth": 0,
             "ticks": ""
            },
            "type": "contourcarpet"
           }
          ],
          "heatmap": [
           {
            "colorbar": {
             "outlinewidth": 0,
             "ticks": ""
            },
            "colorscale": [
             [
              0,
              "#0d0887"
             ],
             [
              0.1111111111111111,
              "#46039f"
             ],
             [
              0.2222222222222222,
              "#7201a8"
             ],
             [
              0.3333333333333333,
              "#9c179e"
             ],
             [
              0.4444444444444444,
              "#bd3786"
             ],
             [
              0.5555555555555556,
              "#d8576b"
             ],
             [
              0.6666666666666666,
              "#ed7953"
             ],
             [
              0.7777777777777778,
              "#fb9f3a"
             ],
             [
              0.8888888888888888,
              "#fdca26"
             ],
             [
              1,
              "#f0f921"
             ]
            ],
            "type": "heatmap"
           }
          ],
          "histogram": [
           {
            "marker": {
             "pattern": {
              "fillmode": "overlay",
              "size": 10,
              "solidity": 0.2
             }
            },
            "type": "histogram"
           }
          ],
          "histogram2d": [
           {
            "colorbar": {
             "outlinewidth": 0,
             "ticks": ""
            },
            "colorscale": [
             [
              0,
              "#0d0887"
             ],
             [
              0.1111111111111111,
              "#46039f"
             ],
             [
              0.2222222222222222,
              "#7201a8"
             ],
             [
              0.3333333333333333,
              "#9c179e"
             ],
             [
              0.4444444444444444,
              "#bd3786"
             ],
             [
              0.5555555555555556,
              "#d8576b"
             ],
             [
              0.6666666666666666,
              "#ed7953"
             ],
             [
              0.7777777777777778,
              "#fb9f3a"
             ],
             [
              0.8888888888888888,
              "#fdca26"
             ],
             [
              1,
              "#f0f921"
             ]
            ],
            "type": "histogram2d"
           }
          ],
          "histogram2dcontour": [
           {
            "colorbar": {
             "outlinewidth": 0,
             "ticks": ""
            },
            "colorscale": [
             [
              0,
              "#0d0887"
             ],
             [
              0.1111111111111111,
              "#46039f"
             ],
             [
              0.2222222222222222,
              "#7201a8"
             ],
             [
              0.3333333333333333,
              "#9c179e"
             ],
             [
              0.4444444444444444,
              "#bd3786"
             ],
             [
              0.5555555555555556,
              "#d8576b"
             ],
             [
              0.6666666666666666,
              "#ed7953"
             ],
             [
              0.7777777777777778,
              "#fb9f3a"
             ],
             [
              0.8888888888888888,
              "#fdca26"
             ],
             [
              1,
              "#f0f921"
             ]
            ],
            "type": "histogram2dcontour"
           }
          ],
          "mesh3d": [
           {
            "colorbar": {
             "outlinewidth": 0,
             "ticks": ""
            },
            "type": "mesh3d"
           }
          ],
          "parcoords": [
           {
            "line": {
             "colorbar": {
              "outlinewidth": 0,
              "ticks": ""
             }
            },
            "type": "parcoords"
           }
          ],
          "pie": [
           {
            "automargin": true,
            "type": "pie"
           }
          ],
          "scatter": [
           {
            "marker": {
             "line": {
              "color": "#283442"
             }
            },
            "type": "scatter"
           }
          ],
          "scatter3d": [
           {
            "line": {
             "colorbar": {
              "outlinewidth": 0,
              "ticks": ""
             }
            },
            "marker": {
             "colorbar": {
              "outlinewidth": 0,
              "ticks": ""
             }
            },
            "type": "scatter3d"
           }
          ],
          "scattercarpet": [
           {
            "marker": {
             "colorbar": {
              "outlinewidth": 0,
              "ticks": ""
             }
            },
            "type": "scattercarpet"
           }
          ],
          "scattergeo": [
           {
            "marker": {
             "colorbar": {
              "outlinewidth": 0,
              "ticks": ""
             }
            },
            "type": "scattergeo"
           }
          ],
          "scattergl": [
           {
            "marker": {
             "line": {
              "color": "#283442"
             }
            },
            "type": "scattergl"
           }
          ],
          "scattermap": [
           {
            "marker": {
             "colorbar": {
              "outlinewidth": 0,
              "ticks": ""
             }
            },
            "type": "scattermap"
           }
          ],
          "scattermapbox": [
           {
            "marker": {
             "colorbar": {
              "outlinewidth": 0,
              "ticks": ""
             }
            },
            "type": "scattermapbox"
           }
          ],
          "scatterpolar": [
           {
            "marker": {
             "colorbar": {
              "outlinewidth": 0,
              "ticks": ""
             }
            },
            "type": "scatterpolar"
           }
          ],
          "scatterpolargl": [
           {
            "marker": {
             "colorbar": {
              "outlinewidth": 0,
              "ticks": ""
             }
            },
            "type": "scatterpolargl"
           }
          ],
          "scatterternary": [
           {
            "marker": {
             "colorbar": {
              "outlinewidth": 0,
              "ticks": ""
             }
            },
            "type": "scatterternary"
           }
          ],
          "surface": [
           {
            "colorbar": {
             "outlinewidth": 0,
             "ticks": ""
            },
            "colorscale": [
             [
              0,
              "#0d0887"
             ],
             [
              0.1111111111111111,
              "#46039f"
             ],
             [
              0.2222222222222222,
              "#7201a8"
             ],
             [
              0.3333333333333333,
              "#9c179e"
             ],
             [
              0.4444444444444444,
              "#bd3786"
             ],
             [
              0.5555555555555556,
              "#d8576b"
             ],
             [
              0.6666666666666666,
              "#ed7953"
             ],
             [
              0.7777777777777778,
              "#fb9f3a"
             ],
             [
              0.8888888888888888,
              "#fdca26"
             ],
             [
              1,
              "#f0f921"
             ]
            ],
            "type": "surface"
           }
          ],
          "table": [
           {
            "cells": {
             "fill": {
              "color": "#506784"
             },
             "line": {
              "color": "rgb(17,17,17)"
             }
            },
            "header": {
             "fill": {
              "color": "#2a3f5f"
             },
             "line": {
              "color": "rgb(17,17,17)"
             }
            },
            "type": "table"
           }
          ]
         },
         "layout": {
          "annotationdefaults": {
           "arrowcolor": "#f2f5fa",
           "arrowhead": 0,
           "arrowwidth": 1
          },
          "autotypenumbers": "strict",
          "coloraxis": {
           "colorbar": {
            "outlinewidth": 0,
            "ticks": ""
           }
          },
          "colorscale": {
           "diverging": [
            [
             0,
             "#8e0152"
            ],
            [
             0.1,
             "#c51b7d"
            ],
            [
             0.2,
             "#de77ae"
            ],
            [
             0.3,
             "#f1b6da"
            ],
            [
             0.4,
             "#fde0ef"
            ],
            [
             0.5,
             "#f7f7f7"
            ],
            [
             0.6,
             "#e6f5d0"
            ],
            [
             0.7,
             "#b8e186"
            ],
            [
             0.8,
             "#7fbc41"
            ],
            [
             0.9,
             "#4d9221"
            ],
            [
             1,
             "#276419"
            ]
           ],
           "sequential": [
            [
             0,
             "#0d0887"
            ],
            [
             0.1111111111111111,
             "#46039f"
            ],
            [
             0.2222222222222222,
             "#7201a8"
            ],
            [
             0.3333333333333333,
             "#9c179e"
            ],
            [
             0.4444444444444444,
             "#bd3786"
            ],
            [
             0.5555555555555556,
             "#d8576b"
            ],
            [
             0.6666666666666666,
             "#ed7953"
            ],
            [
             0.7777777777777778,
             "#fb9f3a"
            ],
            [
             0.8888888888888888,
             "#fdca26"
            ],
            [
             1,
             "#f0f921"
            ]
           ],
           "sequentialminus": [
            [
             0,
             "#0d0887"
            ],
            [
             0.1111111111111111,
             "#46039f"
            ],
            [
             0.2222222222222222,
             "#7201a8"
            ],
            [
             0.3333333333333333,
             "#9c179e"
            ],
            [
             0.4444444444444444,
             "#bd3786"
            ],
            [
             0.5555555555555556,
             "#d8576b"
            ],
            [
             0.6666666666666666,
             "#ed7953"
            ],
            [
             0.7777777777777778,
             "#fb9f3a"
            ],
            [
             0.8888888888888888,
             "#fdca26"
            ],
            [
             1,
             "#f0f921"
            ]
           ]
          },
          "colorway": [
           "#636efa",
           "#EF553B",
           "#00cc96",
           "#ab63fa",
           "#FFA15A",
           "#19d3f3",
           "#FF6692",
           "#B6E880",
           "#FF97FF",
           "#FECB52"
          ],
          "font": {
           "color": "#f2f5fa"
          },
          "geo": {
           "bgcolor": "rgb(17,17,17)",
           "lakecolor": "rgb(17,17,17)",
           "landcolor": "rgb(17,17,17)",
           "showlakes": true,
           "showland": true,
           "subunitcolor": "#506784"
          },
          "hoverlabel": {
           "align": "left"
          },
          "hovermode": "closest",
          "mapbox": {
           "style": "dark"
          },
          "paper_bgcolor": "rgb(17,17,17)",
          "plot_bgcolor": "rgb(17,17,17)",
          "polar": {
           "angularaxis": {
            "gridcolor": "#506784",
            "linecolor": "#506784",
            "ticks": ""
           },
           "bgcolor": "rgb(17,17,17)",
           "radialaxis": {
            "gridcolor": "#506784",
            "linecolor": "#506784",
            "ticks": ""
           }
          },
          "scene": {
           "xaxis": {
            "backgroundcolor": "rgb(17,17,17)",
            "gridcolor": "#506784",
            "gridwidth": 2,
            "linecolor": "#506784",
            "showbackground": true,
            "ticks": "",
            "zerolinecolor": "#C8D4E3"
           },
           "yaxis": {
            "backgroundcolor": "rgb(17,17,17)",
            "gridcolor": "#506784",
            "gridwidth": 2,
            "linecolor": "#506784",
            "showbackground": true,
            "ticks": "",
            "zerolinecolor": "#C8D4E3"
           },
           "zaxis": {
            "backgroundcolor": "rgb(17,17,17)",
            "gridcolor": "#506784",
            "gridwidth": 2,
            "linecolor": "#506784",
            "showbackground": true,
            "ticks": "",
            "zerolinecolor": "#C8D4E3"
           }
          },
          "shapedefaults": {
           "line": {
            "color": "#f2f5fa"
           }
          },
          "sliderdefaults": {
           "bgcolor": "#C8D4E3",
           "bordercolor": "rgb(17,17,17)",
           "borderwidth": 1,
           "tickwidth": 0
          },
          "ternary": {
           "aaxis": {
            "gridcolor": "#506784",
            "linecolor": "#506784",
            "ticks": ""
           },
           "baxis": {
            "gridcolor": "#506784",
            "linecolor": "#506784",
            "ticks": ""
           },
           "bgcolor": "rgb(17,17,17)",
           "caxis": {
            "gridcolor": "#506784",
            "linecolor": "#506784",
            "ticks": ""
           }
          },
          "title": {
           "x": 0.05
          },
          "updatemenudefaults": {
           "bgcolor": "#506784",
           "borderwidth": 0
          },
          "xaxis": {
           "automargin": true,
           "gridcolor": "#283442",
           "linecolor": "#506784",
           "ticks": "",
           "title": {
            "standoff": 15
           },
           "zerolinecolor": "#283442",
           "zerolinewidth": 2
          },
          "yaxis": {
           "automargin": true,
           "gridcolor": "#283442",
           "linecolor": "#506784",
           "ticks": "",
           "title": {
            "standoff": 15
           },
           "zerolinecolor": "#283442",
           "zerolinewidth": 2
          }
         }
        },
        "title": {
         "text": "Correlation Between Audio Features (Popular Songs)"
        },
        "width": 700,
        "xaxis": {
         "anchor": "y",
         "constrain": "domain",
         "domain": [
          0,
          1
         ],
         "scaleanchor": "y",
         "title": {
          "text": "Audio Feature"
         }
        },
        "yaxis": {
         "anchor": "x",
         "autorange": "reversed",
         "constrain": "domain",
         "domain": [
          0,
          1
         ],
         "title": {
          "text": "Audio Feature"
         }
        }
       }
      }
     },
     "metadata": {},
     "output_type": "display_data"
    }
   ],
   "source": [
    "# Define features\n",
    "features = ['energy', 'danceability', 'valence', 'acousticness', 'instrumentalness', 'tempo', 'loudness']\n",
    "\n",
    "# Normalize 'tempo' and 'loudness' for both datasets\n",
    "scaler = MinMaxScaler()\n",
    "high_song_popularity[['tempo', 'loudness']] = scaler.fit_transform(high_song_popularity[['tempo', 'loudness']])\n",
    "\n",
    "# Correlation matrices\n",
    "corr_popular = high_song_popularity[features].corr()\n",
    "\n",
    "# Popular songs heatmap\n",
    "fig_popular = px.imshow(\n",
    "    corr_popular,\n",
    "    text_auto='.2f',\n",
    "    color_continuous_scale='Viridis',\n",
    "    labels=dict(x=\"Audio Feature\", y=\"Audio Feature\", color=\"Correlation\")\n",
    ")\n",
    "\n",
    "fig_popular.update_layout(\n",
    "    title=\"Correlation Between Audio Features (Popular Songs)\",\n",
    "    width=700,\n",
    "    height=700,\n",
    "    template=\"plotly_dark\"\n",
    ")\n",
    "\n",
    "# Show both\n",
    "fig_popular.show()"
   ]
  },
  {
   "cell_type": "code",
   "execution_count": null,
   "metadata": {},
   "outputs": [
    {
     "data": {
      "application/vnd.plotly.v1+json": {
       "config": {
        "plotlyServerURL": "https://plot.ly"
       },
       "data": [
        {
         "coloraxis": "coloraxis",
         "hovertemplate": "Audio Feature: %{x}<br>Audio Feature: %{y}<br>Correlation: %{z}<extra></extra>",
         "name": "0",
         "texttemplate": "%{z:.2f}",
         "type": "heatmap",
         "x": [
          "energy",
          "danceability",
          "valence",
          "acousticness",
          "instrumentalness",
          "tempo",
          "loudness"
         ],
         "xaxis": "x",
         "y": [
          "energy",
          "danceability",
          "valence",
          "acousticness",
          "instrumentalness",
          "tempo",
          "loudness"
         ],
         "yaxis": "y",
         "z": {
          "bdata": "AAAAAAAA8D93nd/rayeSP+A+JTsa5NQ/yd8ZYX9m478852+I/M27v/bq+h6MWb0/iX8EjOMd5j93nd/rayeSPwAAAAAAAPA/RVTjoxc61j+wT8O6IRnAvx4Il6z4vru/KHA62NB7vL/o+yYCkTbLP+A+JTsa5NQ/RVTjoxc61j8AAAAAAADwP7hdqh2hQ8a/R60z9sXgwb+gJugmZAhmP1i+vbjzBc4/yd8ZYX9m47+wT8O6IRnAv7hdqh2hQ8a/AAAAAAAA8D/gAAaMSm7DPxUASEh2A8G/ag/yvffP3r8852+I/M27vx4Il6z4vru/R60z9sXgwb/gAAaMSm7DPwAAAAAAAPA/6oXUIipCg79R/FW2XcPWv/bq+h6MWb0/KHA62NB7vL+gJugmZAhmPxUASEh2A8G/6oXUIipCg78AAAAAAADwP1ulp/cFBrA/iX8EjOMd5j/o+yYCkTbLP1i+vbjzBc4/ag/yvffP3r9R/FW2XcPWv1ulp/cFBrA/AAAAAAAA8D8=",
          "dtype": "f8",
          "shape": "7, 7"
         }
        }
       ],
       "layout": {
        "coloraxis": {
         "colorbar": {
          "title": {
           "text": "Correlation"
          }
         },
         "colorscale": [
          [
           0,
           "#440154"
          ],
          [
           0.1111111111111111,
           "#482878"
          ],
          [
           0.2222222222222222,
           "#3e4989"
          ],
          [
           0.3333333333333333,
           "#31688e"
          ],
          [
           0.4444444444444444,
           "#26828e"
          ],
          [
           0.5555555555555556,
           "#1f9e89"
          ],
          [
           0.6666666666666666,
           "#35b779"
          ],
          [
           0.7777777777777778,
           "#6ece58"
          ],
          [
           0.8888888888888888,
           "#b5de2b"
          ],
          [
           1,
           "#fde725"
          ]
         ]
        },
        "height": 700,
        "margin": {
         "t": 60
        },
        "template": {
         "data": {
          "bar": [
           {
            "error_x": {
             "color": "#f2f5fa"
            },
            "error_y": {
             "color": "#f2f5fa"
            },
            "marker": {
             "line": {
              "color": "rgb(17,17,17)",
              "width": 0.5
             },
             "pattern": {
              "fillmode": "overlay",
              "size": 10,
              "solidity": 0.2
             }
            },
            "type": "bar"
           }
          ],
          "barpolar": [
           {
            "marker": {
             "line": {
              "color": "rgb(17,17,17)",
              "width": 0.5
             },
             "pattern": {
              "fillmode": "overlay",
              "size": 10,
              "solidity": 0.2
             }
            },
            "type": "barpolar"
           }
          ],
          "carpet": [
           {
            "aaxis": {
             "endlinecolor": "#A2B1C6",
             "gridcolor": "#506784",
             "linecolor": "#506784",
             "minorgridcolor": "#506784",
             "startlinecolor": "#A2B1C6"
            },
            "baxis": {
             "endlinecolor": "#A2B1C6",
             "gridcolor": "#506784",
             "linecolor": "#506784",
             "minorgridcolor": "#506784",
             "startlinecolor": "#A2B1C6"
            },
            "type": "carpet"
           }
          ],
          "choropleth": [
           {
            "colorbar": {
             "outlinewidth": 0,
             "ticks": ""
            },
            "type": "choropleth"
           }
          ],
          "contour": [
           {
            "colorbar": {
             "outlinewidth": 0,
             "ticks": ""
            },
            "colorscale": [
             [
              0,
              "#0d0887"
             ],
             [
              0.1111111111111111,
              "#46039f"
             ],
             [
              0.2222222222222222,
              "#7201a8"
             ],
             [
              0.3333333333333333,
              "#9c179e"
             ],
             [
              0.4444444444444444,
              "#bd3786"
             ],
             [
              0.5555555555555556,
              "#d8576b"
             ],
             [
              0.6666666666666666,
              "#ed7953"
             ],
             [
              0.7777777777777778,
              "#fb9f3a"
             ],
             [
              0.8888888888888888,
              "#fdca26"
             ],
             [
              1,
              "#f0f921"
             ]
            ],
            "type": "contour"
           }
          ],
          "contourcarpet": [
           {
            "colorbar": {
             "outlinewidth": 0,
             "ticks": ""
            },
            "type": "contourcarpet"
           }
          ],
          "heatmap": [
           {
            "colorbar": {
             "outlinewidth": 0,
             "ticks": ""
            },
            "colorscale": [
             [
              0,
              "#0d0887"
             ],
             [
              0.1111111111111111,
              "#46039f"
             ],
             [
              0.2222222222222222,
              "#7201a8"
             ],
             [
              0.3333333333333333,
              "#9c179e"
             ],
             [
              0.4444444444444444,
              "#bd3786"
             ],
             [
              0.5555555555555556,
              "#d8576b"
             ],
             [
              0.6666666666666666,
              "#ed7953"
             ],
             [
              0.7777777777777778,
              "#fb9f3a"
             ],
             [
              0.8888888888888888,
              "#fdca26"
             ],
             [
              1,
              "#f0f921"
             ]
            ],
            "type": "heatmap"
           }
          ],
          "histogram": [
           {
            "marker": {
             "pattern": {
              "fillmode": "overlay",
              "size": 10,
              "solidity": 0.2
             }
            },
            "type": "histogram"
           }
          ],
          "histogram2d": [
           {
            "colorbar": {
             "outlinewidth": 0,
             "ticks": ""
            },
            "colorscale": [
             [
              0,
              "#0d0887"
             ],
             [
              0.1111111111111111,
              "#46039f"
             ],
             [
              0.2222222222222222,
              "#7201a8"
             ],
             [
              0.3333333333333333,
              "#9c179e"
             ],
             [
              0.4444444444444444,
              "#bd3786"
             ],
             [
              0.5555555555555556,
              "#d8576b"
             ],
             [
              0.6666666666666666,
              "#ed7953"
             ],
             [
              0.7777777777777778,
              "#fb9f3a"
             ],
             [
              0.8888888888888888,
              "#fdca26"
             ],
             [
              1,
              "#f0f921"
             ]
            ],
            "type": "histogram2d"
           }
          ],
          "histogram2dcontour": [
           {
            "colorbar": {
             "outlinewidth": 0,
             "ticks": ""
            },
            "colorscale": [
             [
              0,
              "#0d0887"
             ],
             [
              0.1111111111111111,
              "#46039f"
             ],
             [
              0.2222222222222222,
              "#7201a8"
             ],
             [
              0.3333333333333333,
              "#9c179e"
             ],
             [
              0.4444444444444444,
              "#bd3786"
             ],
             [
              0.5555555555555556,
              "#d8576b"
             ],
             [
              0.6666666666666666,
              "#ed7953"
             ],
             [
              0.7777777777777778,
              "#fb9f3a"
             ],
             [
              0.8888888888888888,
              "#fdca26"
             ],
             [
              1,
              "#f0f921"
             ]
            ],
            "type": "histogram2dcontour"
           }
          ],
          "mesh3d": [
           {
            "colorbar": {
             "outlinewidth": 0,
             "ticks": ""
            },
            "type": "mesh3d"
           }
          ],
          "parcoords": [
           {
            "line": {
             "colorbar": {
              "outlinewidth": 0,
              "ticks": ""
             }
            },
            "type": "parcoords"
           }
          ],
          "pie": [
           {
            "automargin": true,
            "type": "pie"
           }
          ],
          "scatter": [
           {
            "marker": {
             "line": {
              "color": "#283442"
             }
            },
            "type": "scatter"
           }
          ],
          "scatter3d": [
           {
            "line": {
             "colorbar": {
              "outlinewidth": 0,
              "ticks": ""
             }
            },
            "marker": {
             "colorbar": {
              "outlinewidth": 0,
              "ticks": ""
             }
            },
            "type": "scatter3d"
           }
          ],
          "scattercarpet": [
           {
            "marker": {
             "colorbar": {
              "outlinewidth": 0,
              "ticks": ""
             }
            },
            "type": "scattercarpet"
           }
          ],
          "scattergeo": [
           {
            "marker": {
             "colorbar": {
              "outlinewidth": 0,
              "ticks": ""
             }
            },
            "type": "scattergeo"
           }
          ],
          "scattergl": [
           {
            "marker": {
             "line": {
              "color": "#283442"
             }
            },
            "type": "scattergl"
           }
          ],
          "scattermap": [
           {
            "marker": {
             "colorbar": {
              "outlinewidth": 0,
              "ticks": ""
             }
            },
            "type": "scattermap"
           }
          ],
          "scattermapbox": [
           {
            "marker": {
             "colorbar": {
              "outlinewidth": 0,
              "ticks": ""
             }
            },
            "type": "scattermapbox"
           }
          ],
          "scatterpolar": [
           {
            "marker": {
             "colorbar": {
              "outlinewidth": 0,
              "ticks": ""
             }
            },
            "type": "scatterpolar"
           }
          ],
          "scatterpolargl": [
           {
            "marker": {
             "colorbar": {
              "outlinewidth": 0,
              "ticks": ""
             }
            },
            "type": "scatterpolargl"
           }
          ],
          "scatterternary": [
           {
            "marker": {
             "colorbar": {
              "outlinewidth": 0,
              "ticks": ""
             }
            },
            "type": "scatterternary"
           }
          ],
          "surface": [
           {
            "colorbar": {
             "outlinewidth": 0,
             "ticks": ""
            },
            "colorscale": [
             [
              0,
              "#0d0887"
             ],
             [
              0.1111111111111111,
              "#46039f"
             ],
             [
              0.2222222222222222,
              "#7201a8"
             ],
             [
              0.3333333333333333,
              "#9c179e"
             ],
             [
              0.4444444444444444,
              "#bd3786"
             ],
             [
              0.5555555555555556,
              "#d8576b"
             ],
             [
              0.6666666666666666,
              "#ed7953"
             ],
             [
              0.7777777777777778,
              "#fb9f3a"
             ],
             [
              0.8888888888888888,
              "#fdca26"
             ],
             [
              1,
              "#f0f921"
             ]
            ],
            "type": "surface"
           }
          ],
          "table": [
           {
            "cells": {
             "fill": {
              "color": "#506784"
             },
             "line": {
              "color": "rgb(17,17,17)"
             }
            },
            "header": {
             "fill": {
              "color": "#2a3f5f"
             },
             "line": {
              "color": "rgb(17,17,17)"
             }
            },
            "type": "table"
           }
          ]
         },
         "layout": {
          "annotationdefaults": {
           "arrowcolor": "#f2f5fa",
           "arrowhead": 0,
           "arrowwidth": 1
          },
          "autotypenumbers": "strict",
          "coloraxis": {
           "colorbar": {
            "outlinewidth": 0,
            "ticks": ""
           }
          },
          "colorscale": {
           "diverging": [
            [
             0,
             "#8e0152"
            ],
            [
             0.1,
             "#c51b7d"
            ],
            [
             0.2,
             "#de77ae"
            ],
            [
             0.3,
             "#f1b6da"
            ],
            [
             0.4,
             "#fde0ef"
            ],
            [
             0.5,
             "#f7f7f7"
            ],
            [
             0.6,
             "#e6f5d0"
            ],
            [
             0.7,
             "#b8e186"
            ],
            [
             0.8,
             "#7fbc41"
            ],
            [
             0.9,
             "#4d9221"
            ],
            [
             1,
             "#276419"
            ]
           ],
           "sequential": [
            [
             0,
             "#0d0887"
            ],
            [
             0.1111111111111111,
             "#46039f"
            ],
            [
             0.2222222222222222,
             "#7201a8"
            ],
            [
             0.3333333333333333,
             "#9c179e"
            ],
            [
             0.4444444444444444,
             "#bd3786"
            ],
            [
             0.5555555555555556,
             "#d8576b"
            ],
            [
             0.6666666666666666,
             "#ed7953"
            ],
            [
             0.7777777777777778,
             "#fb9f3a"
            ],
            [
             0.8888888888888888,
             "#fdca26"
            ],
            [
             1,
             "#f0f921"
            ]
           ],
           "sequentialminus": [
            [
             0,
             "#0d0887"
            ],
            [
             0.1111111111111111,
             "#46039f"
            ],
            [
             0.2222222222222222,
             "#7201a8"
            ],
            [
             0.3333333333333333,
             "#9c179e"
            ],
            [
             0.4444444444444444,
             "#bd3786"
            ],
            [
             0.5555555555555556,
             "#d8576b"
            ],
            [
             0.6666666666666666,
             "#ed7953"
            ],
            [
             0.7777777777777778,
             "#fb9f3a"
            ],
            [
             0.8888888888888888,
             "#fdca26"
            ],
            [
             1,
             "#f0f921"
            ]
           ]
          },
          "colorway": [
           "#636efa",
           "#EF553B",
           "#00cc96",
           "#ab63fa",
           "#FFA15A",
           "#19d3f3",
           "#FF6692",
           "#B6E880",
           "#FF97FF",
           "#FECB52"
          ],
          "font": {
           "color": "#f2f5fa"
          },
          "geo": {
           "bgcolor": "rgb(17,17,17)",
           "lakecolor": "rgb(17,17,17)",
           "landcolor": "rgb(17,17,17)",
           "showlakes": true,
           "showland": true,
           "subunitcolor": "#506784"
          },
          "hoverlabel": {
           "align": "left"
          },
          "hovermode": "closest",
          "mapbox": {
           "style": "dark"
          },
          "paper_bgcolor": "rgb(17,17,17)",
          "plot_bgcolor": "rgb(17,17,17)",
          "polar": {
           "angularaxis": {
            "gridcolor": "#506784",
            "linecolor": "#506784",
            "ticks": ""
           },
           "bgcolor": "rgb(17,17,17)",
           "radialaxis": {
            "gridcolor": "#506784",
            "linecolor": "#506784",
            "ticks": ""
           }
          },
          "scene": {
           "xaxis": {
            "backgroundcolor": "rgb(17,17,17)",
            "gridcolor": "#506784",
            "gridwidth": 2,
            "linecolor": "#506784",
            "showbackground": true,
            "ticks": "",
            "zerolinecolor": "#C8D4E3"
           },
           "yaxis": {
            "backgroundcolor": "rgb(17,17,17)",
            "gridcolor": "#506784",
            "gridwidth": 2,
            "linecolor": "#506784",
            "showbackground": true,
            "ticks": "",
            "zerolinecolor": "#C8D4E3"
           },
           "zaxis": {
            "backgroundcolor": "rgb(17,17,17)",
            "gridcolor": "#506784",
            "gridwidth": 2,
            "linecolor": "#506784",
            "showbackground": true,
            "ticks": "",
            "zerolinecolor": "#C8D4E3"
           }
          },
          "shapedefaults": {
           "line": {
            "color": "#f2f5fa"
           }
          },
          "sliderdefaults": {
           "bgcolor": "#C8D4E3",
           "bordercolor": "rgb(17,17,17)",
           "borderwidth": 1,
           "tickwidth": 0
          },
          "ternary": {
           "aaxis": {
            "gridcolor": "#506784",
            "linecolor": "#506784",
            "ticks": ""
           },
           "baxis": {
            "gridcolor": "#506784",
            "linecolor": "#506784",
            "ticks": ""
           },
           "bgcolor": "rgb(17,17,17)",
           "caxis": {
            "gridcolor": "#506784",
            "linecolor": "#506784",
            "ticks": ""
           }
          },
          "title": {
           "x": 0.05
          },
          "updatemenudefaults": {
           "bgcolor": "#506784",
           "borderwidth": 0
          },
          "xaxis": {
           "automargin": true,
           "gridcolor": "#283442",
           "linecolor": "#506784",
           "ticks": "",
           "title": {
            "standoff": 15
           },
           "zerolinecolor": "#283442",
           "zerolinewidth": 2
          },
          "yaxis": {
           "automargin": true,
           "gridcolor": "#283442",
           "linecolor": "#506784",
           "ticks": "",
           "title": {
            "standoff": 15
           },
           "zerolinecolor": "#283442",
           "zerolinewidth": 2
          }
         }
        },
        "title": {
         "text": "🔥 Correlation Between Audio Features (Popular Songs)"
        },
        "width": 700,
        "xaxis": {
         "anchor": "y",
         "constrain": "domain",
         "domain": [
          0,
          1
         ],
         "scaleanchor": "y",
         "title": {
          "text": "Audio Feature"
         }
        },
        "yaxis": {
         "anchor": "x",
         "autorange": "reversed",
         "constrain": "domain",
         "domain": [
          0,
          1
         ],
         "title": {
          "text": "Audio Feature"
         }
        }
       }
      }
     },
     "metadata": {},
     "output_type": "display_data"
    },
    {
     "data": {
      "application/vnd.plotly.v1+json": {
       "config": {
        "plotlyServerURL": "https://plot.ly"
       },
       "data": [
        {
         "coloraxis": "coloraxis",
         "hovertemplate": "Audio Feature: %{x}<br>Audio Feature: %{y}<br>Correlation: %{z}<extra></extra>",
         "name": "0",
         "texttemplate": "%{z:.2f}",
         "type": "heatmap",
         "x": [
          "energy",
          "danceability",
          "valence",
          "acousticness",
          "instrumentalness",
          "tempo",
          "loudness"
         ],
         "xaxis": "x",
         "y": [
          "energy",
          "danceability",
          "valence",
          "acousticness",
          "instrumentalness",
          "tempo",
          "loudness"
         ],
         "yaxis": "y",
         "z": {
          "bdata": "AAAAAAAA8D8CquvIQbjeP+ZT6rAWFeE/mMJeJJOg6L87k+CQj1Pjv3LcMUc4S8s/JyyUuXwV6j8CquvIQbjePwAAAAAAAPA/eZZ4LbAq4j8ABDujZE/cvxVv5DRXh9i/Ab1XJ7vqrj8cuo1AmRrkP+ZT6rAWFeE/eZZ4LbAq4j8AAAAAAADwPwCsOmdQ8ti/miEFF5Ae378wa5INXze9P1I5r02ayeA/mMJeJJOg6L8ABDujZE/cvwCsOmdQ8ti/AAAAAAAA8D/8CBBX4c7gPwKbPamO5cW/lfTDEGQG5b87k+CQj1PjvxVv5DRXh9i/miEFF5Ae37/8CBBX4c7gPwAAAAAAAPA/8s5cNX8Nwb99WxjchzHkv3LcMUc4S8s/Ab1XJ7vqrj8wa5INXze9PwKbPamO5cW/8s5cNX8Nwb8AAAAAAADwP5rpPhTdX8Y/JyyUuXwV6j8cuo1AmRrkP1I5r02ayeA/lfTDEGQG5b99WxjchzHkv5rpPhTdX8Y/AAAAAAAA8D8=",
          "dtype": "f8",
          "shape": "7, 7"
         }
        }
       ],
       "layout": {
        "coloraxis": {
         "colorbar": {
          "title": {
           "text": "Correlation"
          }
         },
         "colorscale": [
          [
           0,
           "#440154"
          ],
          [
           0.1111111111111111,
           "#482878"
          ],
          [
           0.2222222222222222,
           "#3e4989"
          ],
          [
           0.3333333333333333,
           "#31688e"
          ],
          [
           0.4444444444444444,
           "#26828e"
          ],
          [
           0.5555555555555556,
           "#1f9e89"
          ],
          [
           0.6666666666666666,
           "#35b779"
          ],
          [
           0.7777777777777778,
           "#6ece58"
          ],
          [
           0.8888888888888888,
           "#b5de2b"
          ],
          [
           1,
           "#fde725"
          ]
         ]
        },
        "height": 700,
        "margin": {
         "t": 60
        },
        "template": {
         "data": {
          "bar": [
           {
            "error_x": {
             "color": "#f2f5fa"
            },
            "error_y": {
             "color": "#f2f5fa"
            },
            "marker": {
             "line": {
              "color": "rgb(17,17,17)",
              "width": 0.5
             },
             "pattern": {
              "fillmode": "overlay",
              "size": 10,
              "solidity": 0.2
             }
            },
            "type": "bar"
           }
          ],
          "barpolar": [
           {
            "marker": {
             "line": {
              "color": "rgb(17,17,17)",
              "width": 0.5
             },
             "pattern": {
              "fillmode": "overlay",
              "size": 10,
              "solidity": 0.2
             }
            },
            "type": "barpolar"
           }
          ],
          "carpet": [
           {
            "aaxis": {
             "endlinecolor": "#A2B1C6",
             "gridcolor": "#506784",
             "linecolor": "#506784",
             "minorgridcolor": "#506784",
             "startlinecolor": "#A2B1C6"
            },
            "baxis": {
             "endlinecolor": "#A2B1C6",
             "gridcolor": "#506784",
             "linecolor": "#506784",
             "minorgridcolor": "#506784",
             "startlinecolor": "#A2B1C6"
            },
            "type": "carpet"
           }
          ],
          "choropleth": [
           {
            "colorbar": {
             "outlinewidth": 0,
             "ticks": ""
            },
            "type": "choropleth"
           }
          ],
          "contour": [
           {
            "colorbar": {
             "outlinewidth": 0,
             "ticks": ""
            },
            "colorscale": [
             [
              0,
              "#0d0887"
             ],
             [
              0.1111111111111111,
              "#46039f"
             ],
             [
              0.2222222222222222,
              "#7201a8"
             ],
             [
              0.3333333333333333,
              "#9c179e"
             ],
             [
              0.4444444444444444,
              "#bd3786"
             ],
             [
              0.5555555555555556,
              "#d8576b"
             ],
             [
              0.6666666666666666,
              "#ed7953"
             ],
             [
              0.7777777777777778,
              "#fb9f3a"
             ],
             [
              0.8888888888888888,
              "#fdca26"
             ],
             [
              1,
              "#f0f921"
             ]
            ],
            "type": "contour"
           }
          ],
          "contourcarpet": [
           {
            "colorbar": {
             "outlinewidth": 0,
             "ticks": ""
            },
            "type": "contourcarpet"
           }
          ],
          "heatmap": [
           {
            "colorbar": {
             "outlinewidth": 0,
             "ticks": ""
            },
            "colorscale": [
             [
              0,
              "#0d0887"
             ],
             [
              0.1111111111111111,
              "#46039f"
             ],
             [
              0.2222222222222222,
              "#7201a8"
             ],
             [
              0.3333333333333333,
              "#9c179e"
             ],
             [
              0.4444444444444444,
              "#bd3786"
             ],
             [
              0.5555555555555556,
              "#d8576b"
             ],
             [
              0.6666666666666666,
              "#ed7953"
             ],
             [
              0.7777777777777778,
              "#fb9f3a"
             ],
             [
              0.8888888888888888,
              "#fdca26"
             ],
             [
              1,
              "#f0f921"
             ]
            ],
            "type": "heatmap"
           }
          ],
          "histogram": [
           {
            "marker": {
             "pattern": {
              "fillmode": "overlay",
              "size": 10,
              "solidity": 0.2
             }
            },
            "type": "histogram"
           }
          ],
          "histogram2d": [
           {
            "colorbar": {
             "outlinewidth": 0,
             "ticks": ""
            },
            "colorscale": [
             [
              0,
              "#0d0887"
             ],
             [
              0.1111111111111111,
              "#46039f"
             ],
             [
              0.2222222222222222,
              "#7201a8"
             ],
             [
              0.3333333333333333,
              "#9c179e"
             ],
             [
              0.4444444444444444,
              "#bd3786"
             ],
             [
              0.5555555555555556,
              "#d8576b"
             ],
             [
              0.6666666666666666,
              "#ed7953"
             ],
             [
              0.7777777777777778,
              "#fb9f3a"
             ],
             [
              0.8888888888888888,
              "#fdca26"
             ],
             [
              1,
              "#f0f921"
             ]
            ],
            "type": "histogram2d"
           }
          ],
          "histogram2dcontour": [
           {
            "colorbar": {
             "outlinewidth": 0,
             "ticks": ""
            },
            "colorscale": [
             [
              0,
              "#0d0887"
             ],
             [
              0.1111111111111111,
              "#46039f"
             ],
             [
              0.2222222222222222,
              "#7201a8"
             ],
             [
              0.3333333333333333,
              "#9c179e"
             ],
             [
              0.4444444444444444,
              "#bd3786"
             ],
             [
              0.5555555555555556,
              "#d8576b"
             ],
             [
              0.6666666666666666,
              "#ed7953"
             ],
             [
              0.7777777777777778,
              "#fb9f3a"
             ],
             [
              0.8888888888888888,
              "#fdca26"
             ],
             [
              1,
              "#f0f921"
             ]
            ],
            "type": "histogram2dcontour"
           }
          ],
          "mesh3d": [
           {
            "colorbar": {
             "outlinewidth": 0,
             "ticks": ""
            },
            "type": "mesh3d"
           }
          ],
          "parcoords": [
           {
            "line": {
             "colorbar": {
              "outlinewidth": 0,
              "ticks": ""
             }
            },
            "type": "parcoords"
           }
          ],
          "pie": [
           {
            "automargin": true,
            "type": "pie"
           }
          ],
          "scatter": [
           {
            "marker": {
             "line": {
              "color": "#283442"
             }
            },
            "type": "scatter"
           }
          ],
          "scatter3d": [
           {
            "line": {
             "colorbar": {
              "outlinewidth": 0,
              "ticks": ""
             }
            },
            "marker": {
             "colorbar": {
              "outlinewidth": 0,
              "ticks": ""
             }
            },
            "type": "scatter3d"
           }
          ],
          "scattercarpet": [
           {
            "marker": {
             "colorbar": {
              "outlinewidth": 0,
              "ticks": ""
             }
            },
            "type": "scattercarpet"
           }
          ],
          "scattergeo": [
           {
            "marker": {
             "colorbar": {
              "outlinewidth": 0,
              "ticks": ""
             }
            },
            "type": "scattergeo"
           }
          ],
          "scattergl": [
           {
            "marker": {
             "line": {
              "color": "#283442"
             }
            },
            "type": "scattergl"
           }
          ],
          "scattermap": [
           {
            "marker": {
             "colorbar": {
              "outlinewidth": 0,
              "ticks": ""
             }
            },
            "type": "scattermap"
           }
          ],
          "scattermapbox": [
           {
            "marker": {
             "colorbar": {
              "outlinewidth": 0,
              "ticks": ""
             }
            },
            "type": "scattermapbox"
           }
          ],
          "scatterpolar": [
           {
            "marker": {
             "colorbar": {
              "outlinewidth": 0,
              "ticks": ""
             }
            },
            "type": "scatterpolar"
           }
          ],
          "scatterpolargl": [
           {
            "marker": {
             "colorbar": {
              "outlinewidth": 0,
              "ticks": ""
             }
            },
            "type": "scatterpolargl"
           }
          ],
          "scatterternary": [
           {
            "marker": {
             "colorbar": {
              "outlinewidth": 0,
              "ticks": ""
             }
            },
            "type": "scatterternary"
           }
          ],
          "surface": [
           {
            "colorbar": {
             "outlinewidth": 0,
             "ticks": ""
            },
            "colorscale": [
             [
              0,
              "#0d0887"
             ],
             [
              0.1111111111111111,
              "#46039f"
             ],
             [
              0.2222222222222222,
              "#7201a8"
             ],
             [
              0.3333333333333333,
              "#9c179e"
             ],
             [
              0.4444444444444444,
              "#bd3786"
             ],
             [
              0.5555555555555556,
              "#d8576b"
             ],
             [
              0.6666666666666666,
              "#ed7953"
             ],
             [
              0.7777777777777778,
              "#fb9f3a"
             ],
             [
              0.8888888888888888,
              "#fdca26"
             ],
             [
              1,
              "#f0f921"
             ]
            ],
            "type": "surface"
           }
          ],
          "table": [
           {
            "cells": {
             "fill": {
              "color": "#506784"
             },
             "line": {
              "color": "rgb(17,17,17)"
             }
            },
            "header": {
             "fill": {
              "color": "#2a3f5f"
             },
             "line": {
              "color": "rgb(17,17,17)"
             }
            },
            "type": "table"
           }
          ]
         },
         "layout": {
          "annotationdefaults": {
           "arrowcolor": "#f2f5fa",
           "arrowhead": 0,
           "arrowwidth": 1
          },
          "autotypenumbers": "strict",
          "coloraxis": {
           "colorbar": {
            "outlinewidth": 0,
            "ticks": ""
           }
          },
          "colorscale": {
           "diverging": [
            [
             0,
             "#8e0152"
            ],
            [
             0.1,
             "#c51b7d"
            ],
            [
             0.2,
             "#de77ae"
            ],
            [
             0.3,
             "#f1b6da"
            ],
            [
             0.4,
             "#fde0ef"
            ],
            [
             0.5,
             "#f7f7f7"
            ],
            [
             0.6,
             "#e6f5d0"
            ],
            [
             0.7,
             "#b8e186"
            ],
            [
             0.8,
             "#7fbc41"
            ],
            [
             0.9,
             "#4d9221"
            ],
            [
             1,
             "#276419"
            ]
           ],
           "sequential": [
            [
             0,
             "#0d0887"
            ],
            [
             0.1111111111111111,
             "#46039f"
            ],
            [
             0.2222222222222222,
             "#7201a8"
            ],
            [
             0.3333333333333333,
             "#9c179e"
            ],
            [
             0.4444444444444444,
             "#bd3786"
            ],
            [
             0.5555555555555556,
             "#d8576b"
            ],
            [
             0.6666666666666666,
             "#ed7953"
            ],
            [
             0.7777777777777778,
             "#fb9f3a"
            ],
            [
             0.8888888888888888,
             "#fdca26"
            ],
            [
             1,
             "#f0f921"
            ]
           ],
           "sequentialminus": [
            [
             0,
             "#0d0887"
            ],
            [
             0.1111111111111111,
             "#46039f"
            ],
            [
             0.2222222222222222,
             "#7201a8"
            ],
            [
             0.3333333333333333,
             "#9c179e"
            ],
            [
             0.4444444444444444,
             "#bd3786"
            ],
            [
             0.5555555555555556,
             "#d8576b"
            ],
            [
             0.6666666666666666,
             "#ed7953"
            ],
            [
             0.7777777777777778,
             "#fb9f3a"
            ],
            [
             0.8888888888888888,
             "#fdca26"
            ],
            [
             1,
             "#f0f921"
            ]
           ]
          },
          "colorway": [
           "#636efa",
           "#EF553B",
           "#00cc96",
           "#ab63fa",
           "#FFA15A",
           "#19d3f3",
           "#FF6692",
           "#B6E880",
           "#FF97FF",
           "#FECB52"
          ],
          "font": {
           "color": "#f2f5fa"
          },
          "geo": {
           "bgcolor": "rgb(17,17,17)",
           "lakecolor": "rgb(17,17,17)",
           "landcolor": "rgb(17,17,17)",
           "showlakes": true,
           "showland": true,
           "subunitcolor": "#506784"
          },
          "hoverlabel": {
           "align": "left"
          },
          "hovermode": "closest",
          "mapbox": {
           "style": "dark"
          },
          "paper_bgcolor": "rgb(17,17,17)",
          "plot_bgcolor": "rgb(17,17,17)",
          "polar": {
           "angularaxis": {
            "gridcolor": "#506784",
            "linecolor": "#506784",
            "ticks": ""
           },
           "bgcolor": "rgb(17,17,17)",
           "radialaxis": {
            "gridcolor": "#506784",
            "linecolor": "#506784",
            "ticks": ""
           }
          },
          "scene": {
           "xaxis": {
            "backgroundcolor": "rgb(17,17,17)",
            "gridcolor": "#506784",
            "gridwidth": 2,
            "linecolor": "#506784",
            "showbackground": true,
            "ticks": "",
            "zerolinecolor": "#C8D4E3"
           },
           "yaxis": {
            "backgroundcolor": "rgb(17,17,17)",
            "gridcolor": "#506784",
            "gridwidth": 2,
            "linecolor": "#506784",
            "showbackground": true,
            "ticks": "",
            "zerolinecolor": "#C8D4E3"
           },
           "zaxis": {
            "backgroundcolor": "rgb(17,17,17)",
            "gridcolor": "#506784",
            "gridwidth": 2,
            "linecolor": "#506784",
            "showbackground": true,
            "ticks": "",
            "zerolinecolor": "#C8D4E3"
           }
          },
          "shapedefaults": {
           "line": {
            "color": "#f2f5fa"
           }
          },
          "sliderdefaults": {
           "bgcolor": "#C8D4E3",
           "bordercolor": "rgb(17,17,17)",
           "borderwidth": 1,
           "tickwidth": 0
          },
          "ternary": {
           "aaxis": {
            "gridcolor": "#506784",
            "linecolor": "#506784",
            "ticks": ""
           },
           "baxis": {
            "gridcolor": "#506784",
            "linecolor": "#506784",
            "ticks": ""
           },
           "bgcolor": "rgb(17,17,17)",
           "caxis": {
            "gridcolor": "#506784",
            "linecolor": "#506784",
            "ticks": ""
           }
          },
          "title": {
           "x": 0.05
          },
          "updatemenudefaults": {
           "bgcolor": "#506784",
           "borderwidth": 0
          },
          "xaxis": {
           "automargin": true,
           "gridcolor": "#283442",
           "linecolor": "#506784",
           "ticks": "",
           "title": {
            "standoff": 15
           },
           "zerolinecolor": "#283442",
           "zerolinewidth": 2
          },
          "yaxis": {
           "automargin": true,
           "gridcolor": "#283442",
           "linecolor": "#506784",
           "ticks": "",
           "title": {
            "standoff": 15
           },
           "zerolinecolor": "#283442",
           "zerolinewidth": 2
          }
         }
        },
        "title": {
         "text": "💤 Correlation Between Audio Features (Non-Popular Songs)"
        },
        "width": 700,
        "xaxis": {
         "anchor": "y",
         "constrain": "domain",
         "domain": [
          0,
          1
         ],
         "scaleanchor": "y",
         "title": {
          "text": "Audio Feature"
         }
        },
        "yaxis": {
         "anchor": "x",
         "autorange": "reversed",
         "constrain": "domain",
         "domain": [
          0,
          1
         ],
         "title": {
          "text": "Audio Feature"
         }
        }
       }
      }
     },
     "metadata": {},
     "output_type": "display_data"
    }
   ],
   "source": [
    "# Define features\n",
    "features = ['energy', 'danceability', 'valence', 'acousticness', 'instrumentalness', 'tempo', 'loudness']\n",
    "\n",
    "# Normalize 'tempo' and 'loudness' for both datasets\n",
    "scaler = MinMaxScaler()\n",
    "high_song_popularity[['tempo', 'loudness']] = scaler.fit_transform(high_song_popularity[['tempo', 'loudness']])\n",
    "low_song_popularity[['tempo', 'loudness']] = scaler.fit_transform(low_song_popularity[['tempo', 'loudness']])\n",
    "\n",
    "# Correlation matrices\n",
    "corr_popular = high_song_popularity[features].corr()\n",
    "corr_non_popular = low_song_popularity[features].corr()\n",
    "\n",
    "# Popular songs heatmap\n",
    "fig_popular = px.imshow(\n",
    "    corr_popular,\n",
    "    text_auto='.2f',\n",
    "    color_continuous_scale='Viridis',\n",
    "    labels=dict(x=\"Audio Feature\", y=\"Audio Feature\", color=\"Correlation\")\n",
    ")\n",
    "\n",
    "fig_popular.update_layout(\n",
    "    title=\"Correlation Between Audio Features (Popular Songs)\",\n",
    "    width=700,\n",
    "    height=700,\n",
    "    template=\"plotly_dark\"\n",
    ")\n",
    "\n",
    "# Non-popular songs heatmap\n",
    "fig_non_popular = px.imshow(\n",
    "    corr_non_popular,\n",
    "    text_auto='.2f',\n",
    "    color_continuous_scale='Viridis',\n",
    "    labels=dict(x=\"Audio Feature\", y=\"Audio Feature\", color=\"Correlation\")\n",
    ")\n",
    "\n",
    "fig_non_popular.update_layout(\n",
    "    title=\"Correlation Between Audio Features (Non-Popular Songs)\",\n",
    "    width=700,\n",
    "    height=700,\n",
    "    template=\"plotly_dark\"\n",
    ")\n",
    "\n",
    "# Show both\n",
    "fig_popular.show()\n",
    "fig_non_popular.show()"
   ]
  },
  {
   "cell_type": "code",
   "execution_count": 12,
   "metadata": {},
   "outputs": [
    {
     "data": {
      "application/vnd.plotly.v1+json": {
       "config": {
        "plotlyServerURL": "https://plot.ly"
       },
       "data": [
        {
         "coloraxis": "coloraxis",
         "hovertemplate": "Audio Feature: %{x}<br>Audio Feature: %{y}<br>Correlation Difference: %{z}<extra></extra>",
         "name": "0",
         "texttemplate": "%{z:.2f}",
         "type": "heatmap",
         "x": [
          "energy",
          "danceability",
          "valence",
          "acousticness",
          "instrumentalness",
          "tempo",
          "loudness"
         ],
         "xaxis": "x",
         "y": [
          "energy",
          "danceability",
          "valence",
          "acousticness",
          "instrumentalness",
          "tempo",
          "loudness"
         ],
         "yaxis": "y",
         "z": {
          "bdata": "AAAAAAAAAAArsC0Ky5Xdv9jRXk0mjMq/PIsTDU/oxD+nLKX/n7PfP+7NaG/kPLm/8GR9bMm8v78rsC0Ky5XdvwAAAAAAAAAAWrEbbpE2zL8oXNnF00LUPw6tvgmZl9E/VCfzNZf4xb9E9gcA6pnav9jRXk0mjMq/WrEbbpE2zL8AAAAAAAAAAEj6yrD/oMs/9krrGy0u1j/7KVvsG4e8v3iT/746kNK/PIsTDU/oxD8oXNnF00LUP0j6yrD/oMs/AAAAAAAAAACIER1onebXv7Rr1oNhiKM/gLMrx6B5xj+nLKX/n7PfPw6tvgmZl9E/9krrGy0u1j+IER1onebXvwAAAAAAAAAAJw1fJrmyvz+putoBsp/RP+7NaG/kPLm/VCfzNZf4xb/7KVvsG4e8v7Rr1oNhiKM/Jw1fJrmyvz8AAAAAAAAAANkt1jC0uby/8GR9bMm8v79E9gcA6pnav3iT/746kNK/gLMrx6B5xj+putoBsp/RP9kt1jC0uby/AAAAAAAAAAA=",
          "dtype": "f8",
          "shape": "7, 7"
         }
        }
       ],
       "layout": {
        "coloraxis": {
         "cmax": 1,
         "cmin": -1,
         "colorbar": {
          "title": {
           "text": "Correlation Difference"
          }
         },
         "colorscale": [
          [
           0,
           "rgb(103,0,31)"
          ],
          [
           0.1,
           "rgb(178,24,43)"
          ],
          [
           0.2,
           "rgb(214,96,77)"
          ],
          [
           0.3,
           "rgb(244,165,130)"
          ],
          [
           0.4,
           "rgb(253,219,199)"
          ],
          [
           0.5,
           "rgb(247,247,247)"
          ],
          [
           0.6,
           "rgb(209,229,240)"
          ],
          [
           0.7,
           "rgb(146,197,222)"
          ],
          [
           0.8,
           "rgb(67,147,195)"
          ],
          [
           0.9,
           "rgb(33,102,172)"
          ],
          [
           1,
           "rgb(5,48,97)"
          ]
         ]
        },
        "height": 700,
        "margin": {
         "t": 60
        },
        "template": {
         "data": {
          "bar": [
           {
            "error_x": {
             "color": "#f2f5fa"
            },
            "error_y": {
             "color": "#f2f5fa"
            },
            "marker": {
             "line": {
              "color": "rgb(17,17,17)",
              "width": 0.5
             },
             "pattern": {
              "fillmode": "overlay",
              "size": 10,
              "solidity": 0.2
             }
            },
            "type": "bar"
           }
          ],
          "barpolar": [
           {
            "marker": {
             "line": {
              "color": "rgb(17,17,17)",
              "width": 0.5
             },
             "pattern": {
              "fillmode": "overlay",
              "size": 10,
              "solidity": 0.2
             }
            },
            "type": "barpolar"
           }
          ],
          "carpet": [
           {
            "aaxis": {
             "endlinecolor": "#A2B1C6",
             "gridcolor": "#506784",
             "linecolor": "#506784",
             "minorgridcolor": "#506784",
             "startlinecolor": "#A2B1C6"
            },
            "baxis": {
             "endlinecolor": "#A2B1C6",
             "gridcolor": "#506784",
             "linecolor": "#506784",
             "minorgridcolor": "#506784",
             "startlinecolor": "#A2B1C6"
            },
            "type": "carpet"
           }
          ],
          "choropleth": [
           {
            "colorbar": {
             "outlinewidth": 0,
             "ticks": ""
            },
            "type": "choropleth"
           }
          ],
          "contour": [
           {
            "colorbar": {
             "outlinewidth": 0,
             "ticks": ""
            },
            "colorscale": [
             [
              0,
              "#0d0887"
             ],
             [
              0.1111111111111111,
              "#46039f"
             ],
             [
              0.2222222222222222,
              "#7201a8"
             ],
             [
              0.3333333333333333,
              "#9c179e"
             ],
             [
              0.4444444444444444,
              "#bd3786"
             ],
             [
              0.5555555555555556,
              "#d8576b"
             ],
             [
              0.6666666666666666,
              "#ed7953"
             ],
             [
              0.7777777777777778,
              "#fb9f3a"
             ],
             [
              0.8888888888888888,
              "#fdca26"
             ],
             [
              1,
              "#f0f921"
             ]
            ],
            "type": "contour"
           }
          ],
          "contourcarpet": [
           {
            "colorbar": {
             "outlinewidth": 0,
             "ticks": ""
            },
            "type": "contourcarpet"
           }
          ],
          "heatmap": [
           {
            "colorbar": {
             "outlinewidth": 0,
             "ticks": ""
            },
            "colorscale": [
             [
              0,
              "#0d0887"
             ],
             [
              0.1111111111111111,
              "#46039f"
             ],
             [
              0.2222222222222222,
              "#7201a8"
             ],
             [
              0.3333333333333333,
              "#9c179e"
             ],
             [
              0.4444444444444444,
              "#bd3786"
             ],
             [
              0.5555555555555556,
              "#d8576b"
             ],
             [
              0.6666666666666666,
              "#ed7953"
             ],
             [
              0.7777777777777778,
              "#fb9f3a"
             ],
             [
              0.8888888888888888,
              "#fdca26"
             ],
             [
              1,
              "#f0f921"
             ]
            ],
            "type": "heatmap"
           }
          ],
          "histogram": [
           {
            "marker": {
             "pattern": {
              "fillmode": "overlay",
              "size": 10,
              "solidity": 0.2
             }
            },
            "type": "histogram"
           }
          ],
          "histogram2d": [
           {
            "colorbar": {
             "outlinewidth": 0,
             "ticks": ""
            },
            "colorscale": [
             [
              0,
              "#0d0887"
             ],
             [
              0.1111111111111111,
              "#46039f"
             ],
             [
              0.2222222222222222,
              "#7201a8"
             ],
             [
              0.3333333333333333,
              "#9c179e"
             ],
             [
              0.4444444444444444,
              "#bd3786"
             ],
             [
              0.5555555555555556,
              "#d8576b"
             ],
             [
              0.6666666666666666,
              "#ed7953"
             ],
             [
              0.7777777777777778,
              "#fb9f3a"
             ],
             [
              0.8888888888888888,
              "#fdca26"
             ],
             [
              1,
              "#f0f921"
             ]
            ],
            "type": "histogram2d"
           }
          ],
          "histogram2dcontour": [
           {
            "colorbar": {
             "outlinewidth": 0,
             "ticks": ""
            },
            "colorscale": [
             [
              0,
              "#0d0887"
             ],
             [
              0.1111111111111111,
              "#46039f"
             ],
             [
              0.2222222222222222,
              "#7201a8"
             ],
             [
              0.3333333333333333,
              "#9c179e"
             ],
             [
              0.4444444444444444,
              "#bd3786"
             ],
             [
              0.5555555555555556,
              "#d8576b"
             ],
             [
              0.6666666666666666,
              "#ed7953"
             ],
             [
              0.7777777777777778,
              "#fb9f3a"
             ],
             [
              0.8888888888888888,
              "#fdca26"
             ],
             [
              1,
              "#f0f921"
             ]
            ],
            "type": "histogram2dcontour"
           }
          ],
          "mesh3d": [
           {
            "colorbar": {
             "outlinewidth": 0,
             "ticks": ""
            },
            "type": "mesh3d"
           }
          ],
          "parcoords": [
           {
            "line": {
             "colorbar": {
              "outlinewidth": 0,
              "ticks": ""
             }
            },
            "type": "parcoords"
           }
          ],
          "pie": [
           {
            "automargin": true,
            "type": "pie"
           }
          ],
          "scatter": [
           {
            "marker": {
             "line": {
              "color": "#283442"
             }
            },
            "type": "scatter"
           }
          ],
          "scatter3d": [
           {
            "line": {
             "colorbar": {
              "outlinewidth": 0,
              "ticks": ""
             }
            },
            "marker": {
             "colorbar": {
              "outlinewidth": 0,
              "ticks": ""
             }
            },
            "type": "scatter3d"
           }
          ],
          "scattercarpet": [
           {
            "marker": {
             "colorbar": {
              "outlinewidth": 0,
              "ticks": ""
             }
            },
            "type": "scattercarpet"
           }
          ],
          "scattergeo": [
           {
            "marker": {
             "colorbar": {
              "outlinewidth": 0,
              "ticks": ""
             }
            },
            "type": "scattergeo"
           }
          ],
          "scattergl": [
           {
            "marker": {
             "line": {
              "color": "#283442"
             }
            },
            "type": "scattergl"
           }
          ],
          "scattermap": [
           {
            "marker": {
             "colorbar": {
              "outlinewidth": 0,
              "ticks": ""
             }
            },
            "type": "scattermap"
           }
          ],
          "scattermapbox": [
           {
            "marker": {
             "colorbar": {
              "outlinewidth": 0,
              "ticks": ""
             }
            },
            "type": "scattermapbox"
           }
          ],
          "scatterpolar": [
           {
            "marker": {
             "colorbar": {
              "outlinewidth": 0,
              "ticks": ""
             }
            },
            "type": "scatterpolar"
           }
          ],
          "scatterpolargl": [
           {
            "marker": {
             "colorbar": {
              "outlinewidth": 0,
              "ticks": ""
             }
            },
            "type": "scatterpolargl"
           }
          ],
          "scatterternary": [
           {
            "marker": {
             "colorbar": {
              "outlinewidth": 0,
              "ticks": ""
             }
            },
            "type": "scatterternary"
           }
          ],
          "surface": [
           {
            "colorbar": {
             "outlinewidth": 0,
             "ticks": ""
            },
            "colorscale": [
             [
              0,
              "#0d0887"
             ],
             [
              0.1111111111111111,
              "#46039f"
             ],
             [
              0.2222222222222222,
              "#7201a8"
             ],
             [
              0.3333333333333333,
              "#9c179e"
             ],
             [
              0.4444444444444444,
              "#bd3786"
             ],
             [
              0.5555555555555556,
              "#d8576b"
             ],
             [
              0.6666666666666666,
              "#ed7953"
             ],
             [
              0.7777777777777778,
              "#fb9f3a"
             ],
             [
              0.8888888888888888,
              "#fdca26"
             ],
             [
              1,
              "#f0f921"
             ]
            ],
            "type": "surface"
           }
          ],
          "table": [
           {
            "cells": {
             "fill": {
              "color": "#506784"
             },
             "line": {
              "color": "rgb(17,17,17)"
             }
            },
            "header": {
             "fill": {
              "color": "#2a3f5f"
             },
             "line": {
              "color": "rgb(17,17,17)"
             }
            },
            "type": "table"
           }
          ]
         },
         "layout": {
          "annotationdefaults": {
           "arrowcolor": "#f2f5fa",
           "arrowhead": 0,
           "arrowwidth": 1
          },
          "autotypenumbers": "strict",
          "coloraxis": {
           "colorbar": {
            "outlinewidth": 0,
            "ticks": ""
           }
          },
          "colorscale": {
           "diverging": [
            [
             0,
             "#8e0152"
            ],
            [
             0.1,
             "#c51b7d"
            ],
            [
             0.2,
             "#de77ae"
            ],
            [
             0.3,
             "#f1b6da"
            ],
            [
             0.4,
             "#fde0ef"
            ],
            [
             0.5,
             "#f7f7f7"
            ],
            [
             0.6,
             "#e6f5d0"
            ],
            [
             0.7,
             "#b8e186"
            ],
            [
             0.8,
             "#7fbc41"
            ],
            [
             0.9,
             "#4d9221"
            ],
            [
             1,
             "#276419"
            ]
           ],
           "sequential": [
            [
             0,
             "#0d0887"
            ],
            [
             0.1111111111111111,
             "#46039f"
            ],
            [
             0.2222222222222222,
             "#7201a8"
            ],
            [
             0.3333333333333333,
             "#9c179e"
            ],
            [
             0.4444444444444444,
             "#bd3786"
            ],
            [
             0.5555555555555556,
             "#d8576b"
            ],
            [
             0.6666666666666666,
             "#ed7953"
            ],
            [
             0.7777777777777778,
             "#fb9f3a"
            ],
            [
             0.8888888888888888,
             "#fdca26"
            ],
            [
             1,
             "#f0f921"
            ]
           ],
           "sequentialminus": [
            [
             0,
             "#0d0887"
            ],
            [
             0.1111111111111111,
             "#46039f"
            ],
            [
             0.2222222222222222,
             "#7201a8"
            ],
            [
             0.3333333333333333,
             "#9c179e"
            ],
            [
             0.4444444444444444,
             "#bd3786"
            ],
            [
             0.5555555555555556,
             "#d8576b"
            ],
            [
             0.6666666666666666,
             "#ed7953"
            ],
            [
             0.7777777777777778,
             "#fb9f3a"
            ],
            [
             0.8888888888888888,
             "#fdca26"
            ],
            [
             1,
             "#f0f921"
            ]
           ]
          },
          "colorway": [
           "#636efa",
           "#EF553B",
           "#00cc96",
           "#ab63fa",
           "#FFA15A",
           "#19d3f3",
           "#FF6692",
           "#B6E880",
           "#FF97FF",
           "#FECB52"
          ],
          "font": {
           "color": "#f2f5fa"
          },
          "geo": {
           "bgcolor": "rgb(17,17,17)",
           "lakecolor": "rgb(17,17,17)",
           "landcolor": "rgb(17,17,17)",
           "showlakes": true,
           "showland": true,
           "subunitcolor": "#506784"
          },
          "hoverlabel": {
           "align": "left"
          },
          "hovermode": "closest",
          "mapbox": {
           "style": "dark"
          },
          "paper_bgcolor": "rgb(17,17,17)",
          "plot_bgcolor": "rgb(17,17,17)",
          "polar": {
           "angularaxis": {
            "gridcolor": "#506784",
            "linecolor": "#506784",
            "ticks": ""
           },
           "bgcolor": "rgb(17,17,17)",
           "radialaxis": {
            "gridcolor": "#506784",
            "linecolor": "#506784",
            "ticks": ""
           }
          },
          "scene": {
           "xaxis": {
            "backgroundcolor": "rgb(17,17,17)",
            "gridcolor": "#506784",
            "gridwidth": 2,
            "linecolor": "#506784",
            "showbackground": true,
            "ticks": "",
            "zerolinecolor": "#C8D4E3"
           },
           "yaxis": {
            "backgroundcolor": "rgb(17,17,17)",
            "gridcolor": "#506784",
            "gridwidth": 2,
            "linecolor": "#506784",
            "showbackground": true,
            "ticks": "",
            "zerolinecolor": "#C8D4E3"
           },
           "zaxis": {
            "backgroundcolor": "rgb(17,17,17)",
            "gridcolor": "#506784",
            "gridwidth": 2,
            "linecolor": "#506784",
            "showbackground": true,
            "ticks": "",
            "zerolinecolor": "#C8D4E3"
           }
          },
          "shapedefaults": {
           "line": {
            "color": "#f2f5fa"
           }
          },
          "sliderdefaults": {
           "bgcolor": "#C8D4E3",
           "bordercolor": "rgb(17,17,17)",
           "borderwidth": 1,
           "tickwidth": 0
          },
          "ternary": {
           "aaxis": {
            "gridcolor": "#506784",
            "linecolor": "#506784",
            "ticks": ""
           },
           "baxis": {
            "gridcolor": "#506784",
            "linecolor": "#506784",
            "ticks": ""
           },
           "bgcolor": "rgb(17,17,17)",
           "caxis": {
            "gridcolor": "#506784",
            "linecolor": "#506784",
            "ticks": ""
           }
          },
          "title": {
           "x": 0.05
          },
          "updatemenudefaults": {
           "bgcolor": "#506784",
           "borderwidth": 0
          },
          "xaxis": {
           "automargin": true,
           "gridcolor": "#283442",
           "linecolor": "#506784",
           "ticks": "",
           "title": {
            "standoff": 15
           },
           "zerolinecolor": "#283442",
           "zerolinewidth": 2
          },
          "yaxis": {
           "automargin": true,
           "gridcolor": "#283442",
           "linecolor": "#506784",
           "ticks": "",
           "title": {
            "standoff": 15
           },
           "zerolinecolor": "#283442",
           "zerolinewidth": 2
          }
         }
        },
        "title": {
         "text": "🔍 Difference in Audio Feature Correlations (Popular - Non-Popular)"
        },
        "width": 700,
        "xaxis": {
         "anchor": "y",
         "constrain": "domain",
         "domain": [
          0,
          1
         ],
         "scaleanchor": "y",
         "title": {
          "text": "Audio Feature"
         }
        },
        "yaxis": {
         "anchor": "x",
         "autorange": "reversed",
         "constrain": "domain",
         "domain": [
          0,
          1
         ],
         "title": {
          "text": "Audio Feature"
         }
        }
       }
      }
     },
     "metadata": {},
     "output_type": "display_data"
    }
   ],
   "source": [
    "# Define features\n",
    "features = ['energy', 'danceability', 'valence', 'acousticness', 'instrumentalness', 'tempo', 'loudness']\n",
    "\n",
    "# Normalize 'tempo' and 'loudness'\n",
    "scaler = MinMaxScaler()\n",
    "high_song_popularity[['tempo', 'loudness']] = scaler.fit_transform(high_song_popularity[['tempo', 'loudness']])\n",
    "low_song_popularity[['tempo', 'loudness']] = scaler.fit_transform(low_song_popularity[['tempo', 'loudness']])\n",
    "\n",
    "# Compute correlation matrices\n",
    "corr_popular = high_song_popularity[features].corr()\n",
    "corr_non_popular = low_song_popularity[features].corr()\n",
    "\n",
    "# Compute difference matrix\n",
    "corr_diff = corr_popular - corr_non_popular\n",
    "\n",
    "# Plot difference heatmap\n",
    "fig_diff = px.imshow(\n",
    "    corr_diff,\n",
    "    text_auto='.2f',\n",
    "    color_continuous_scale='RdBu',\n",
    "    zmin=-1, zmax=1,\n",
    "    labels=dict(x=\"Audio Feature\", y=\"Audio Feature\", color=\"Correlation Difference\")\n",
    ")\n",
    "\n",
    "fig_diff.update_layout(\n",
    "    title=\"🔍 Difference in Audio Feature Correlations (Popular - Non-Popular)\",\n",
    "    width=700,\n",
    "    height=700,\n",
    "    template=\"plotly_dark\"\n",
    ")\n",
    "\n",
    "fig_diff.show()"
   ]
  },
  {
   "cell_type": "markdown",
   "metadata": {},
   "source": [
    "### Exploring Genre Popularity in Music\n",
    "This donut chart helps artists gain insight into the average popularity of songs in each genre. It also provides a way to discover hidden or less saturated genres. The donut chart splits the pie into segments based on each genre. The size of each segment represents the total number of songs in that specific genre, while the color reflects the average popularity. Lighter shades indicate lower popularity, and darker blue tones represent higher popularity.\n"
   ]
  },
  {
   "cell_type": "code",
   "execution_count": 6,
   "metadata": {},
   "outputs": [
    {
     "data": {
      "application/vnd.plotly.v1+json": {
       "config": {
        "plotlyServerURL": "https://plot.ly"
       },
       "data": [
        {
         "customdata": {
          "bdata": "idqVqF1JSkDrMTYs7v5IQE/sxE7svElA0UUXXXTxTUCDKfJZN9hDQHsJ7SW0lzhAq2eHwI1lR0C66KKLLjpIQAAAAAAAADhAoEuakfV3SkBLS0tLS8tNQG7btm3bFkBA8xrKayivUUBpkAZpkIZHQBnOhpCDv09AprOYzmK6RkDx8PDw8PBOQJze9KY3PVBA9erVq1cvR0Dx8PDw8DBRQNPS0tLSEk9A8fDw8PDwS0B1zCXCk4JHQEmSJEmS5EpAiMb60FhfUUDbGJruYD9QQBX5rBtMsVBACtejcD0KU0CrqqqqqlpNQPJKE1ZsnlBA27Zt27btREC66KKLLlpKQIJEK2wOpElAmpmZmZnBSEDqLKazmE49QA==",
          "dtype": "f8",
          "shape": "35, 1"
         },
         "hole": 0.4,
         "hovertemplate": "<b>%{label}</b><br>Song Count: %{value}<br>Avg Popularity: %{customdata:.1f}",
         "labels": [
          "afrobeats",
          "ambient",
          "arabic",
          "blues",
          "brazilian",
          "cantopop",
          "classical",
          "country",
          "disco",
          "electronic",
          "folk",
          "funk",
          "gaming",
          "gospel",
          "hip-hop",
          "indian",
          "indie",
          "j-pop",
          "jazz",
          "k-pop",
          "korean",
          "latin",
          "lofi",
          "mandopop",
          "metal",
          "pop",
          "punk",
          "r&b",
          "reggae",
          "rock",
          "soca",
          "soul",
          "turkish",
          "wellness",
          "world"
         ],
         "marker": {
          "colors": [
           "rgb(51, 168, 194)",
           "rgb(66, 182, 196)",
           "rgb(57, 174, 195)",
           "rgb(32, 119, 180)",
           "rgb(170, 222, 183)",
           "rgb(253, 254, 213)",
           "rgb(96, 194, 191)",
           "rgb(80, 188, 194)",
           "rgb(255, 255, 217)",
           "rgb(49, 166, 194)",
           "rgb(31, 122, 181)",
           "rgb(227, 244, 178)",
           "rgb(32, 48, 138)",
           "rgb(94, 193, 192)",
           "rgb(34, 92, 167)",
           "rgb(109, 198, 190)",
           "rgb(33, 104, 173)",
           "rgb(35, 82, 162)",
           "rgb(100, 195, 191)",
           "rgb(37, 58, 151)",
           "rgb(33, 102, 172)",
           "rgb(33, 149, 192)",
           "rgb(94, 193, 192)",
           "rgb(45, 161, 194)",
           "rgb(37, 53, 148)",
           "rgb(35, 82, 162)",
           "rgb(36, 70, 157)",
           "rgb(8, 29, 88)",
           "rgb(31, 129, 184)",
           "rgb(36, 72, 158)",
           "rgb(146, 212, 185)",
           "rgb(51, 167, 194)",
           "rgb(58, 175, 195)",
           "rgb(70, 184, 195)",
           "rgb(240, 249, 184)"
          ]
         },
         "name": "",
         "textinfo": "label+value",
         "type": "pie",
         "values": {
          "bdata": "UgBnAdAAWACUABsAeQALAAkATQJEABwAhQAnAIsBOQARABcAkgARACIAqQEqAQ4AMQADAkoAMgAYAFkBDgAsAEcAUADkAA==",
          "dtype": "i2"
         }
        },
        {
         "hoverinfo": "none",
         "marker": {
          "cmax": 76.16,
          "cmin": 24,
          "color": [
           24
          ],
          "colorbar": {
           "title": {
            "text": "Avg Popularity"
           }
          },
          "colorscale": [
           [
            0,
            "rgb(255,255,217)"
           ],
           [
            0.125,
            "rgb(237,248,177)"
           ],
           [
            0.25,
            "rgb(199,233,180)"
           ],
           [
            0.375,
            "rgb(127,205,187)"
           ],
           [
            0.5,
            "rgb(65,182,196)"
           ],
           [
            0.625,
            "rgb(29,145,192)"
           ],
           [
            0.75,
            "rgb(34,94,168)"
           ],
           [
            0.875,
            "rgb(37,52,148)"
           ],
           [
            1,
            "rgb(8,29,88)"
           ]
          ],
          "showscale": true,
          "size": 1
         },
         "mode": "markers",
         "type": "scatter",
         "x": [
          null
         ],
         "y": [
          null
         ]
        }
       ],
       "layout": {
        "height": 1000,
        "showlegend": false,
        "template": {
         "data": {
          "bar": [
           {
            "error_x": {
             "color": "#2a3f5f"
            },
            "error_y": {
             "color": "#2a3f5f"
            },
            "marker": {
             "line": {
              "color": "#E5ECF6",
              "width": 0.5
             },
             "pattern": {
              "fillmode": "overlay",
              "size": 10,
              "solidity": 0.2
             }
            },
            "type": "bar"
           }
          ],
          "barpolar": [
           {
            "marker": {
             "line": {
              "color": "#E5ECF6",
              "width": 0.5
             },
             "pattern": {
              "fillmode": "overlay",
              "size": 10,
              "solidity": 0.2
             }
            },
            "type": "barpolar"
           }
          ],
          "carpet": [
           {
            "aaxis": {
             "endlinecolor": "#2a3f5f",
             "gridcolor": "white",
             "linecolor": "white",
             "minorgridcolor": "white",
             "startlinecolor": "#2a3f5f"
            },
            "baxis": {
             "endlinecolor": "#2a3f5f",
             "gridcolor": "white",
             "linecolor": "white",
             "minorgridcolor": "white",
             "startlinecolor": "#2a3f5f"
            },
            "type": "carpet"
           }
          ],
          "choropleth": [
           {
            "colorbar": {
             "outlinewidth": 0,
             "ticks": ""
            },
            "type": "choropleth"
           }
          ],
          "contour": [
           {
            "colorbar": {
             "outlinewidth": 0,
             "ticks": ""
            },
            "colorscale": [
             [
              0,
              "#0d0887"
             ],
             [
              0.1111111111111111,
              "#46039f"
             ],
             [
              0.2222222222222222,
              "#7201a8"
             ],
             [
              0.3333333333333333,
              "#9c179e"
             ],
             [
              0.4444444444444444,
              "#bd3786"
             ],
             [
              0.5555555555555556,
              "#d8576b"
             ],
             [
              0.6666666666666666,
              "#ed7953"
             ],
             [
              0.7777777777777778,
              "#fb9f3a"
             ],
             [
              0.8888888888888888,
              "#fdca26"
             ],
             [
              1,
              "#f0f921"
             ]
            ],
            "type": "contour"
           }
          ],
          "contourcarpet": [
           {
            "colorbar": {
             "outlinewidth": 0,
             "ticks": ""
            },
            "type": "contourcarpet"
           }
          ],
          "heatmap": [
           {
            "colorbar": {
             "outlinewidth": 0,
             "ticks": ""
            },
            "colorscale": [
             [
              0,
              "#0d0887"
             ],
             [
              0.1111111111111111,
              "#46039f"
             ],
             [
              0.2222222222222222,
              "#7201a8"
             ],
             [
              0.3333333333333333,
              "#9c179e"
             ],
             [
              0.4444444444444444,
              "#bd3786"
             ],
             [
              0.5555555555555556,
              "#d8576b"
             ],
             [
              0.6666666666666666,
              "#ed7953"
             ],
             [
              0.7777777777777778,
              "#fb9f3a"
             ],
             [
              0.8888888888888888,
              "#fdca26"
             ],
             [
              1,
              "#f0f921"
             ]
            ],
            "type": "heatmap"
           }
          ],
          "histogram": [
           {
            "marker": {
             "pattern": {
              "fillmode": "overlay",
              "size": 10,
              "solidity": 0.2
             }
            },
            "type": "histogram"
           }
          ],
          "histogram2d": [
           {
            "colorbar": {
             "outlinewidth": 0,
             "ticks": ""
            },
            "colorscale": [
             [
              0,
              "#0d0887"
             ],
             [
              0.1111111111111111,
              "#46039f"
             ],
             [
              0.2222222222222222,
              "#7201a8"
             ],
             [
              0.3333333333333333,
              "#9c179e"
             ],
             [
              0.4444444444444444,
              "#bd3786"
             ],
             [
              0.5555555555555556,
              "#d8576b"
             ],
             [
              0.6666666666666666,
              "#ed7953"
             ],
             [
              0.7777777777777778,
              "#fb9f3a"
             ],
             [
              0.8888888888888888,
              "#fdca26"
             ],
             [
              1,
              "#f0f921"
             ]
            ],
            "type": "histogram2d"
           }
          ],
          "histogram2dcontour": [
           {
            "colorbar": {
             "outlinewidth": 0,
             "ticks": ""
            },
            "colorscale": [
             [
              0,
              "#0d0887"
             ],
             [
              0.1111111111111111,
              "#46039f"
             ],
             [
              0.2222222222222222,
              "#7201a8"
             ],
             [
              0.3333333333333333,
              "#9c179e"
             ],
             [
              0.4444444444444444,
              "#bd3786"
             ],
             [
              0.5555555555555556,
              "#d8576b"
             ],
             [
              0.6666666666666666,
              "#ed7953"
             ],
             [
              0.7777777777777778,
              "#fb9f3a"
             ],
             [
              0.8888888888888888,
              "#fdca26"
             ],
             [
              1,
              "#f0f921"
             ]
            ],
            "type": "histogram2dcontour"
           }
          ],
          "mesh3d": [
           {
            "colorbar": {
             "outlinewidth": 0,
             "ticks": ""
            },
            "type": "mesh3d"
           }
          ],
          "parcoords": [
           {
            "line": {
             "colorbar": {
              "outlinewidth": 0,
              "ticks": ""
             }
            },
            "type": "parcoords"
           }
          ],
          "pie": [
           {
            "automargin": true,
            "type": "pie"
           }
          ],
          "scatter": [
           {
            "fillpattern": {
             "fillmode": "overlay",
             "size": 10,
             "solidity": 0.2
            },
            "type": "scatter"
           }
          ],
          "scatter3d": [
           {
            "line": {
             "colorbar": {
              "outlinewidth": 0,
              "ticks": ""
             }
            },
            "marker": {
             "colorbar": {
              "outlinewidth": 0,
              "ticks": ""
             }
            },
            "type": "scatter3d"
           }
          ],
          "scattercarpet": [
           {
            "marker": {
             "colorbar": {
              "outlinewidth": 0,
              "ticks": ""
             }
            },
            "type": "scattercarpet"
           }
          ],
          "scattergeo": [
           {
            "marker": {
             "colorbar": {
              "outlinewidth": 0,
              "ticks": ""
             }
            },
            "type": "scattergeo"
           }
          ],
          "scattergl": [
           {
            "marker": {
             "colorbar": {
              "outlinewidth": 0,
              "ticks": ""
             }
            },
            "type": "scattergl"
           }
          ],
          "scattermap": [
           {
            "marker": {
             "colorbar": {
              "outlinewidth": 0,
              "ticks": ""
             }
            },
            "type": "scattermap"
           }
          ],
          "scattermapbox": [
           {
            "marker": {
             "colorbar": {
              "outlinewidth": 0,
              "ticks": ""
             }
            },
            "type": "scattermapbox"
           }
          ],
          "scatterpolar": [
           {
            "marker": {
             "colorbar": {
              "outlinewidth": 0,
              "ticks": ""
             }
            },
            "type": "scatterpolar"
           }
          ],
          "scatterpolargl": [
           {
            "marker": {
             "colorbar": {
              "outlinewidth": 0,
              "ticks": ""
             }
            },
            "type": "scatterpolargl"
           }
          ],
          "scatterternary": [
           {
            "marker": {
             "colorbar": {
              "outlinewidth": 0,
              "ticks": ""
             }
            },
            "type": "scatterternary"
           }
          ],
          "surface": [
           {
            "colorbar": {
             "outlinewidth": 0,
             "ticks": ""
            },
            "colorscale": [
             [
              0,
              "#0d0887"
             ],
             [
              0.1111111111111111,
              "#46039f"
             ],
             [
              0.2222222222222222,
              "#7201a8"
             ],
             [
              0.3333333333333333,
              "#9c179e"
             ],
             [
              0.4444444444444444,
              "#bd3786"
             ],
             [
              0.5555555555555556,
              "#d8576b"
             ],
             [
              0.6666666666666666,
              "#ed7953"
             ],
             [
              0.7777777777777778,
              "#fb9f3a"
             ],
             [
              0.8888888888888888,
              "#fdca26"
             ],
             [
              1,
              "#f0f921"
             ]
            ],
            "type": "surface"
           }
          ],
          "table": [
           {
            "cells": {
             "fill": {
              "color": "#EBF0F8"
             },
             "line": {
              "color": "white"
             }
            },
            "header": {
             "fill": {
              "color": "#C8D4E3"
             },
             "line": {
              "color": "white"
             }
            },
            "type": "table"
           }
          ]
         },
         "layout": {
          "annotationdefaults": {
           "arrowcolor": "#2a3f5f",
           "arrowhead": 0,
           "arrowwidth": 1
          },
          "autotypenumbers": "strict",
          "coloraxis": {
           "colorbar": {
            "outlinewidth": 0,
            "ticks": ""
           }
          },
          "colorscale": {
           "diverging": [
            [
             0,
             "#8e0152"
            ],
            [
             0.1,
             "#c51b7d"
            ],
            [
             0.2,
             "#de77ae"
            ],
            [
             0.3,
             "#f1b6da"
            ],
            [
             0.4,
             "#fde0ef"
            ],
            [
             0.5,
             "#f7f7f7"
            ],
            [
             0.6,
             "#e6f5d0"
            ],
            [
             0.7,
             "#b8e186"
            ],
            [
             0.8,
             "#7fbc41"
            ],
            [
             0.9,
             "#4d9221"
            ],
            [
             1,
             "#276419"
            ]
           ],
           "sequential": [
            [
             0,
             "#0d0887"
            ],
            [
             0.1111111111111111,
             "#46039f"
            ],
            [
             0.2222222222222222,
             "#7201a8"
            ],
            [
             0.3333333333333333,
             "#9c179e"
            ],
            [
             0.4444444444444444,
             "#bd3786"
            ],
            [
             0.5555555555555556,
             "#d8576b"
            ],
            [
             0.6666666666666666,
             "#ed7953"
            ],
            [
             0.7777777777777778,
             "#fb9f3a"
            ],
            [
             0.8888888888888888,
             "#fdca26"
            ],
            [
             1,
             "#f0f921"
            ]
           ],
           "sequentialminus": [
            [
             0,
             "#0d0887"
            ],
            [
             0.1111111111111111,
             "#46039f"
            ],
            [
             0.2222222222222222,
             "#7201a8"
            ],
            [
             0.3333333333333333,
             "#9c179e"
            ],
            [
             0.4444444444444444,
             "#bd3786"
            ],
            [
             0.5555555555555556,
             "#d8576b"
            ],
            [
             0.6666666666666666,
             "#ed7953"
            ],
            [
             0.7777777777777778,
             "#fb9f3a"
            ],
            [
             0.8888888888888888,
             "#fdca26"
            ],
            [
             1,
             "#f0f921"
            ]
           ]
          },
          "colorway": [
           "#636efa",
           "#EF553B",
           "#00cc96",
           "#ab63fa",
           "#FFA15A",
           "#19d3f3",
           "#FF6692",
           "#B6E880",
           "#FF97FF",
           "#FECB52"
          ],
          "font": {
           "color": "#2a3f5f"
          },
          "geo": {
           "bgcolor": "white",
           "lakecolor": "white",
           "landcolor": "#E5ECF6",
           "showlakes": true,
           "showland": true,
           "subunitcolor": "white"
          },
          "hoverlabel": {
           "align": "left"
          },
          "hovermode": "closest",
          "mapbox": {
           "style": "light"
          },
          "paper_bgcolor": "white",
          "plot_bgcolor": "#E5ECF6",
          "polar": {
           "angularaxis": {
            "gridcolor": "white",
            "linecolor": "white",
            "ticks": ""
           },
           "bgcolor": "#E5ECF6",
           "radialaxis": {
            "gridcolor": "white",
            "linecolor": "white",
            "ticks": ""
           }
          },
          "scene": {
           "xaxis": {
            "backgroundcolor": "#E5ECF6",
            "gridcolor": "white",
            "gridwidth": 2,
            "linecolor": "white",
            "showbackground": true,
            "ticks": "",
            "zerolinecolor": "white"
           },
           "yaxis": {
            "backgroundcolor": "#E5ECF6",
            "gridcolor": "white",
            "gridwidth": 2,
            "linecolor": "white",
            "showbackground": true,
            "ticks": "",
            "zerolinecolor": "white"
           },
           "zaxis": {
            "backgroundcolor": "#E5ECF6",
            "gridcolor": "white",
            "gridwidth": 2,
            "linecolor": "white",
            "showbackground": true,
            "ticks": "",
            "zerolinecolor": "white"
           }
          },
          "shapedefaults": {
           "line": {
            "color": "#2a3f5f"
           }
          },
          "ternary": {
           "aaxis": {
            "gridcolor": "white",
            "linecolor": "white",
            "ticks": ""
           },
           "baxis": {
            "gridcolor": "white",
            "linecolor": "white",
            "ticks": ""
           },
           "bgcolor": "#E5ECF6",
           "caxis": {
            "gridcolor": "white",
            "linecolor": "white",
            "ticks": ""
           }
          },
          "title": {
           "x": 0.05
          },
          "xaxis": {
           "automargin": true,
           "gridcolor": "white",
           "linecolor": "white",
           "ticks": "",
           "title": {
            "standoff": 15
           },
           "zerolinecolor": "white",
           "zerolinewidth": 2
          },
          "yaxis": {
           "automargin": true,
           "gridcolor": "white",
           "linecolor": "white",
           "ticks": "",
           "title": {
            "standoff": 15
           },
           "zerolinecolor": "white",
           "zerolinewidth": 2
          }
         }
        },
        "title": {
         "text": "Genre Distribution by Song Count (Colored by Avg Popularity)"
        },
        "width": 1200
       }
      }
     },
     "metadata": {},
     "output_type": "display_data"
    }
   ],
   "source": [
    "# Combined popularity\n",
    "combined_popularity = pd.concat([high_song_popularity, low_song_popularity], ignore_index=True)\n",
    "\n",
    "# Group by genre\n",
    "genre_df = combined_popularity.groupby('playlist_genre').agg(\n",
    "    song_count=('track_name', 'count'),\n",
    "    avg_popularity=('track_popularity', 'mean')\n",
    ").reset_index()\n",
    "\n",
    "# Normalize popularity to map to color\n",
    "max_pop = genre_df['avg_popularity'].max()\n",
    "min_pop = genre_df['avg_popularity'].min()\n",
    "norm_pop = (genre_df['avg_popularity'] - min_pop) / (max_pop - min_pop)\n",
    "\n",
    "# Create colorscale\n",
    "colorscale = 'YlGnBu'\n",
    "colors = [px.colors.sample_colorscale(colorscale, p)[0] for p in norm_pop]\n",
    "\n",
    "# Setup pie chart with custom coloring\n",
    "genre_pie = go.Figure(data=[go.Pie(\n",
    "    labels=genre_df['playlist_genre'],\n",
    "    values=genre_df['song_count'],\n",
    "    hole=0.4,\n",
    "    name='',\n",
    "    marker=dict(colors=colors),\n",
    "    hovertemplate='<b>%{label}</b><br>Song Count: %{value}<br>Avg Popularity: %{customdata:.1f}',\n",
    "    customdata=genre_df[['avg_popularity']].values,\n",
    "    textinfo='label+value'\n",
    ")])\n",
    "\n",
    "# Manually add color scale as an annotation (since Pie doesn't support built-in colorbars)\n",
    "colorbar_trace = go.Scatter(\n",
    "    x=[None],\n",
    "    y=[None],\n",
    "    mode='markers',\n",
    "    marker=dict(\n",
    "        colorscale=colorscale,\n",
    "        cmin=min_pop,\n",
    "        cmax=max_pop,\n",
    "        colorbar=dict(title='Avg Popularity'),\n",
    "        showscale=True,\n",
    "        size=1,\n",
    "        color=[min_pop]  # Dummy value\n",
    "    ),\n",
    "    hoverinfo='none'\n",
    ")\n",
    "\n",
    "genre_pie.add_trace(colorbar_trace)\n",
    "\n",
    "# Update layout size\n",
    "genre_pie.update_layout(\n",
    "    width=1200,\n",
    "    height=1000,\n",
    "    title='Genre Distribution by Song Count (Colored by Avg Popularity)',\n",
    "    #coloraxis_colorbar=dict(title=\"Avg Popularity\"),\n",
    "    showlegend=False\n",
    ")\n",
    "\n",
    "genre_pie.show()"
   ]
  },
  {
   "cell_type": "markdown",
   "metadata": {},
   "source": [
    "#### Result\n",
    "From the donut chart, the genre with the highest average popularity is R&B, with an average popularity of 76.2 and only 50 songs, making it a less saturated genre. Artists could potentially focus on creating songs in this genre to increase their chances of a hit. The genre with the most songs is Electronic, with 589 songs, but it has a lower average popularity of 52.9."
   ]
  },
  {
   "cell_type": "markdown",
   "metadata": {},
   "source": [
    "### Sub Genre"
   ]
  },
  {
   "cell_type": "code",
   "execution_count": 7,
   "metadata": {},
   "outputs": [
    {
     "data": {
      "application/vnd.plotly.v1+json": {
       "config": {
        "plotlyServerURL": "https://plot.ly"
       },
       "data": [
        {
         "branchvalues": "total",
         "customdata": {
          "bdata": "VVVVVVWFUEBVVVVVVZVIQJqZmZmZmTxAMzMzMzOzT0CY0F5Ce+lQQDbZZJNNdkhAtkTuby2RR0AAAAAAACA2QAAAAAAAwDpA+/r6+vr6SUCfdYMp8plQQNu2bdu2bTlAKvJZN5giPkAzMzMzM7NMQBvKayivoTlAewntJbSXOED2KFyPwvU/QKuqqqqqekJAZHA+BufjSkAndmInduJHQBzHcRzH8U9Auuiiiy46SEAAAAAAAAA4QDuxEzuxEzdAVVVVVVXVT0AjLPc0wnJIQG7btm3bNkRAfjUm0gPVSUBERERERERIQOKOuCPuiEtAMzMzMzPzUkCamZmZmRk3QE/sxE7sBENApze96U0vUkCVUkoppdRLQNFFF110cVBAVVVVVVW1UEAAAAAAAC5SQKuqqqqqqklAVVVVVVUVQUBu27Zt2xZAQOxRuB6FG1RAL7rooouuREDsxE7sxM5KQCd2Yid24kVAp6wpa8oaUUAXXXTRRddSQBmcj8H5WFBASZIkSZIkTEAAAAAAAIBKQLHc0wjL/U9A9aY3velNP0D44IMPPjhSQMF9BPcRXE1AAAAAAAAAUkCamZmZmRlFQDMzMzMzc1BAAAAAAADwNEAAAAAAAChOQPHw8PDw8E5AnN70pjc9UEAAAAAAAIAyQAAAAAAAkEtAq6qqqqqqPkAVL5BJ8YJHQAAAAAAAAEhA8fDw8PAwUUDT0tLS0hJPQDzijrgjbkxAUJbApv1kREDNzMzMzExFQDi96U1vekZA7og74o74U0DJnoGodMRQQGZmZmZmZjZA5TWU11DeQkBJkiRJkgRJQN3c3NzcnERASZIkSZLkSkAAAAAAAIRSQAAAAAAAAFFAmpmZmZmZT0ByHMdxHOdOQOxRuB6F61VAFsTkCmKyVUAIKme38Ks6QFkfGutDo1NA7+7u7u4uU0Bu27Zt23ZIQLy7u7u7u1FACtejcD0KU0BddNFFF91OQDuxEzuxE0xAKH3SJ31SUkC0mM5iOgtRQFcQkyuIiVJAd3d3d3eXUEBJkiRJkqRCQAAAAAAAIExAAAAAAACAN0CrqqqqqmpLQFVVVVVVVVBA27Zt27btREC66KKLLlpKQIJEK2wOpElAmpmZmZnBSECamZmZmRk/QGWfQ2qC8UBAo4suuuiiNUB5DeU1lNc4QApMOjUPcjZAuuiiiy66P0B605ve9CZLQInalahdSUpA6zE2LO7+SEBP7MRO7LxJQNFFF1108U1AgynyWTfYQ0B7Ce0ltJc4QKtnh8CNZUdAuuiiiy46SEAAAAAAAAA4QKBLmpH1d0pAS0tLS0vLTUBu27Zt2xZAQPMaymsor1FAaZAGaZCGR0AZzoaQg79PQKazmM5iukZA8fDw8PDwTkCc3vSmNz1QQPXq1atXL0dA8fDw8PAwUUDT0tLS0hJPQPHw8PDw8EtAdcwlwpOCR0BJkiRJkuRKQIjG+tBYX1FA2xia7mA/UEAV+awbTLFQQArXo3A9ClNAq6qqqqpaTUDyShNWbJ5QQNu2bdu27URAuuiiiy5aSkCCRCtsDqRJQJqZmZmZwUhA6iyms5hOPUA=",
          "dtype": "f8",
          "shape": "148, 1"
         },
         "domain": {
          "x": [
           0,
           1
          ],
          "y": [
           0,
           1
          ]
         },
         "hovertemplate": "labels=%{label}<br>song_count=%{value}<br>parent=%{parent}<br>id=%{id}<br>avg_popularity=%{color}<extra></extra>",
         "ids": [
          "afrobeats/african",
          "afrobeats/amapiano",
          "afrobeats/gqom",
          "afrobeats/nigerian",
          "ambient/academic",
          "ambient/chill",
          "ambient/meditative",
          "ambient/noir",
          "arabic/chill",
          "arabic/modern",
          "blues/classic",
          "blues/delta",
          "brazilian/forró",
          "brazilian/funk",
          "brazilian/samba",
          "cantopop/classic",
          "classical/choral",
          "classical/cinematic",
          "classical/essential",
          "classical/modern",
          "classical/neo-classical",
          "country/classic",
          "disco/italo",
          "electronic/african",
          "electronic/afro house",
          "electronic/deep house",
          "electronic/experimental",
          "electronic/french",
          "electronic/future bass",
          "electronic/hardstyle",
          "electronic/modern",
          "electronic/nordic",
          "electronic/retro",
          "electronic/techno",
          "electronic/tropical",
          "electronic/vaporwave",
          "folk/american",
          "folk/indie",
          "folk/irish",
          "folk/nordic",
          "funk/future",
          "gaming/modern",
          "gaming/soundtracks",
          "gospel/african",
          "gospel/modern",
          "hip-hop/90s",
          "hip-hop/chill",
          "hip-hop/desi",
          "hip-hop/drill",
          "hip-hop/french",
          "hip-hop/gangster",
          "hip-hop/grime",
          "hip-hop/melodic",
          "hip-hop/modern",
          "hip-hop/trap",
          "indian/bhangra",
          "indian/bollywood",
          "indian/classical",
          "indian/workout",
          "indie/australian",
          "j-pop/anime",
          "jazz/avant-garde",
          "jazz/classic",
          "jazz/latin",
          "jazz/modern",
          "jazz/smooth",
          "k-pop/modern",
          "korean/drama",
          "latin/afro-latin",
          "latin/chill",
          "latin/cumbia",
          "latin/hip-hop",
          "latin/modern",
          "latin/reggaeton",
          "latin/tango",
          "latin/trap",
          "lofi/chill",
          "lofi/hip-hop",
          "mandopop/modern",
          "metal/classic",
          "metal/death",
          "metal/heavy",
          "pop/bedroom",
          "pop/global",
          "pop/mainstream",
          "pop/scandi",
          "pop/soft",
          "pop/throwback",
          "punk/celtic",
          "punk/pop punk",
          "r&b/modern",
          "reggae/classic",
          "reggae/fusion",
          "rock/80s",
          "rock/alternative",
          "rock/classic",
          "rock/feel-good",
          "rock/indie",
          "rock/modern",
          "rock/post-rock",
          "rock/southern",
          "rock/spanish",
          "soca/carnival",
          "soul/classic",
          "turkish/pop",
          "wellness/yoga",
          "world/cajun",
          "world/chinese",
          "world/indigenous",
          "world/japanese",
          "world/jewish",
          "world/klezmer",
          "world/throat singing",
          "afrobeats",
          "ambient",
          "arabic",
          "blues",
          "brazilian",
          "cantopop",
          "classical",
          "country",
          "disco",
          "electronic",
          "folk",
          "funk",
          "gaming",
          "gospel",
          "hip-hop",
          "indian",
          "indie",
          "j-pop",
          "jazz",
          "k-pop",
          "korean",
          "latin",
          "lofi",
          "mandopop",
          "metal",
          "pop",
          "punk",
          "r&b",
          "reggae",
          "rock",
          "soca",
          "soul",
          "turkish",
          "wellness",
          "world"
         ],
         "labels": [
          "african",
          "amapiano",
          "gqom",
          "nigerian",
          "academic",
          "chill",
          "meditative",
          "noir",
          "chill",
          "modern",
          "classic",
          "delta",
          "forró",
          "funk",
          "samba",
          "classic",
          "choral",
          "cinematic",
          "essential",
          "modern",
          "neo-classical",
          "classic",
          "italo",
          "african",
          "afro house",
          "deep house",
          "experimental",
          "french",
          "future bass",
          "hardstyle",
          "modern",
          "nordic",
          "retro",
          "techno",
          "tropical",
          "vaporwave",
          "american",
          "indie",
          "irish",
          "nordic",
          "future",
          "modern",
          "soundtracks",
          "african",
          "modern",
          "90s",
          "chill",
          "desi",
          "drill",
          "french",
          "gangster",
          "grime",
          "melodic",
          "modern",
          "trap",
          "bhangra",
          "bollywood",
          "classical",
          "workout",
          "australian",
          "anime",
          "avant-garde",
          "classic",
          "latin",
          "modern",
          "smooth",
          "modern",
          "drama",
          "afro-latin",
          "chill",
          "cumbia",
          "hip-hop",
          "modern",
          "reggaeton",
          "tango",
          "trap",
          "chill",
          "hip-hop",
          "modern",
          "classic",
          "death",
          "heavy",
          "bedroom",
          "global",
          "mainstream",
          "scandi",
          "soft",
          "throwback",
          "celtic",
          "pop punk",
          "modern",
          "classic",
          "fusion",
          "80s",
          "alternative",
          "classic",
          "feel-good",
          "indie",
          "modern",
          "post-rock",
          "southern",
          "spanish",
          "carnival",
          "classic",
          "pop",
          "yoga",
          "cajun",
          "chinese",
          "indigenous",
          "japanese",
          "jewish",
          "klezmer",
          "throat singing",
          "afrobeats",
          "ambient",
          "arabic",
          "blues",
          "brazilian",
          "cantopop",
          "classical",
          "country",
          "disco",
          "electronic",
          "folk",
          "funk",
          "gaming",
          "gospel",
          "hip-hop",
          "indian",
          "indie",
          "j-pop",
          "jazz",
          "k-pop",
          "korean",
          "latin",
          "lofi",
          "mandopop",
          "metal",
          "pop",
          "punk",
          "r&b",
          "reggae",
          "rock",
          "soca",
          "soul",
          "turkish",
          "wellness",
          "world"
         ],
         "marker": {
          "coloraxis": "coloraxis",
          "colors": {
           "bdata": "VVVVVVWFUEBVVVVVVZVIQJqZmZmZmTxAMzMzMzOzT0CY0F5Ce+lQQDbZZJNNdkhAtkTuby2RR0AAAAAAACA2QAAAAAAAwDpA+/r6+vr6SUCfdYMp8plQQNu2bdu2bTlAKvJZN5giPkAzMzMzM7NMQBvKayivoTlAewntJbSXOED2KFyPwvU/QKuqqqqqekJAZHA+BufjSkAndmInduJHQBzHcRzH8U9Auuiiiy46SEAAAAAAAAA4QDuxEzuxEzdAVVVVVVXVT0AjLPc0wnJIQG7btm3bNkRAfjUm0gPVSUBERERERERIQOKOuCPuiEtAMzMzMzPzUkCamZmZmRk3QE/sxE7sBENApze96U0vUkCVUkoppdRLQNFFF110cVBAVVVVVVW1UEAAAAAAAC5SQKuqqqqqqklAVVVVVVUVQUBu27Zt2xZAQOxRuB6FG1RAL7rooouuREDsxE7sxM5KQCd2Yid24kVAp6wpa8oaUUAXXXTRRddSQBmcj8H5WFBASZIkSZIkTEAAAAAAAIBKQLHc0wjL/U9A9aY3velNP0D44IMPPjhSQMF9BPcRXE1AAAAAAAAAUkCamZmZmRlFQDMzMzMzc1BAAAAAAADwNEAAAAAAAChOQPHw8PDw8E5AnN70pjc9UEAAAAAAAIAyQAAAAAAAkEtAq6qqqqqqPkAVL5BJ8YJHQAAAAAAAAEhA8fDw8PAwUUDT0tLS0hJPQDzijrgjbkxAUJbApv1kREDNzMzMzExFQDi96U1vekZA7og74o74U0DJnoGodMRQQGZmZmZmZjZA5TWU11DeQkBJkiRJkgRJQN3c3NzcnERASZIkSZLkSkAAAAAAAIRSQAAAAAAAAFFAmpmZmZmZT0ByHMdxHOdOQOxRuB6F61VAFsTkCmKyVUAIKme38Ks6QFkfGutDo1NA7+7u7u4uU0Bu27Zt23ZIQLy7u7u7u1FACtejcD0KU0BddNFFF91OQDuxEzuxE0xAKH3SJ31SUkC0mM5iOgtRQFcQkyuIiVJAd3d3d3eXUEBJkiRJkqRCQAAAAAAAIExAAAAAAACAN0CrqqqqqmpLQFVVVVVVVVBA27Zt27btREC66KKLLlpKQIJEK2wOpElAmpmZmZnBSECamZmZmRk/QGWfQ2qC8UBAo4suuuiiNUB5DeU1lNc4QApMOjUPcjZAuuiiiy66P0B605ve9CZLQInalahdSUpA6zE2LO7+SEBP7MRO7LxJQNFFF1108U1AgynyWTfYQ0B7Ce0ltJc4QKtnh8CNZUdAuuiiiy46SEAAAAAAAAA4QKBLmpH1d0pAS0tLS0vLTUBu27Zt2xZAQPMaymsor1FAaZAGaZCGR0AZzoaQg79PQKazmM5iukZA8fDw8PDwTkCc3vSmNz1QQPXq1atXL0dA8fDw8PAwUUDT0tLS0hJPQPHw8PDw8EtAdcwlwpOCR0BJkiRJkuRKQIjG+tBYX1FA2xia7mA/UEAV+awbTLFQQArXo3A9ClNAq6qqqqpaTUDyShNWbJ5QQNu2bdu27URAuuiiiy5aSkCCRCtsDqRJQJqZmZmZwUhA6iyms5hOPUA=",
           "dtype": "f8"
          }
         },
         "name": "",
         "parents": [
          "afrobeats",
          "afrobeats",
          "afrobeats",
          "afrobeats",
          "ambient",
          "ambient",
          "ambient",
          "ambient",
          "arabic",
          "arabic",
          "blues",
          "blues",
          "brazilian",
          "brazilian",
          "brazilian",
          "cantopop",
          "classical",
          "classical",
          "classical",
          "classical",
          "classical",
          "country",
          "disco",
          "electronic",
          "electronic",
          "electronic",
          "electronic",
          "electronic",
          "electronic",
          "electronic",
          "electronic",
          "electronic",
          "electronic",
          "electronic",
          "electronic",
          "electronic",
          "folk",
          "folk",
          "folk",
          "folk",
          "funk",
          "gaming",
          "gaming",
          "gospel",
          "gospel",
          "hip-hop",
          "hip-hop",
          "hip-hop",
          "hip-hop",
          "hip-hop",
          "hip-hop",
          "hip-hop",
          "hip-hop",
          "hip-hop",
          "hip-hop",
          "indian",
          "indian",
          "indian",
          "indian",
          "indie",
          "j-pop",
          "jazz",
          "jazz",
          "jazz",
          "jazz",
          "jazz",
          "k-pop",
          "korean",
          "latin",
          "latin",
          "latin",
          "latin",
          "latin",
          "latin",
          "latin",
          "latin",
          "lofi",
          "lofi",
          "mandopop",
          "metal",
          "metal",
          "metal",
          "pop",
          "pop",
          "pop",
          "pop",
          "pop",
          "pop",
          "punk",
          "punk",
          "r&b",
          "reggae",
          "reggae",
          "rock",
          "rock",
          "rock",
          "rock",
          "rock",
          "rock",
          "rock",
          "rock",
          "rock",
          "soca",
          "soul",
          "turkish",
          "wellness",
          "world",
          "world",
          "world",
          "world",
          "world",
          "world",
          "world",
          "",
          "",
          "",
          "",
          "",
          "",
          "",
          "",
          "",
          "",
          "",
          "",
          "",
          "",
          "",
          "",
          "",
          "",
          "",
          "",
          "",
          "",
          "",
          "",
          "",
          "",
          "",
          "",
          "",
          "",
          "",
          "",
          "",
          "",
          ""
         ],
         "type": "sunburst",
         "values": {
          "bdata": "AAAAAAAAOEAAAAAAAAAyQAAAAAAAADRAAAAAAAAANEAAAAAAAABLQAAAAAAAgFBAAAAAAADgbEAAAAAAAAAgQAAAAAAAABBAAAAAAACAaUAAAAAAAIBSQAAAAAAAACxAAAAAAACAUkAAAAAAAIBLQAAAAAAAADNAAAAAAAAAO0AAAAAAAAA5QAAAAAAAADhAAAAAAACAREAAAAAAAAAqQAAAAAAAADJAAAAAAAAAJkAAAAAAAAAiQAAAAAAAACpAAAAAAAAAQkAAAAAAAABNQAAAAAAAACxAAAAAAADAYEAAAAAAAAAuQAAAAAAAgEVAAAAAAAAATkAAAAAAAABOQAAAAAAAADpAAAAAAAAAR0AAAAAAAABPQAAAAAAAADZAAAAAAAAAKEAAAAAAAABAQAAAAAAAABhAAAAAAAAAMkAAAAAAAAA8QAAAAAAAAFlAAAAAAACAQEAAAAAAAAAqQAAAAAAAADpAAAAAAACARUAAAAAAAABGQAAAAAAAgERAAAAAAAAAPEAAAAAAAAA7QAAAAAAAAE1AAAAAAAAAN0AAAAAAAIBAQAAAAAAAgExAAAAAAACAREAAAAAAAAAuQAAAAAAAACRAAAAAAAAAMEAAAAAAAAAwQAAAAAAAADFAAAAAAAAAN0AAAAAAAAAAQAAAAAAAADBAAAAAAAAAKEAAAAAAAMBVQAAAAAAAAD1AAAAAAAAAMUAAAAAAAABBQAAAAAAAgEVAAAAAAABAW0AAAAAAAAA0QAAAAAAAADdAAAAAAACARUAAAAAAAMBjQAAAAAAAACRAAAAAAAAAM0AAAAAAAIBoQAAAAAAAgFlAAAAAAAAALEAAAAAAAAAwQAAAAAAAADxAAAAAAAAAFEAAAAAAAABCQAAAAAAAAElAAAAAAACAR0AAAAAAAMBgQAAAAAAAgFhAAAAAAADAYkAAAAAAAAAsQAAAAAAAAE5AAAAAAAAASUAAAAAAAAAmQAAAAAAAACpAAAAAAACARkAAAAAAAIBMQAAAAAAAgFdAAAAAAAAATkAAAAAAAAA1QAAAAAAAADhAAAAAAAAAAEAAAAAAAAAoQAAAAAAAAD5AAAAAAAAALEAAAAAAAABGQAAAAAAAwFFAAAAAAAAAVEAAAAAAAAAkQAAAAAAAgEpAAAAAAAAAJkAAAAAAAAAzQAAAAAAAQFlAAAAAAAAAJkAAAAAAAAA3QAAAAAAAgFRAAAAAAABwdkAAAAAAAABqQAAAAAAAAFZAAAAAAACAYkAAAAAAAAA7QAAAAAAAQF5AAAAAAAAAJkAAAAAAAAAiQAAAAAAAaIJAAAAAAAAAUUAAAAAAAAA8QAAAAAAAoGBAAAAAAACAQ0AAAAAAALB4QAAAAAAAgExAAAAAAAAAMUAAAAAAAAA3QAAAAAAAQGJAAAAAAAAAMUAAAAAAAABBQAAAAAAAkHpAAAAAAACgckAAAAAAAAAsQAAAAAAAgEhAAAAAAAAYgEAAAAAAAIBSQAAAAAAAAElAAAAAAAAAOEAAAAAAAJB1QAAAAAAAACxAAAAAAAAARkAAAAAAAMBRQAAAAAAAAFRAAAAAAACAbEA=",
          "dtype": "f8"
         }
        }
       ],
       "layout": {
        "coloraxis": {
         "colorbar": {
          "title": {
           "text": "avg_popularity"
          }
         },
         "colorscale": [
          [
           0,
           "rgb(255,255,217)"
          ],
          [
           0.125,
           "rgb(237,248,177)"
          ],
          [
           0.25,
           "rgb(199,233,180)"
          ],
          [
           0.375,
           "rgb(127,205,187)"
          ],
          [
           0.5,
           "rgb(65,182,196)"
          ],
          [
           0.625,
           "rgb(29,145,192)"
          ],
          [
           0.75,
           "rgb(34,94,168)"
          ],
          [
           0.875,
           "rgb(37,52,148)"
          ],
          [
           1,
           "rgb(8,29,88)"
          ]
         ]
        },
        "height": 1000,
        "legend": {
         "tracegroupgap": 0
        },
        "template": {
         "data": {
          "bar": [
           {
            "error_x": {
             "color": "#2a3f5f"
            },
            "error_y": {
             "color": "#2a3f5f"
            },
            "marker": {
             "line": {
              "color": "#E5ECF6",
              "width": 0.5
             },
             "pattern": {
              "fillmode": "overlay",
              "size": 10,
              "solidity": 0.2
             }
            },
            "type": "bar"
           }
          ],
          "barpolar": [
           {
            "marker": {
             "line": {
              "color": "#E5ECF6",
              "width": 0.5
             },
             "pattern": {
              "fillmode": "overlay",
              "size": 10,
              "solidity": 0.2
             }
            },
            "type": "barpolar"
           }
          ],
          "carpet": [
           {
            "aaxis": {
             "endlinecolor": "#2a3f5f",
             "gridcolor": "white",
             "linecolor": "white",
             "minorgridcolor": "white",
             "startlinecolor": "#2a3f5f"
            },
            "baxis": {
             "endlinecolor": "#2a3f5f",
             "gridcolor": "white",
             "linecolor": "white",
             "minorgridcolor": "white",
             "startlinecolor": "#2a3f5f"
            },
            "type": "carpet"
           }
          ],
          "choropleth": [
           {
            "colorbar": {
             "outlinewidth": 0,
             "ticks": ""
            },
            "type": "choropleth"
           }
          ],
          "contour": [
           {
            "colorbar": {
             "outlinewidth": 0,
             "ticks": ""
            },
            "colorscale": [
             [
              0,
              "#0d0887"
             ],
             [
              0.1111111111111111,
              "#46039f"
             ],
             [
              0.2222222222222222,
              "#7201a8"
             ],
             [
              0.3333333333333333,
              "#9c179e"
             ],
             [
              0.4444444444444444,
              "#bd3786"
             ],
             [
              0.5555555555555556,
              "#d8576b"
             ],
             [
              0.6666666666666666,
              "#ed7953"
             ],
             [
              0.7777777777777778,
              "#fb9f3a"
             ],
             [
              0.8888888888888888,
              "#fdca26"
             ],
             [
              1,
              "#f0f921"
             ]
            ],
            "type": "contour"
           }
          ],
          "contourcarpet": [
           {
            "colorbar": {
             "outlinewidth": 0,
             "ticks": ""
            },
            "type": "contourcarpet"
           }
          ],
          "heatmap": [
           {
            "colorbar": {
             "outlinewidth": 0,
             "ticks": ""
            },
            "colorscale": [
             [
              0,
              "#0d0887"
             ],
             [
              0.1111111111111111,
              "#46039f"
             ],
             [
              0.2222222222222222,
              "#7201a8"
             ],
             [
              0.3333333333333333,
              "#9c179e"
             ],
             [
              0.4444444444444444,
              "#bd3786"
             ],
             [
              0.5555555555555556,
              "#d8576b"
             ],
             [
              0.6666666666666666,
              "#ed7953"
             ],
             [
              0.7777777777777778,
              "#fb9f3a"
             ],
             [
              0.8888888888888888,
              "#fdca26"
             ],
             [
              1,
              "#f0f921"
             ]
            ],
            "type": "heatmap"
           }
          ],
          "histogram": [
           {
            "marker": {
             "pattern": {
              "fillmode": "overlay",
              "size": 10,
              "solidity": 0.2
             }
            },
            "type": "histogram"
           }
          ],
          "histogram2d": [
           {
            "colorbar": {
             "outlinewidth": 0,
             "ticks": ""
            },
            "colorscale": [
             [
              0,
              "#0d0887"
             ],
             [
              0.1111111111111111,
              "#46039f"
             ],
             [
              0.2222222222222222,
              "#7201a8"
             ],
             [
              0.3333333333333333,
              "#9c179e"
             ],
             [
              0.4444444444444444,
              "#bd3786"
             ],
             [
              0.5555555555555556,
              "#d8576b"
             ],
             [
              0.6666666666666666,
              "#ed7953"
             ],
             [
              0.7777777777777778,
              "#fb9f3a"
             ],
             [
              0.8888888888888888,
              "#fdca26"
             ],
             [
              1,
              "#f0f921"
             ]
            ],
            "type": "histogram2d"
           }
          ],
          "histogram2dcontour": [
           {
            "colorbar": {
             "outlinewidth": 0,
             "ticks": ""
            },
            "colorscale": [
             [
              0,
              "#0d0887"
             ],
             [
              0.1111111111111111,
              "#46039f"
             ],
             [
              0.2222222222222222,
              "#7201a8"
             ],
             [
              0.3333333333333333,
              "#9c179e"
             ],
             [
              0.4444444444444444,
              "#bd3786"
             ],
             [
              0.5555555555555556,
              "#d8576b"
             ],
             [
              0.6666666666666666,
              "#ed7953"
             ],
             [
              0.7777777777777778,
              "#fb9f3a"
             ],
             [
              0.8888888888888888,
              "#fdca26"
             ],
             [
              1,
              "#f0f921"
             ]
            ],
            "type": "histogram2dcontour"
           }
          ],
          "mesh3d": [
           {
            "colorbar": {
             "outlinewidth": 0,
             "ticks": ""
            },
            "type": "mesh3d"
           }
          ],
          "parcoords": [
           {
            "line": {
             "colorbar": {
              "outlinewidth": 0,
              "ticks": ""
             }
            },
            "type": "parcoords"
           }
          ],
          "pie": [
           {
            "automargin": true,
            "type": "pie"
           }
          ],
          "scatter": [
           {
            "fillpattern": {
             "fillmode": "overlay",
             "size": 10,
             "solidity": 0.2
            },
            "type": "scatter"
           }
          ],
          "scatter3d": [
           {
            "line": {
             "colorbar": {
              "outlinewidth": 0,
              "ticks": ""
             }
            },
            "marker": {
             "colorbar": {
              "outlinewidth": 0,
              "ticks": ""
             }
            },
            "type": "scatter3d"
           }
          ],
          "scattercarpet": [
           {
            "marker": {
             "colorbar": {
              "outlinewidth": 0,
              "ticks": ""
             }
            },
            "type": "scattercarpet"
           }
          ],
          "scattergeo": [
           {
            "marker": {
             "colorbar": {
              "outlinewidth": 0,
              "ticks": ""
             }
            },
            "type": "scattergeo"
           }
          ],
          "scattergl": [
           {
            "marker": {
             "colorbar": {
              "outlinewidth": 0,
              "ticks": ""
             }
            },
            "type": "scattergl"
           }
          ],
          "scattermap": [
           {
            "marker": {
             "colorbar": {
              "outlinewidth": 0,
              "ticks": ""
             }
            },
            "type": "scattermap"
           }
          ],
          "scattermapbox": [
           {
            "marker": {
             "colorbar": {
              "outlinewidth": 0,
              "ticks": ""
             }
            },
            "type": "scattermapbox"
           }
          ],
          "scatterpolar": [
           {
            "marker": {
             "colorbar": {
              "outlinewidth": 0,
              "ticks": ""
             }
            },
            "type": "scatterpolar"
           }
          ],
          "scatterpolargl": [
           {
            "marker": {
             "colorbar": {
              "outlinewidth": 0,
              "ticks": ""
             }
            },
            "type": "scatterpolargl"
           }
          ],
          "scatterternary": [
           {
            "marker": {
             "colorbar": {
              "outlinewidth": 0,
              "ticks": ""
             }
            },
            "type": "scatterternary"
           }
          ],
          "surface": [
           {
            "colorbar": {
             "outlinewidth": 0,
             "ticks": ""
            },
            "colorscale": [
             [
              0,
              "#0d0887"
             ],
             [
              0.1111111111111111,
              "#46039f"
             ],
             [
              0.2222222222222222,
              "#7201a8"
             ],
             [
              0.3333333333333333,
              "#9c179e"
             ],
             [
              0.4444444444444444,
              "#bd3786"
             ],
             [
              0.5555555555555556,
              "#d8576b"
             ],
             [
              0.6666666666666666,
              "#ed7953"
             ],
             [
              0.7777777777777778,
              "#fb9f3a"
             ],
             [
              0.8888888888888888,
              "#fdca26"
             ],
             [
              1,
              "#f0f921"
             ]
            ],
            "type": "surface"
           }
          ],
          "table": [
           {
            "cells": {
             "fill": {
              "color": "#EBF0F8"
             },
             "line": {
              "color": "white"
             }
            },
            "header": {
             "fill": {
              "color": "#C8D4E3"
             },
             "line": {
              "color": "white"
             }
            },
            "type": "table"
           }
          ]
         },
         "layout": {
          "annotationdefaults": {
           "arrowcolor": "#2a3f5f",
           "arrowhead": 0,
           "arrowwidth": 1
          },
          "autotypenumbers": "strict",
          "coloraxis": {
           "colorbar": {
            "outlinewidth": 0,
            "ticks": ""
           }
          },
          "colorscale": {
           "diverging": [
            [
             0,
             "#8e0152"
            ],
            [
             0.1,
             "#c51b7d"
            ],
            [
             0.2,
             "#de77ae"
            ],
            [
             0.3,
             "#f1b6da"
            ],
            [
             0.4,
             "#fde0ef"
            ],
            [
             0.5,
             "#f7f7f7"
            ],
            [
             0.6,
             "#e6f5d0"
            ],
            [
             0.7,
             "#b8e186"
            ],
            [
             0.8,
             "#7fbc41"
            ],
            [
             0.9,
             "#4d9221"
            ],
            [
             1,
             "#276419"
            ]
           ],
           "sequential": [
            [
             0,
             "#0d0887"
            ],
            [
             0.1111111111111111,
             "#46039f"
            ],
            [
             0.2222222222222222,
             "#7201a8"
            ],
            [
             0.3333333333333333,
             "#9c179e"
            ],
            [
             0.4444444444444444,
             "#bd3786"
            ],
            [
             0.5555555555555556,
             "#d8576b"
            ],
            [
             0.6666666666666666,
             "#ed7953"
            ],
            [
             0.7777777777777778,
             "#fb9f3a"
            ],
            [
             0.8888888888888888,
             "#fdca26"
            ],
            [
             1,
             "#f0f921"
            ]
           ],
           "sequentialminus": [
            [
             0,
             "#0d0887"
            ],
            [
             0.1111111111111111,
             "#46039f"
            ],
            [
             0.2222222222222222,
             "#7201a8"
            ],
            [
             0.3333333333333333,
             "#9c179e"
            ],
            [
             0.4444444444444444,
             "#bd3786"
            ],
            [
             0.5555555555555556,
             "#d8576b"
            ],
            [
             0.6666666666666666,
             "#ed7953"
            ],
            [
             0.7777777777777778,
             "#fb9f3a"
            ],
            [
             0.8888888888888888,
             "#fdca26"
            ],
            [
             1,
             "#f0f921"
            ]
           ]
          },
          "colorway": [
           "#636efa",
           "#EF553B",
           "#00cc96",
           "#ab63fa",
           "#FFA15A",
           "#19d3f3",
           "#FF6692",
           "#B6E880",
           "#FF97FF",
           "#FECB52"
          ],
          "font": {
           "color": "#2a3f5f"
          },
          "geo": {
           "bgcolor": "white",
           "lakecolor": "white",
           "landcolor": "#E5ECF6",
           "showlakes": true,
           "showland": true,
           "subunitcolor": "white"
          },
          "hoverlabel": {
           "align": "left"
          },
          "hovermode": "closest",
          "mapbox": {
           "style": "light"
          },
          "paper_bgcolor": "white",
          "plot_bgcolor": "#E5ECF6",
          "polar": {
           "angularaxis": {
            "gridcolor": "white",
            "linecolor": "white",
            "ticks": ""
           },
           "bgcolor": "#E5ECF6",
           "radialaxis": {
            "gridcolor": "white",
            "linecolor": "white",
            "ticks": ""
           }
          },
          "scene": {
           "xaxis": {
            "backgroundcolor": "#E5ECF6",
            "gridcolor": "white",
            "gridwidth": 2,
            "linecolor": "white",
            "showbackground": true,
            "ticks": "",
            "zerolinecolor": "white"
           },
           "yaxis": {
            "backgroundcolor": "#E5ECF6",
            "gridcolor": "white",
            "gridwidth": 2,
            "linecolor": "white",
            "showbackground": true,
            "ticks": "",
            "zerolinecolor": "white"
           },
           "zaxis": {
            "backgroundcolor": "#E5ECF6",
            "gridcolor": "white",
            "gridwidth": 2,
            "linecolor": "white",
            "showbackground": true,
            "ticks": "",
            "zerolinecolor": "white"
           }
          },
          "shapedefaults": {
           "line": {
            "color": "#2a3f5f"
           }
          },
          "ternary": {
           "aaxis": {
            "gridcolor": "white",
            "linecolor": "white",
            "ticks": ""
           },
           "baxis": {
            "gridcolor": "white",
            "linecolor": "white",
            "ticks": ""
           },
           "bgcolor": "#E5ECF6",
           "caxis": {
            "gridcolor": "white",
            "linecolor": "white",
            "ticks": ""
           }
          },
          "title": {
           "x": 0.05
          },
          "xaxis": {
           "automargin": true,
           "gridcolor": "white",
           "linecolor": "white",
           "ticks": "",
           "title": {
            "standoff": 15
           },
           "zerolinecolor": "white",
           "zerolinewidth": 2
          },
          "yaxis": {
           "automargin": true,
           "gridcolor": "white",
           "linecolor": "white",
           "ticks": "",
           "title": {
            "standoff": 15
           },
           "zerolinecolor": "white",
           "zerolinewidth": 2
          }
         }
        },
        "title": {
         "text": "Genre & Sub-genre by Song Count and Popularity"
        },
        "width": 1000
       }
      }
     },
     "metadata": {},
     "output_type": "display_data"
    }
   ],
   "source": [
    "# Only aggregate by genre + sub-genre\n",
    "subgenre_df = combined_popularity.groupby(['playlist_genre', 'playlist_subgenre']).agg(\n",
    "    song_count=('track_name', 'count'),\n",
    "    avg_popularity=('track_popularity', 'mean')\n",
    ").reset_index()\n",
    "\n",
    "# Plot: size = song count, color = avg popularity\n",
    "import plotly.express as px\n",
    "\n",
    "fig = px.sunburst(subgenre_df,\n",
    "                  path=['playlist_genre', 'playlist_subgenre'],\n",
    "                  values='song_count',            # size by actual count\n",
    "                  color='avg_popularity',         # color by average popularity\n",
    "                  color_continuous_scale='YlGnBu',\n",
    "                  title='Genre & Sub-genre by Song Count and Popularity')\n",
    "\n",
    "fig.update_layout(width=1000, height=1000)\n",
    "fig.show()"
   ]
  },
  {
   "cell_type": "code",
   "execution_count": 8,
   "metadata": {},
   "outputs": [
    {
     "data": {
      "image/png": "[encoded data removed]",
      "text/plain": [
       "<Figure size 1200x600 with 1 Axes>"
      ]
     },
     "metadata": {},
     "output_type": "display_data"
    }
   ],
   "source": [
    "# Combined popularity\n",
    "combined_popularity = pd.concat([high_song_popularity, low_song_popularity], ignore_index=True)\n",
    "\n",
    "plt.figure(figsize=(12, 6))\n",
    "sns.boxplot(data=combined_popularity, x='playlist_genre', y='track_popularity')\n",
    "plt.title('Popularity Distribution by Genre')\n",
    "plt.xlabel('Genre')\n",
    "plt.ylabel('Track Popularity')\n",
    "plt.xticks(rotation=90)\n",
    "plt.tight_layout()\n",
    "plt.show()"
   ]
  },
  {
   "cell_type": "markdown",
   "metadata": {},
   "source": [
    "### Timeline Plot"
   ]
  },
  {
   "cell_type": "code",
   "execution_count": 9,
   "metadata": {},
   "outputs": [
    {
     "data": {
      "image/png": "[encoded data removed]",
      "text/plain": [
       "<Figure size 1000x600 with 1 Axes>"
      ]
     },
     "metadata": {},
     "output_type": "display_data"
    }
   ],
   "source": [
    "# Convert datetime and extract year\n",
    "high_song_popularity['release_date'] = pd.to_datetime(high_song_popularity['track_album_release_date'], errors='coerce')\n",
    "high_song_popularity['release_year'] = high_song_popularity['release_date'].dt.year\n",
    "\n",
    "# Average tempo per year\n",
    "avg_tempo_per_year = high_song_popularity.groupby('release_year')['tempo'].mean().reset_index()\n",
    "\n",
    "plt.figure(figsize=(10,6))\n",
    "plt.plot(avg_tempo_per_year['release_year'], avg_tempo_per_year['tempo'], marker='o', color='green')\n",
    "plt.title('Average Tempo Over Time')\n",
    "plt.xlabel('Release Year')\n",
    "plt.ylabel('Average Tempo')\n",
    "plt.grid(True)\n",
    "plt.tight_layout()\n",
    "plt.show()"
   ]
  },
  {
   "cell_type": "markdown",
   "metadata": {},
   "source": [
    "### Genre-Based Feature Averages\n"
   ]
  },
  {
   "cell_type": "code",
   "execution_count": 10,
   "metadata": {},
   "outputs": [
    {
     "data": {
      "image/png": "[encoded data removed]",
      "text/plain": [
       "<Figure size 1000x600 with 1 Axes>"
      ]
     },
     "metadata": {},
     "output_type": "display_data"
    }
   ],
   "source": [
    "# Add column\n",
    "high_song_popularity[\"popularity_label\"] = \"Popular\"\n",
    "low_song_popularity[\"popularity_label\"] = \"Non-Popular\"\n",
    "\n",
    "genre_feature_avg = high_song_popularity.groupby('playlist_genre')[['energy', 'danceability', 'loudness', 'tempo', 'valence',\n",
    "    'acousticness', 'instrumentalness', 'speechiness']].mean().reset_index()\n",
    "\n",
    "plt.figure(figsize=(10, 6))\n",
    "sns.barplot(data=genre_feature_avg, x='playlist_genre', y='energy', hue='playlist_genre', palette='viridis', legend=False)\n",
    "plt.title('Average Energy of Popular Songs by Genre')\n",
    "plt.xticks(rotation=45)\n",
    "plt.ylabel('Energy')\n",
    "plt.xlabel('Genre')\n",
    "plt.tight_layout()\n",
    "\n",
    "\n",
    "plt.show()"
   ]
  },
  {
   "cell_type": "markdown",
   "metadata": {},
   "source": [
    "# Model"
   ]
  },
  {
   "cell_type": "markdown",
   "metadata": {},
   "source": [
    "## Cleaning data for model"
   ]
  },
  {
   "cell_type": "code",
   "execution_count": 11,
   "metadata": {},
   "outputs": [],
   "source": [
    "# Combined popularity\n",
    "combined_popularity_df = pd.concat([high_song_popularity, low_song_popularity], ignore_index=True)\n",
    "\n",
    "# Create \"hit\" column from \"track_popularity\" for 1 and 0 input. If populartiy is lower than 70 it's 0 and higher it's 1\n",
    "combined_popularity_df['hit'] = combined_popularity['track_popularity'].apply(lambda x: 1 if x >= 70 else 0)\n",
    "\n",
    "# Drop useless columns for the model\n",
    "combined_popularity_df = combined_popularity_df.drop(columns=['track_name', 'track_artist', 'id', 'track_popularity', 'track_album_release_date',\n",
    "                                                               'release_date', 'release_year', 'popularity_label', 'playlist_genre', 'playlist_subgenre'])\n"
   ]
  },
  {
   "cell_type": "markdown",
   "metadata": {},
   "source": [
    "## Train Model"
   ]
  },
  {
   "cell_type": "code",
   "execution_count": 12,
   "metadata": {},
   "outputs": [],
   "source": [
    "# Split feature and target\n",
    "X = combined_popularity_df.drop('hit', axis=1) # Audio features only\n",
    "y = combined_popularity_df['hit'] # This is the target which conatains the answer sheet with hit 0 means no hit and 1 means hit\n",
    "\n",
    "#print(X.sum())\n",
    "\n",
    "# Test\n",
    "#y.name = 'target'\n",
    "#combined_popularity_df = pd.concat([X, y], axis= 1)\n",
    "#correlation = combined_popularity_df.corr()\n",
    "#print(correlation['target'].sort_values(ascending=False))\n",
    "\n",
    "# Split data\n",
    "X_train, X_test, y_train, y_test = train_test_split(X, y, test_size=0.2, random_state=42)\n",
    "\n",
    "# Test\n",
    "#scaler = StandardScaler()\n",
    "#X_train_scaled = scaler.fit_transform(X_train)\n",
    "#X_test_scaled = scaler.transform(X_test)\n",
    "\n",
    "# Check for overlapping rows\n",
    "X_train_df = X_train.copy()\n",
    "X_test_df = X_test.copy()\n",
    "\n",
    "X_train_df['is_train'] = True\n",
    "X_test_df['is_train'] = False\n",
    "\n",
    "#combined_split = pd.concat([X_train_df, X_test_df])\n",
    "#combined_split = combined_split.drop_duplicates(keep=False)\n",
    "\n",
    "# Rebuild X and y without overlaps\n",
    "#X_clean = combined_split.drop(columns=['is_train'])\n",
    "#y_clean = y.loc[X_clean.index]\n",
    "\n",
    "#overlap = pd.merge(X_train_df, X_test_df, how='inner')\n",
    "#print(f\"Overlapping rows between train and test sets: {len(overlap)}\")\n",
    "\n",
    "\n",
    "# Train model\n",
    "#model = XGBClassifier(use_label_encoder=False, eval_metric=\"logloss\")\n",
    "#model.fit(X_train, y_train)\n",
    "\n",
    "# Predict and evalute\n",
    "#y_pred = model.predict(X_test)\n",
    "#print(confusion_matrix(y_test, y_pred))\n",
    "#print(classification_report(y_test, y_pred))"
   ]
  }
 ],
 "metadata": {
  "kernelspec": {
   "display_name": "myenv",
   "language": "python",
   "name": "python3"
  },
  "language_info": {
   "codemirror_mode": {
    "name": "ipython",
    "version": 3
   },
   "file_extension": ".py",
   "mimetype": "text/x-python",
   "name": "python",
   "nbconvert_exporter": "python",
   "pygments_lexer": "ipython3",
   "version": "3.13.3"
  }
 },
 "nbformat": 4,
 "nbformat_minor": 2
}
